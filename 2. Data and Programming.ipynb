{
 "cells": [
  {
   "cell_type": "markdown",
   "id": "4ad62e07",
   "metadata": {},
   "source": [
    "# Learn R for Statistics\n",
    "## Section 2: Data and Programming\n",
    "### 1. Data types"
   ]
  },
  {
   "cell_type": "markdown",
   "id": "6bacbd56",
   "metadata": {},
   "source": [
    "R has a number of basic data types\n",
    "- Numeric (Double)\n",
    "- Integer\n",
    "- Complex\n",
    "- Logical\n",
    "- Character"
   ]
  },
  {
   "cell_type": "code",
   "execution_count": 2,
   "id": "97125bb9",
   "metadata": {},
   "outputs": [
    {
     "data": {
      "text/html": [
       "10.1"
      ],
      "text/latex": [
       "10.1"
      ],
      "text/markdown": [
       "10.1"
      ],
      "text/plain": [
       "[1] 10.1"
      ]
     },
     "metadata": {},
     "output_type": "display_data"
    },
    {
     "data": {
      "text/html": [
       "30"
      ],
      "text/latex": [
       "30"
      ],
      "text/markdown": [
       "30"
      ],
      "text/plain": [
       "[1] 30"
      ]
     },
     "metadata": {},
     "output_type": "display_data"
    },
    {
     "data": {
      "text/html": [
       "4+2i"
      ],
      "text/latex": [
       "4+2i"
      ],
      "text/markdown": [
       "4+2i"
      ],
      "text/plain": [
       "[1] 4+2i"
      ]
     },
     "metadata": {},
     "output_type": "display_data"
    },
    {
     "data": {
      "text/html": [
       "TRUE"
      ],
      "text/latex": [
       "TRUE"
      ],
      "text/markdown": [
       "TRUE"
      ],
      "text/plain": [
       "[1] TRUE"
      ]
     },
     "metadata": {},
     "output_type": "display_data"
    },
    {
     "data": {
      "text/html": [
       "'Statistics'"
      ],
      "text/latex": [
       "'Statistics'"
      ],
      "text/markdown": [
       "'Statistics'"
      ],
      "text/plain": [
       "[1] \"Statistics\""
      ]
     },
     "metadata": {},
     "output_type": "display_data"
    }
   ],
   "source": [
    "10.1 \n",
    "30L\n",
    "4 + 2i\n",
    "TRUE\n",
    "\"Statistics\""
   ]
  },
  {
   "cell_type": "markdown",
   "id": "d6439b29",
   "metadata": {},
   "source": [
    "### 2. Data structures\n",
    "R also has a number of basic data structures. A data structure is either homogeneous (all elements are of the same data type) or heterogeneous (elements can be of more than one data type)."
   ]
  },
  {
   "cell_type": "markdown",
   "id": "417fe7bb",
   "metadata": {},
   "source": [
    "#### 2.1 Vectors\n",
    "Data structure that store element of the same type. Many operations in R make heavy use of vectors. Vectors in R are indexed\n",
    "starting at 1. Larger vectors will start additional rows with [*] where * is the index of the first element of the row.\n",
    "\n",
    "##### To create a vector there are four ways:\n",
    "- c()\n",
    "- :\n",
    "- seq()\n",
    "- rep()\n",
    "\n",
    "###### Use c()"
   ]
  },
  {
   "cell_type": "code",
   "execution_count": 3,
   "id": "b18015f2",
   "metadata": {},
   "outputs": [
    {
     "data": {
      "text/html": [
       "<ol class=list-inline>\n",
       "\t<li>1</li>\n",
       "\t<li>3</li>\n",
       "\t<li>5</li>\n",
       "\t<li>7</li>\n",
       "\t<li>8</li>\n",
       "\t<li>9</li>\n",
       "</ol>\n"
      ],
      "text/latex": [
       "\\begin{enumerate*}\n",
       "\\item 1\n",
       "\\item 3\n",
       "\\item 5\n",
       "\\item 7\n",
       "\\item 8\n",
       "\\item 9\n",
       "\\end{enumerate*}\n"
      ],
      "text/markdown": [
       "1. 1\n",
       "2. 3\n",
       "3. 5\n",
       "4. 7\n",
       "5. 8\n",
       "6. 9\n",
       "\n",
       "\n"
      ],
      "text/plain": [
       "[1] 1 3 5 7 8 9"
      ]
     },
     "metadata": {},
     "output_type": "display_data"
    }
   ],
   "source": [
    "c(1,3,5,7,8,9)"
   ]
  },
  {
   "cell_type": "markdown",
   "id": "70f46bc3",
   "metadata": {},
   "source": [
    "Can store to a variable using assignment operator = or <-\n",
    "\n",
    "Not much difference between the two, but should stay consistent"
   ]
  },
  {
   "cell_type": "code",
   "execution_count": 10,
   "id": "1ce370a4",
   "metadata": {},
   "outputs": [
    {
     "data": {
      "text/html": [
       "<ol class=list-inline>\n",
       "\t<li>4</li>\n",
       "\t<li>2</li>\n",
       "\t<li>1</li>\n",
       "</ol>\n"
      ],
      "text/latex": [
       "\\begin{enumerate*}\n",
       "\\item 4\n",
       "\\item 2\n",
       "\\item 1\n",
       "\\end{enumerate*}\n"
      ],
      "text/markdown": [
       "1. 4\n",
       "2. 2\n",
       "3. 1\n",
       "\n",
       "\n"
      ],
      "text/plain": [
       "[1] 4 2 1"
      ]
     },
     "metadata": {},
     "output_type": "display_data"
    },
    {
     "data": {
      "text/html": [
       "1"
      ],
      "text/latex": [
       "1"
      ],
      "text/markdown": [
       "1"
      ],
      "text/plain": [
       "[1] 1"
      ]
     },
     "metadata": {},
     "output_type": "display_data"
    }
   ],
   "source": [
    "x = c(1,3,5,7,8,9)\n",
    "y <- c(4,2,1)\n",
    "y\n",
    "x[1]"
   ]
  },
  {
   "cell_type": "markdown",
   "id": "fa085274",
   "metadata": {},
   "source": [
    "R will automatically coerce to a single type when attempting to create a vector combines multiple types"
   ]
  },
  {
   "cell_type": "code",
   "execution_count": 19,
   "id": "a92d9a4d",
   "metadata": {},
   "outputs": [
    {
     "data": {
      "text/html": [
       "<ol class=list-inline>\n",
       "\t<li>'42'</li>\n",
       "\t<li>'Statistics'</li>\n",
       "\t<li>'TRUE'</li>\n",
       "</ol>\n"
      ],
      "text/latex": [
       "\\begin{enumerate*}\n",
       "\\item '42'\n",
       "\\item 'Statistics'\n",
       "\\item 'TRUE'\n",
       "\\end{enumerate*}\n"
      ],
      "text/markdown": [
       "1. '42'\n",
       "2. 'Statistics'\n",
       "3. 'TRUE'\n",
       "\n",
       "\n"
      ],
      "text/plain": [
       "[1] \"42\"         \"Statistics\" \"TRUE\"      "
      ]
     },
     "metadata": {},
     "output_type": "display_data"
    },
    {
     "data": {
      "text/html": [
       "<ol class=list-inline>\n",
       "\t<li>32</li>\n",
       "\t<li>0</li>\n",
       "</ol>\n"
      ],
      "text/latex": [
       "\\begin{enumerate*}\n",
       "\\item 32\n",
       "\\item 0\n",
       "\\end{enumerate*}\n"
      ],
      "text/markdown": [
       "1. 32\n",
       "2. 0\n",
       "\n",
       "\n"
      ],
      "text/plain": [
       "[1] 32  0"
      ]
     },
     "metadata": {},
     "output_type": "display_data"
    },
    {
     "data": {
      "text/html": [
       "<ol class=list-inline>\n",
       "\t<li>4+2i</li>\n",
       "\t<li>20+0i</li>\n",
       "\t<li>30+0i</li>\n",
       "</ol>\n"
      ],
      "text/latex": [
       "\\begin{enumerate*}\n",
       "\\item 4+2i\n",
       "\\item 20+0i\n",
       "\\item 30+0i\n",
       "\\end{enumerate*}\n"
      ],
      "text/markdown": [
       "1. 4+2i\n",
       "2. 20+0i\n",
       "3. 30+0i\n",
       "\n",
       "\n"
      ],
      "text/plain": [
       "[1]  4+2i 20+0i 30+0i"
      ]
     },
     "metadata": {},
     "output_type": "display_data"
    }
   ],
   "source": [
    "c(42, \"Statistics\", TRUE)\n",
    "c(32, FALSE)\n",
    "c(4+2i, 20, 30L)"
   ]
  },
  {
   "cell_type": "markdown",
   "id": "d5fcd219",
   "metadata": {},
   "source": [
    "###### Use : and seq()\n",
    "Create vector based on a sequence of number"
   ]
  },
  {
   "cell_type": "code",
   "execution_count": 21,
   "id": "307c75cc",
   "metadata": {},
   "outputs": [
    {
     "data": {
      "text/html": [
       "<ol class=list-inline>\n",
       "\t<li>1</li>\n",
       "\t<li>2</li>\n",
       "\t<li>3</li>\n",
       "\t<li>4</li>\n",
       "\t<li>5</li>\n",
       "\t<li>6</li>\n",
       "\t<li>7</li>\n",
       "\t<li>8</li>\n",
       "\t<li>9</li>\n",
       "\t<li>10</li>\n",
       "\t<li>11</li>\n",
       "\t<li>12</li>\n",
       "\t<li>13</li>\n",
       "\t<li>14</li>\n",
       "\t<li>15</li>\n",
       "\t<li>16</li>\n",
       "\t<li>17</li>\n",
       "\t<li>18</li>\n",
       "\t<li>19</li>\n",
       "\t<li>20</li>\n",
       "\t<li>21</li>\n",
       "\t<li>22</li>\n",
       "\t<li>23</li>\n",
       "\t<li>24</li>\n",
       "\t<li>25</li>\n",
       "\t<li>26</li>\n",
       "\t<li>27</li>\n",
       "\t<li>28</li>\n",
       "\t<li>29</li>\n",
       "\t<li>30</li>\n",
       "\t<li>31</li>\n",
       "\t<li>32</li>\n",
       "\t<li>33</li>\n",
       "\t<li>34</li>\n",
       "\t<li>35</li>\n",
       "\t<li>36</li>\n",
       "\t<li>37</li>\n",
       "\t<li>38</li>\n",
       "\t<li>39</li>\n",
       "\t<li>40</li>\n",
       "\t<li>41</li>\n",
       "\t<li>42</li>\n",
       "\t<li>43</li>\n",
       "\t<li>44</li>\n",
       "\t<li>45</li>\n",
       "\t<li>46</li>\n",
       "\t<li>47</li>\n",
       "\t<li>48</li>\n",
       "\t<li>49</li>\n",
       "\t<li>50</li>\n",
       "\t<li>51</li>\n",
       "\t<li>52</li>\n",
       "\t<li>53</li>\n",
       "\t<li>54</li>\n",
       "\t<li>55</li>\n",
       "\t<li>56</li>\n",
       "\t<li>57</li>\n",
       "\t<li>58</li>\n",
       "\t<li>59</li>\n",
       "\t<li>60</li>\n",
       "\t<li>61</li>\n",
       "\t<li>62</li>\n",
       "\t<li>63</li>\n",
       "\t<li>64</li>\n",
       "\t<li>65</li>\n",
       "\t<li>66</li>\n",
       "\t<li>67</li>\n",
       "\t<li>68</li>\n",
       "\t<li>69</li>\n",
       "\t<li>70</li>\n",
       "\t<li>71</li>\n",
       "\t<li>72</li>\n",
       "\t<li>73</li>\n",
       "\t<li>74</li>\n",
       "\t<li>75</li>\n",
       "\t<li>76</li>\n",
       "\t<li>77</li>\n",
       "\t<li>78</li>\n",
       "\t<li>79</li>\n",
       "\t<li>80</li>\n",
       "\t<li>81</li>\n",
       "\t<li>82</li>\n",
       "\t<li>83</li>\n",
       "\t<li>84</li>\n",
       "\t<li>85</li>\n",
       "\t<li>86</li>\n",
       "\t<li>87</li>\n",
       "\t<li>88</li>\n",
       "\t<li>89</li>\n",
       "\t<li>90</li>\n",
       "\t<li>91</li>\n",
       "\t<li>92</li>\n",
       "\t<li>93</li>\n",
       "\t<li>94</li>\n",
       "\t<li>95</li>\n",
       "\t<li>96</li>\n",
       "\t<li>97</li>\n",
       "\t<li>98</li>\n",
       "\t<li>99</li>\n",
       "\t<li>100</li>\n",
       "</ol>\n"
      ],
      "text/latex": [
       "\\begin{enumerate*}\n",
       "\\item 1\n",
       "\\item 2\n",
       "\\item 3\n",
       "\\item 4\n",
       "\\item 5\n",
       "\\item 6\n",
       "\\item 7\n",
       "\\item 8\n",
       "\\item 9\n",
       "\\item 10\n",
       "\\item 11\n",
       "\\item 12\n",
       "\\item 13\n",
       "\\item 14\n",
       "\\item 15\n",
       "\\item 16\n",
       "\\item 17\n",
       "\\item 18\n",
       "\\item 19\n",
       "\\item 20\n",
       "\\item 21\n",
       "\\item 22\n",
       "\\item 23\n",
       "\\item 24\n",
       "\\item 25\n",
       "\\item 26\n",
       "\\item 27\n",
       "\\item 28\n",
       "\\item 29\n",
       "\\item 30\n",
       "\\item 31\n",
       "\\item 32\n",
       "\\item 33\n",
       "\\item 34\n",
       "\\item 35\n",
       "\\item 36\n",
       "\\item 37\n",
       "\\item 38\n",
       "\\item 39\n",
       "\\item 40\n",
       "\\item 41\n",
       "\\item 42\n",
       "\\item 43\n",
       "\\item 44\n",
       "\\item 45\n",
       "\\item 46\n",
       "\\item 47\n",
       "\\item 48\n",
       "\\item 49\n",
       "\\item 50\n",
       "\\item 51\n",
       "\\item 52\n",
       "\\item 53\n",
       "\\item 54\n",
       "\\item 55\n",
       "\\item 56\n",
       "\\item 57\n",
       "\\item 58\n",
       "\\item 59\n",
       "\\item 60\n",
       "\\item 61\n",
       "\\item 62\n",
       "\\item 63\n",
       "\\item 64\n",
       "\\item 65\n",
       "\\item 66\n",
       "\\item 67\n",
       "\\item 68\n",
       "\\item 69\n",
       "\\item 70\n",
       "\\item 71\n",
       "\\item 72\n",
       "\\item 73\n",
       "\\item 74\n",
       "\\item 75\n",
       "\\item 76\n",
       "\\item 77\n",
       "\\item 78\n",
       "\\item 79\n",
       "\\item 80\n",
       "\\item 81\n",
       "\\item 82\n",
       "\\item 83\n",
       "\\item 84\n",
       "\\item 85\n",
       "\\item 86\n",
       "\\item 87\n",
       "\\item 88\n",
       "\\item 89\n",
       "\\item 90\n",
       "\\item 91\n",
       "\\item 92\n",
       "\\item 93\n",
       "\\item 94\n",
       "\\item 95\n",
       "\\item 96\n",
       "\\item 97\n",
       "\\item 98\n",
       "\\item 99\n",
       "\\item 100\n",
       "\\end{enumerate*}\n"
      ],
      "text/markdown": [
       "1. 1\n",
       "2. 2\n",
       "3. 3\n",
       "4. 4\n",
       "5. 5\n",
       "6. 6\n",
       "7. 7\n",
       "8. 8\n",
       "9. 9\n",
       "10. 10\n",
       "11. 11\n",
       "12. 12\n",
       "13. 13\n",
       "14. 14\n",
       "15. 15\n",
       "16. 16\n",
       "17. 17\n",
       "18. 18\n",
       "19. 19\n",
       "20. 20\n",
       "21. 21\n",
       "22. 22\n",
       "23. 23\n",
       "24. 24\n",
       "25. 25\n",
       "26. 26\n",
       "27. 27\n",
       "28. 28\n",
       "29. 29\n",
       "30. 30\n",
       "31. 31\n",
       "32. 32\n",
       "33. 33\n",
       "34. 34\n",
       "35. 35\n",
       "36. 36\n",
       "37. 37\n",
       "38. 38\n",
       "39. 39\n",
       "40. 40\n",
       "41. 41\n",
       "42. 42\n",
       "43. 43\n",
       "44. 44\n",
       "45. 45\n",
       "46. 46\n",
       "47. 47\n",
       "48. 48\n",
       "49. 49\n",
       "50. 50\n",
       "51. 51\n",
       "52. 52\n",
       "53. 53\n",
       "54. 54\n",
       "55. 55\n",
       "56. 56\n",
       "57. 57\n",
       "58. 58\n",
       "59. 59\n",
       "60. 60\n",
       "61. 61\n",
       "62. 62\n",
       "63. 63\n",
       "64. 64\n",
       "65. 65\n",
       "66. 66\n",
       "67. 67\n",
       "68. 68\n",
       "69. 69\n",
       "70. 70\n",
       "71. 71\n",
       "72. 72\n",
       "73. 73\n",
       "74. 74\n",
       "75. 75\n",
       "76. 76\n",
       "77. 77\n",
       "78. 78\n",
       "79. 79\n",
       "80. 80\n",
       "81. 81\n",
       "82. 82\n",
       "83. 83\n",
       "84. 84\n",
       "85. 85\n",
       "86. 86\n",
       "87. 87\n",
       "88. 88\n",
       "89. 89\n",
       "90. 90\n",
       "91. 91\n",
       "92. 92\n",
       "93. 93\n",
       "94. 94\n",
       "95. 95\n",
       "96. 96\n",
       "97. 97\n",
       "98. 98\n",
       "99. 99\n",
       "100. 100\n",
       "\n",
       "\n"
      ],
      "text/plain": [
       "  [1]   1   2   3   4   5   6   7   8   9  10  11  12  13  14  15  16  17  18\n",
       " [19]  19  20  21  22  23  24  25  26  27  28  29  30  31  32  33  34  35  36\n",
       " [37]  37  38  39  40  41  42  43  44  45  46  47  48  49  50  51  52  53  54\n",
       " [55]  55  56  57  58  59  60  61  62  63  64  65  66  67  68  69  70  71  72\n",
       " [73]  73  74  75  76  77  78  79  80  81  82  83  84  85  86  87  88  89  90\n",
       " [91]  91  92  93  94  95  96  97  98  99 100"
      ]
     },
     "metadata": {},
     "output_type": "display_data"
    }
   ],
   "source": [
    "(y = 1:100)"
   ]
  },
  {
   "cell_type": "code",
   "execution_count": 23,
   "id": "2f306603",
   "metadata": {},
   "outputs": [
    {
     "data": {
      "text/html": [
       "<ol class=list-inline>\n",
       "\t<li>2.1</li>\n",
       "\t<li>2.11</li>\n",
       "\t<li>2.12</li>\n",
       "\t<li>2.13</li>\n",
       "\t<li>2.14</li>\n",
       "\t<li>2.15</li>\n",
       "\t<li>2.16</li>\n",
       "\t<li>2.17</li>\n",
       "\t<li>2.18</li>\n",
       "\t<li>2.19</li>\n",
       "\t<li>2.2</li>\n",
       "</ol>\n"
      ],
      "text/latex": [
       "\\begin{enumerate*}\n",
       "\\item 2.1\n",
       "\\item 2.11\n",
       "\\item 2.12\n",
       "\\item 2.13\n",
       "\\item 2.14\n",
       "\\item 2.15\n",
       "\\item 2.16\n",
       "\\item 2.17\n",
       "\\item 2.18\n",
       "\\item 2.19\n",
       "\\item 2.2\n",
       "\\end{enumerate*}\n"
      ],
      "text/markdown": [
       "1. 2.1\n",
       "2. 2.11\n",
       "3. 2.12\n",
       "4. 2.13\n",
       "5. 2.14\n",
       "6. 2.15\n",
       "7. 2.16\n",
       "8. 2.17\n",
       "9. 2.18\n",
       "10. 2.19\n",
       "11. 2.2\n",
       "\n",
       "\n"
      ],
      "text/plain": [
       " [1] 2.10 2.11 2.12 2.13 2.14 2.15 2.16 2.17 2.18 2.19 2.20"
      ]
     },
     "metadata": {},
     "output_type": "display_data"
    },
    {
     "data": {
      "text/html": [
       "<ol class=list-inline>\n",
       "\t<li>2.1</li>\n",
       "\t<li>2.11</li>\n",
       "\t<li>2.12</li>\n",
       "\t<li>2.13</li>\n",
       "\t<li>2.14</li>\n",
       "\t<li>2.15</li>\n",
       "\t<li>2.16</li>\n",
       "\t<li>2.17</li>\n",
       "\t<li>2.18</li>\n",
       "\t<li>2.19</li>\n",
       "\t<li>2.2</li>\n",
       "</ol>\n"
      ],
      "text/latex": [
       "\\begin{enumerate*}\n",
       "\\item 2.1\n",
       "\\item 2.11\n",
       "\\item 2.12\n",
       "\\item 2.13\n",
       "\\item 2.14\n",
       "\\item 2.15\n",
       "\\item 2.16\n",
       "\\item 2.17\n",
       "\\item 2.18\n",
       "\\item 2.19\n",
       "\\item 2.2\n",
       "\\end{enumerate*}\n"
      ],
      "text/markdown": [
       "1. 2.1\n",
       "2. 2.11\n",
       "3. 2.12\n",
       "4. 2.13\n",
       "5. 2.14\n",
       "6. 2.15\n",
       "7. 2.16\n",
       "8. 2.17\n",
       "9. 2.18\n",
       "10. 2.19\n",
       "11. 2.2\n",
       "\n",
       "\n"
      ],
      "text/plain": [
       " [1] 2.10 2.11 2.12 2.13 2.14 2.15 2.16 2.17 2.18 2.19 2.20"
      ]
     },
     "metadata": {},
     "output_type": "display_data"
    }
   ],
   "source": [
    "seq(from = 2.1, to = 2.2, by = 0.01)\n",
    "seq(2.1, 2.2, 0.01)"
   ]
  },
  {
   "cell_type": "markdown",
   "id": "86009cba",
   "metadata": {},
   "source": [
    "###### Use rep()\n",
    "Can use to repeat a vector by a number of times"
   ]
  },
  {
   "cell_type": "code",
   "execution_count": 27,
   "id": "72b2e394",
   "metadata": {},
   "outputs": [
    {
     "data": {
      "text/html": [
       "<ol class=list-inline>\n",
       "\t<li>'A'</li>\n",
       "\t<li>'A'</li>\n",
       "\t<li>'A'</li>\n",
       "\t<li>'A'</li>\n",
       "\t<li>'A'</li>\n",
       "\t<li>'A'</li>\n",
       "\t<li>'A'</li>\n",
       "\t<li>'A'</li>\n",
       "\t<li>'A'</li>\n",
       "\t<li>'A'</li>\n",
       "</ol>\n"
      ],
      "text/latex": [
       "\\begin{enumerate*}\n",
       "\\item 'A'\n",
       "\\item 'A'\n",
       "\\item 'A'\n",
       "\\item 'A'\n",
       "\\item 'A'\n",
       "\\item 'A'\n",
       "\\item 'A'\n",
       "\\item 'A'\n",
       "\\item 'A'\n",
       "\\item 'A'\n",
       "\\end{enumerate*}\n"
      ],
      "text/markdown": [
       "1. 'A'\n",
       "2. 'A'\n",
       "3. 'A'\n",
       "4. 'A'\n",
       "5. 'A'\n",
       "6. 'A'\n",
       "7. 'A'\n",
       "8. 'A'\n",
       "9. 'A'\n",
       "10. 'A'\n",
       "\n",
       "\n"
      ],
      "text/plain": [
       " [1] \"A\" \"A\" \"A\" \"A\" \"A\" \"A\" \"A\" \"A\" \"A\" \"A\""
      ]
     },
     "metadata": {},
     "output_type": "display_data"
    },
    {
     "data": {
      "text/html": [
       "<ol class=list-inline>\n",
       "\t<li>'B'</li>\n",
       "\t<li>'B'</li>\n",
       "</ol>\n"
      ],
      "text/latex": [
       "\\begin{enumerate*}\n",
       "\\item 'B'\n",
       "\\item 'B'\n",
       "\\end{enumerate*}\n"
      ],
      "text/markdown": [
       "1. 'B'\n",
       "2. 'B'\n",
       "\n",
       "\n"
      ],
      "text/plain": [
       "[1] \"B\" \"B\""
      ]
     },
     "metadata": {},
     "output_type": "display_data"
    },
    {
     "data": {
      "text/html": [
       "<ol class=list-inline>\n",
       "\t<li>1</li>\n",
       "\t<li>3</li>\n",
       "\t<li>5</li>\n",
       "\t<li>7</li>\n",
       "\t<li>8</li>\n",
       "\t<li>9</li>\n",
       "\t<li>1</li>\n",
       "\t<li>3</li>\n",
       "\t<li>5</li>\n",
       "\t<li>7</li>\n",
       "\t<li>8</li>\n",
       "\t<li>9</li>\n",
       "</ol>\n"
      ],
      "text/latex": [
       "\\begin{enumerate*}\n",
       "\\item 1\n",
       "\\item 3\n",
       "\\item 5\n",
       "\\item 7\n",
       "\\item 8\n",
       "\\item 9\n",
       "\\item 1\n",
       "\\item 3\n",
       "\\item 5\n",
       "\\item 7\n",
       "\\item 8\n",
       "\\item 9\n",
       "\\end{enumerate*}\n"
      ],
      "text/markdown": [
       "1. 1\n",
       "2. 3\n",
       "3. 5\n",
       "4. 7\n",
       "5. 8\n",
       "6. 9\n",
       "7. 1\n",
       "8. 3\n",
       "9. 5\n",
       "10. 7\n",
       "11. 8\n",
       "12. 9\n",
       "\n",
       "\n"
      ],
      "text/plain": [
       " [1] 1 3 5 7 8 9 1 3 5 7 8 9"
      ]
     },
     "metadata": {},
     "output_type": "display_data"
    }
   ],
   "source": [
    "rep(\"A\", times = 10)\n",
    "rep(\"B\", 2)\n",
    "rep(x,2)"
   ]
  },
  {
   "cell_type": "markdown",
   "id": "13bc44e8",
   "metadata": {},
   "source": [
    "###### Combine methods\n",
    "So far we have mostly used them in isolation, but they are often used together."
   ]
  },
  {
   "cell_type": "code",
   "execution_count": 28,
   "id": "054c244d",
   "metadata": {},
   "outputs": [
    {
     "data": {
      "text/html": [
       "<ol class=list-inline>\n",
       "\t<li>1</li>\n",
       "\t<li>3</li>\n",
       "\t<li>5</li>\n",
       "\t<li>7</li>\n",
       "\t<li>8</li>\n",
       "\t<li>9</li>\n",
       "\t<li>1</li>\n",
       "\t<li>3</li>\n",
       "\t<li>5</li>\n",
       "\t<li>7</li>\n",
       "\t<li>9</li>\n",
       "\t<li>1</li>\n",
       "\t<li>3</li>\n",
       "\t<li>5</li>\n",
       "\t<li>7</li>\n",
       "\t<li>9</li>\n",
       "\t<li>1</li>\n",
       "\t<li>3</li>\n",
       "\t<li>5</li>\n",
       "\t<li>7</li>\n",
       "\t<li>9</li>\n",
       "\t<li>1</li>\n",
       "\t<li>2</li>\n",
       "\t<li>3</li>\n",
       "\t<li>42</li>\n",
       "\t<li>2</li>\n",
       "\t<li>3</li>\n",
       "\t<li>4</li>\n",
       "</ol>\n"
      ],
      "text/latex": [
       "\\begin{enumerate*}\n",
       "\\item 1\n",
       "\\item 3\n",
       "\\item 5\n",
       "\\item 7\n",
       "\\item 8\n",
       "\\item 9\n",
       "\\item 1\n",
       "\\item 3\n",
       "\\item 5\n",
       "\\item 7\n",
       "\\item 9\n",
       "\\item 1\n",
       "\\item 3\n",
       "\\item 5\n",
       "\\item 7\n",
       "\\item 9\n",
       "\\item 1\n",
       "\\item 3\n",
       "\\item 5\n",
       "\\item 7\n",
       "\\item 9\n",
       "\\item 1\n",
       "\\item 2\n",
       "\\item 3\n",
       "\\item 42\n",
       "\\item 2\n",
       "\\item 3\n",
       "\\item 4\n",
       "\\end{enumerate*}\n"
      ],
      "text/markdown": [
       "1. 1\n",
       "2. 3\n",
       "3. 5\n",
       "4. 7\n",
       "5. 8\n",
       "6. 9\n",
       "7. 1\n",
       "8. 3\n",
       "9. 5\n",
       "10. 7\n",
       "11. 9\n",
       "12. 1\n",
       "13. 3\n",
       "14. 5\n",
       "15. 7\n",
       "16. 9\n",
       "17. 1\n",
       "18. 3\n",
       "19. 5\n",
       "20. 7\n",
       "21. 9\n",
       "22. 1\n",
       "23. 2\n",
       "24. 3\n",
       "25. 42\n",
       "26. 2\n",
       "27. 3\n",
       "28. 4\n",
       "\n",
       "\n"
      ],
      "text/plain": [
       " [1]  1  3  5  7  8  9  1  3  5  7  9  1  3  5  7  9  1  3  5  7  9  1  2  3 42\n",
       "[26]  2  3  4"
      ]
     },
     "metadata": {},
     "output_type": "display_data"
    }
   ],
   "source": [
    "c(x, rep(seq(1, 9, 2), 3), c(1, 2, 3), 42, 2:4)"
   ]
  },
  {
   "cell_type": "markdown",
   "id": "ec321534",
   "metadata": {},
   "source": [
    "##### Length\n",
    "The length of a vector can be obtained with the length() function."
   ]
  },
  {
   "cell_type": "code",
   "execution_count": 29,
   "id": "c8ce171e",
   "metadata": {},
   "outputs": [
    {
     "data": {
      "text/html": [
       "6"
      ],
      "text/latex": [
       "6"
      ],
      "text/markdown": [
       "6"
      ],
      "text/plain": [
       "[1] 6"
      ]
     },
     "metadata": {},
     "output_type": "display_data"
    },
    {
     "data": {
      "text/html": [
       "100"
      ],
      "text/latex": [
       "100"
      ],
      "text/markdown": [
       "100"
      ],
      "text/plain": [
       "[1] 100"
      ]
     },
     "metadata": {},
     "output_type": "display_data"
    }
   ],
   "source": [
    "length(x)\n",
    "length(y)"
   ]
  },
  {
   "cell_type": "markdown",
   "id": "39d5f774",
   "metadata": {},
   "source": [
    "##### Subsetting\n",
    "To subset a vector, use square brackets [ ]"
   ]
  },
  {
   "cell_type": "code",
   "execution_count": 31,
   "id": "9ba3378f",
   "metadata": {},
   "outputs": [
    {
     "data": {
      "text/html": [
       "<ol class=list-inline>\n",
       "\t<li>1</li>\n",
       "\t<li>3</li>\n",
       "\t<li>5</li>\n",
       "\t<li>7</li>\n",
       "\t<li>8</li>\n",
       "\t<li>9</li>\n",
       "</ol>\n"
      ],
      "text/latex": [
       "\\begin{enumerate*}\n",
       "\\item 1\n",
       "\\item 3\n",
       "\\item 5\n",
       "\\item 7\n",
       "\\item 8\n",
       "\\item 9\n",
       "\\end{enumerate*}\n"
      ],
      "text/markdown": [
       "1. 1\n",
       "2. 3\n",
       "3. 5\n",
       "4. 7\n",
       "5. 8\n",
       "6. 9\n",
       "\n",
       "\n"
      ],
      "text/plain": [
       "[1] 1 3 5 7 8 9"
      ]
     },
     "metadata": {},
     "output_type": "display_data"
    },
    {
     "data": {
      "text/html": [
       "1"
      ],
      "text/latex": [
       "1"
      ],
      "text/markdown": [
       "1"
      ],
      "text/plain": [
       "[1] 1"
      ]
     },
     "metadata": {},
     "output_type": "display_data"
    },
    {
     "data": {
      "text/html": [
       "<ol class=list-inline>\n",
       "\t<li>1</li>\n",
       "\t<li>5</li>\n",
       "\t<li>7</li>\n",
       "\t<li>8</li>\n",
       "\t<li>9</li>\n",
       "</ol>\n"
      ],
      "text/latex": [
       "\\begin{enumerate*}\n",
       "\\item 1\n",
       "\\item 5\n",
       "\\item 7\n",
       "\\item 8\n",
       "\\item 9\n",
       "\\end{enumerate*}\n"
      ],
      "text/markdown": [
       "1. 1\n",
       "2. 5\n",
       "3. 7\n",
       "4. 8\n",
       "5. 9\n",
       "\n",
       "\n"
      ],
      "text/plain": [
       "[1] 1 5 7 8 9"
      ]
     },
     "metadata": {},
     "output_type": "display_data"
    },
    {
     "data": {
      "text/html": [
       "<ol class=list-inline>\n",
       "\t<li>1</li>\n",
       "\t<li>3</li>\n",
       "\t<li>5</li>\n",
       "</ol>\n"
      ],
      "text/latex": [
       "\\begin{enumerate*}\n",
       "\\item 1\n",
       "\\item 3\n",
       "\\item 5\n",
       "\\end{enumerate*}\n"
      ],
      "text/markdown": [
       "1. 1\n",
       "2. 3\n",
       "3. 5\n",
       "\n",
       "\n"
      ],
      "text/plain": [
       "[1] 1 3 5"
      ]
     },
     "metadata": {},
     "output_type": "display_data"
    },
    {
     "data": {
      "text/html": [
       "<ol class=list-inline>\n",
       "\t<li>1</li>\n",
       "\t<li>5</li>\n",
       "\t<li>7</li>\n",
       "</ol>\n"
      ],
      "text/latex": [
       "\\begin{enumerate*}\n",
       "\\item 1\n",
       "\\item 5\n",
       "\\item 7\n",
       "\\end{enumerate*}\n"
      ],
      "text/markdown": [
       "1. 1\n",
       "2. 5\n",
       "3. 7\n",
       "\n",
       "\n"
      ],
      "text/plain": [
       "[1] 1 5 7"
      ]
     },
     "metadata": {},
     "output_type": "display_data"
    },
    {
     "data": {
      "text/html": [
       "<ol class=list-inline>\n",
       "\t<li>1</li>\n",
       "\t<li>3</li>\n",
       "\t<li>7</li>\n",
       "\t<li>8</li>\n",
       "</ol>\n"
      ],
      "text/latex": [
       "\\begin{enumerate*}\n",
       "\\item 1\n",
       "\\item 3\n",
       "\\item 7\n",
       "\\item 8\n",
       "\\end{enumerate*}\n"
      ],
      "text/markdown": [
       "1. 1\n",
       "2. 3\n",
       "3. 7\n",
       "4. 8\n",
       "\n",
       "\n"
      ],
      "text/plain": [
       "[1] 1 3 7 8"
      ]
     },
     "metadata": {},
     "output_type": "display_data"
    }
   ],
   "source": [
    "x\n",
    "x[1]\n",
    "x[-2] #exclude second element\n",
    "\n",
    "#subset based on vector of indices:\n",
    "x[1:3] \n",
    "x[c(1,3,4)]\n",
    "z = c(TRUE,TRUE,FALSE,TRUE,TRUE,FALSE)\n",
    "x[z]"
   ]
  },
  {
   "cell_type": "markdown",
   "id": "f1eba5f5",
   "metadata": {},
   "source": [
    "##### Vectorization\n",
    "One of the biggest stranths of R"
   ]
  },
  {
   "cell_type": "code",
   "execution_count": 32,
   "id": "4400c9f6",
   "metadata": {},
   "outputs": [
    {
     "data": {
      "text/html": [
       "<ol class=list-inline>\n",
       "\t<li>2</li>\n",
       "\t<li>3</li>\n",
       "\t<li>4</li>\n",
       "\t<li>5</li>\n",
       "\t<li>6</li>\n",
       "\t<li>7</li>\n",
       "\t<li>8</li>\n",
       "\t<li>9</li>\n",
       "\t<li>10</li>\n",
       "\t<li>11</li>\n",
       "</ol>\n"
      ],
      "text/latex": [
       "\\begin{enumerate*}\n",
       "\\item 2\n",
       "\\item 3\n",
       "\\item 4\n",
       "\\item 5\n",
       "\\item 6\n",
       "\\item 7\n",
       "\\item 8\n",
       "\\item 9\n",
       "\\item 10\n",
       "\\item 11\n",
       "\\end{enumerate*}\n"
      ],
      "text/markdown": [
       "1. 2\n",
       "2. 3\n",
       "3. 4\n",
       "4. 5\n",
       "5. 6\n",
       "6. 7\n",
       "7. 8\n",
       "8. 9\n",
       "9. 10\n",
       "10. 11\n",
       "\n",
       "\n"
      ],
      "text/plain": [
       " [1]  2  3  4  5  6  7  8  9 10 11"
      ]
     },
     "metadata": {},
     "output_type": "display_data"
    },
    {
     "data": {
      "text/html": [
       "<ol class=list-inline>\n",
       "\t<li>2</li>\n",
       "\t<li>4</li>\n",
       "\t<li>6</li>\n",
       "\t<li>8</li>\n",
       "\t<li>10</li>\n",
       "\t<li>12</li>\n",
       "\t<li>14</li>\n",
       "\t<li>16</li>\n",
       "\t<li>18</li>\n",
       "\t<li>20</li>\n",
       "</ol>\n"
      ],
      "text/latex": [
       "\\begin{enumerate*}\n",
       "\\item 2\n",
       "\\item 4\n",
       "\\item 6\n",
       "\\item 8\n",
       "\\item 10\n",
       "\\item 12\n",
       "\\item 14\n",
       "\\item 16\n",
       "\\item 18\n",
       "\\item 20\n",
       "\\end{enumerate*}\n"
      ],
      "text/markdown": [
       "1. 2\n",
       "2. 4\n",
       "3. 6\n",
       "4. 8\n",
       "5. 10\n",
       "6. 12\n",
       "7. 14\n",
       "8. 16\n",
       "9. 18\n",
       "10. 20\n",
       "\n",
       "\n"
      ],
      "text/plain": [
       " [1]  2  4  6  8 10 12 14 16 18 20"
      ]
     },
     "metadata": {},
     "output_type": "display_data"
    },
    {
     "data": {
      "text/html": [
       "<ol class=list-inline>\n",
       "\t<li>2</li>\n",
       "\t<li>4</li>\n",
       "\t<li>8</li>\n",
       "\t<li>16</li>\n",
       "\t<li>32</li>\n",
       "\t<li>64</li>\n",
       "\t<li>128</li>\n",
       "\t<li>256</li>\n",
       "\t<li>512</li>\n",
       "\t<li>1024</li>\n",
       "</ol>\n"
      ],
      "text/latex": [
       "\\begin{enumerate*}\n",
       "\\item 2\n",
       "\\item 4\n",
       "\\item 8\n",
       "\\item 16\n",
       "\\item 32\n",
       "\\item 64\n",
       "\\item 128\n",
       "\\item 256\n",
       "\\item 512\n",
       "\\item 1024\n",
       "\\end{enumerate*}\n"
      ],
      "text/markdown": [
       "1. 2\n",
       "2. 4\n",
       "3. 8\n",
       "4. 16\n",
       "5. 32\n",
       "6. 64\n",
       "7. 128\n",
       "8. 256\n",
       "9. 512\n",
       "10. 1024\n",
       "\n",
       "\n"
      ],
      "text/plain": [
       " [1]    2    4    8   16   32   64  128  256  512 1024"
      ]
     },
     "metadata": {},
     "output_type": "display_data"
    },
    {
     "data": {
      "text/html": [
       "<ol class=list-inline>\n",
       "\t<li>1</li>\n",
       "\t<li>1.4142135623731</li>\n",
       "\t<li>1.73205080756888</li>\n",
       "\t<li>2</li>\n",
       "\t<li>2.23606797749979</li>\n",
       "\t<li>2.44948974278318</li>\n",
       "\t<li>2.64575131106459</li>\n",
       "\t<li>2.82842712474619</li>\n",
       "\t<li>3</li>\n",
       "\t<li>3.16227766016838</li>\n",
       "</ol>\n"
      ],
      "text/latex": [
       "\\begin{enumerate*}\n",
       "\\item 1\n",
       "\\item 1.4142135623731\n",
       "\\item 1.73205080756888\n",
       "\\item 2\n",
       "\\item 2.23606797749979\n",
       "\\item 2.44948974278318\n",
       "\\item 2.64575131106459\n",
       "\\item 2.82842712474619\n",
       "\\item 3\n",
       "\\item 3.16227766016838\n",
       "\\end{enumerate*}\n"
      ],
      "text/markdown": [
       "1. 1\n",
       "2. 1.4142135623731\n",
       "3. 1.73205080756888\n",
       "4. 2\n",
       "5. 2.23606797749979\n",
       "6. 2.44948974278318\n",
       "7. 2.64575131106459\n",
       "8. 2.82842712474619\n",
       "9. 3\n",
       "10. 3.16227766016838\n",
       "\n",
       "\n"
      ],
      "text/plain": [
       " [1] 1.000000 1.414214 1.732051 2.000000 2.236068 2.449490 2.645751 2.828427\n",
       " [9] 3.000000 3.162278"
      ]
     },
     "metadata": {},
     "output_type": "display_data"
    }
   ],
   "source": [
    "x = 1:10\n",
    "x + 1\n",
    "2 * x\n",
    "2 ^ x\n",
    "sqrt(x)"
   ]
  },
  {
   "cell_type": "markdown",
   "id": "1e39b365",
   "metadata": {},
   "source": [
    "##### Logical operators\n",
    "Types:\n",
    "- < / > : less than/greater than\n",
    "- <= / >= : less/greater than or equal to\n",
    "- == : equal to\n",
    "- != : not equal to\n",
    "- !x : not x\n",
    "- x | y : x or y\n",
    "- x & y : x and y\n",
    "\n",
    "In R, logical operators are vectorized"
   ]
  },
  {
   "cell_type": "code",
   "execution_count": 33,
   "id": "a41cb4a5",
   "metadata": {},
   "outputs": [
    {
     "data": {
      "text/html": [
       "<ol class=list-inline>\n",
       "\t<li>FALSE</li>\n",
       "\t<li>FALSE</li>\n",
       "\t<li>TRUE</li>\n",
       "\t<li>TRUE</li>\n",
       "\t<li>TRUE</li>\n",
       "\t<li>TRUE</li>\n",
       "</ol>\n"
      ],
      "text/latex": [
       "\\begin{enumerate*}\n",
       "\\item FALSE\n",
       "\\item FALSE\n",
       "\\item TRUE\n",
       "\\item TRUE\n",
       "\\item TRUE\n",
       "\\item TRUE\n",
       "\\end{enumerate*}\n"
      ],
      "text/markdown": [
       "1. FALSE\n",
       "2. FALSE\n",
       "3. TRUE\n",
       "4. TRUE\n",
       "5. TRUE\n",
       "6. TRUE\n",
       "\n",
       "\n"
      ],
      "text/plain": [
       "[1] FALSE FALSE  TRUE  TRUE  TRUE  TRUE"
      ]
     },
     "metadata": {},
     "output_type": "display_data"
    },
    {
     "data": {
      "text/html": [
       "<ol class=list-inline>\n",
       "\t<li>FALSE</li>\n",
       "\t<li>TRUE</li>\n",
       "\t<li>FALSE</li>\n",
       "\t<li>FALSE</li>\n",
       "\t<li>FALSE</li>\n",
       "\t<li>FALSE</li>\n",
       "</ol>\n"
      ],
      "text/latex": [
       "\\begin{enumerate*}\n",
       "\\item FALSE\n",
       "\\item TRUE\n",
       "\\item FALSE\n",
       "\\item FALSE\n",
       "\\item FALSE\n",
       "\\item FALSE\n",
       "\\end{enumerate*}\n"
      ],
      "text/markdown": [
       "1. FALSE\n",
       "2. TRUE\n",
       "3. FALSE\n",
       "4. FALSE\n",
       "5. FALSE\n",
       "6. FALSE\n",
       "\n",
       "\n"
      ],
      "text/plain": [
       "[1] FALSE  TRUE FALSE FALSE FALSE FALSE"
      ]
     },
     "metadata": {},
     "output_type": "display_data"
    },
    {
     "data": {
      "text/html": [
       "<ol class=list-inline>\n",
       "\t<li>TRUE</li>\n",
       "\t<li>FALSE</li>\n",
       "\t<li>TRUE</li>\n",
       "\t<li>TRUE</li>\n",
       "\t<li>TRUE</li>\n",
       "\t<li>TRUE</li>\n",
       "</ol>\n"
      ],
      "text/latex": [
       "\\begin{enumerate*}\n",
       "\\item TRUE\n",
       "\\item FALSE\n",
       "\\item TRUE\n",
       "\\item TRUE\n",
       "\\item TRUE\n",
       "\\item TRUE\n",
       "\\end{enumerate*}\n"
      ],
      "text/markdown": [
       "1. TRUE\n",
       "2. FALSE\n",
       "3. TRUE\n",
       "4. TRUE\n",
       "5. TRUE\n",
       "6. TRUE\n",
       "\n",
       "\n"
      ],
      "text/plain": [
       "[1]  TRUE FALSE  TRUE  TRUE  TRUE  TRUE"
      ]
     },
     "metadata": {},
     "output_type": "display_data"
    },
    {
     "data": {
      "text/html": [
       "<ol class=list-inline>\n",
       "\t<li>FALSE</li>\n",
       "\t<li>FALSE</li>\n",
       "\t<li>FALSE</li>\n",
       "\t<li>FALSE</li>\n",
       "\t<li>FALSE</li>\n",
       "\t<li>FALSE</li>\n",
       "</ol>\n"
      ],
      "text/latex": [
       "\\begin{enumerate*}\n",
       "\\item FALSE\n",
       "\\item FALSE\n",
       "\\item FALSE\n",
       "\\item FALSE\n",
       "\\item FALSE\n",
       "\\item FALSE\n",
       "\\end{enumerate*}\n"
      ],
      "text/markdown": [
       "1. FALSE\n",
       "2. FALSE\n",
       "3. FALSE\n",
       "4. FALSE\n",
       "5. FALSE\n",
       "6. FALSE\n",
       "\n",
       "\n"
      ],
      "text/plain": [
       "[1] FALSE FALSE FALSE FALSE FALSE FALSE"
      ]
     },
     "metadata": {},
     "output_type": "display_data"
    }
   ],
   "source": [
    "x = c(1,3,5,7,8,9)\n",
    "x > 3\n",
    "x == 3\n",
    "x != 3\n",
    "x == 3 & x!= 3\n"
   ]
  },
  {
   "cell_type": "markdown",
   "id": "6dfc239c",
   "metadata": {},
   "source": [
    "This is useful for subsetting"
   ]
  },
  {
   "cell_type": "code",
   "execution_count": 41,
   "id": "44dc7769",
   "metadata": {},
   "outputs": [
    {
     "data": {
      "text/html": [
       "<ol class=list-inline>\n",
       "\t<li>5</li>\n",
       "\t<li>7</li>\n",
       "\t<li>8</li>\n",
       "\t<li>9</li>\n",
       "</ol>\n"
      ],
      "text/latex": [
       "\\begin{enumerate*}\n",
       "\\item 5\n",
       "\\item 7\n",
       "\\item 8\n",
       "\\item 9\n",
       "\\end{enumerate*}\n"
      ],
      "text/markdown": [
       "1. 5\n",
       "2. 7\n",
       "3. 8\n",
       "4. 9\n",
       "\n",
       "\n"
      ],
      "text/plain": [
       "[1] 5 7 8 9"
      ]
     },
     "metadata": {},
     "output_type": "display_data"
    },
    {
     "data": {
      "text/html": [
       "<ol class=list-inline>\n",
       "\t<li>1</li>\n",
       "\t<li>5</li>\n",
       "\t<li>7</li>\n",
       "\t<li>8</li>\n",
       "\t<li>9</li>\n",
       "</ol>\n"
      ],
      "text/latex": [
       "\\begin{enumerate*}\n",
       "\\item 1\n",
       "\\item 5\n",
       "\\item 7\n",
       "\\item 8\n",
       "\\item 9\n",
       "\\end{enumerate*}\n"
      ],
      "text/markdown": [
       "1. 1\n",
       "2. 5\n",
       "3. 7\n",
       "4. 8\n",
       "5. 9\n",
       "\n",
       "\n"
      ],
      "text/plain": [
       "[1] 1 5 7 8 9"
      ]
     },
     "metadata": {},
     "output_type": "display_data"
    },
    {
     "data": {
      "text/html": [
       "4"
      ],
      "text/latex": [
       "4"
      ],
      "text/markdown": [
       "4"
      ],
      "text/plain": [
       "[1] 4"
      ]
     },
     "metadata": {},
     "output_type": "display_data"
    },
    {
     "data": {
      "text/html": [
       "<ol class=list-inline>\n",
       "\t<li>0</li>\n",
       "\t<li>0</li>\n",
       "\t<li>1</li>\n",
       "\t<li>1</li>\n",
       "\t<li>1</li>\n",
       "\t<li>1</li>\n",
       "</ol>\n"
      ],
      "text/latex": [
       "\\begin{enumerate*}\n",
       "\\item 0\n",
       "\\item 0\n",
       "\\item 1\n",
       "\\item 1\n",
       "\\item 1\n",
       "\\item 1\n",
       "\\end{enumerate*}\n"
      ],
      "text/markdown": [
       "1. 0\n",
       "2. 0\n",
       "3. 1\n",
       "4. 1\n",
       "5. 1\n",
       "6. 1\n",
       "\n",
       "\n"
      ],
      "text/plain": [
       "[1] 0 0 1 1 1 1"
      ]
     },
     "metadata": {},
     "output_type": "display_data"
    },
    {
     "data": {
      "text/html": [
       "<ol class=list-inline>\n",
       "\t<li>3</li>\n",
       "\t<li>4</li>\n",
       "\t<li>5</li>\n",
       "\t<li>6</li>\n",
       "</ol>\n"
      ],
      "text/latex": [
       "\\begin{enumerate*}\n",
       "\\item 3\n",
       "\\item 4\n",
       "\\item 5\n",
       "\\item 6\n",
       "\\end{enumerate*}\n"
      ],
      "text/markdown": [
       "1. 3\n",
       "2. 4\n",
       "3. 5\n",
       "4. 6\n",
       "\n",
       "\n"
      ],
      "text/plain": [
       "[1] 3 4 5 6"
      ]
     },
     "metadata": {},
     "output_type": "display_data"
    },
    {
     "data": {
      "text/html": [
       "<ol class=list-inline>\n",
       "\t<li>5</li>\n",
       "\t<li>7</li>\n",
       "\t<li>8</li>\n",
       "\t<li>9</li>\n",
       "</ol>\n"
      ],
      "text/latex": [
       "\\begin{enumerate*}\n",
       "\\item 5\n",
       "\\item 7\n",
       "\\item 8\n",
       "\\item 9\n",
       "\\end{enumerate*}\n"
      ],
      "text/markdown": [
       "1. 5\n",
       "2. 7\n",
       "3. 8\n",
       "4. 9\n",
       "\n",
       "\n"
      ],
      "text/plain": [
       "[1] 5 7 8 9"
      ]
     },
     "metadata": {},
     "output_type": "display_data"
    },
    {
     "data": {
      "text/html": [
       "9"
      ],
      "text/latex": [
       "9"
      ],
      "text/markdown": [
       "9"
      ],
      "text/plain": [
       "[1] 9"
      ]
     },
     "metadata": {},
     "output_type": "display_data"
    },
    {
     "data": {
      "text/html": [
       "6"
      ],
      "text/latex": [
       "6"
      ],
      "text/markdown": [
       "6"
      ],
      "text/plain": [
       "[1] 6"
      ]
     },
     "metadata": {},
     "output_type": "display_data"
    }
   ],
   "source": [
    "x[x > 3]\n",
    "x[x != 3]\n",
    "sum(x > 3) \n",
    "#sum of all elements. Here R is auto-coercing logical to numeric\n",
    "as.numeric( x > 3) \n",
    "which(x > 3) #return indices\n",
    "x[which(x > 3)]\n",
    "max(x)\n",
    "which.max(x)"
   ]
  },
  {
   "cell_type": "markdown",
   "id": "6b42c077",
   "metadata": {},
   "source": [
    "##### More vectorization\n"
   ]
  },
  {
   "cell_type": "code",
   "execution_count": 42,
   "id": "60322647",
   "metadata": {},
   "outputs": [],
   "source": [
    "x = c(1, 3, 5, 7, 8, 9)\n",
    "y = 1:100"
   ]
  },
  {
   "cell_type": "code",
   "execution_count": 43,
   "id": "6302fa44",
   "metadata": {},
   "outputs": [
    {
     "name": "stderr",
     "output_type": "stream",
     "text": [
      "Warning message in x + y:\n",
      "\"longer object length is not a multiple of shorter object length\""
     ]
    },
    {
     "data": {
      "text/html": [
       "<ol class=list-inline>\n",
       "\t<li>2</li>\n",
       "\t<li>5</li>\n",
       "\t<li>8</li>\n",
       "\t<li>11</li>\n",
       "\t<li>13</li>\n",
       "\t<li>15</li>\n",
       "\t<li>8</li>\n",
       "\t<li>11</li>\n",
       "\t<li>14</li>\n",
       "\t<li>17</li>\n",
       "\t<li>19</li>\n",
       "\t<li>21</li>\n",
       "\t<li>14</li>\n",
       "\t<li>17</li>\n",
       "\t<li>20</li>\n",
       "\t<li>23</li>\n",
       "\t<li>25</li>\n",
       "\t<li>27</li>\n",
       "\t<li>20</li>\n",
       "\t<li>23</li>\n",
       "\t<li>26</li>\n",
       "\t<li>29</li>\n",
       "\t<li>31</li>\n",
       "\t<li>33</li>\n",
       "\t<li>26</li>\n",
       "\t<li>29</li>\n",
       "\t<li>32</li>\n",
       "\t<li>35</li>\n",
       "\t<li>37</li>\n",
       "\t<li>39</li>\n",
       "\t<li>32</li>\n",
       "\t<li>35</li>\n",
       "\t<li>38</li>\n",
       "\t<li>41</li>\n",
       "\t<li>43</li>\n",
       "\t<li>45</li>\n",
       "\t<li>38</li>\n",
       "\t<li>41</li>\n",
       "\t<li>44</li>\n",
       "\t<li>47</li>\n",
       "\t<li>49</li>\n",
       "\t<li>51</li>\n",
       "\t<li>44</li>\n",
       "\t<li>47</li>\n",
       "\t<li>50</li>\n",
       "\t<li>53</li>\n",
       "\t<li>55</li>\n",
       "\t<li>57</li>\n",
       "\t<li>50</li>\n",
       "\t<li>53</li>\n",
       "\t<li>56</li>\n",
       "\t<li>59</li>\n",
       "\t<li>61</li>\n",
       "\t<li>63</li>\n",
       "\t<li>56</li>\n",
       "\t<li>59</li>\n",
       "\t<li>62</li>\n",
       "\t<li>65</li>\n",
       "\t<li>67</li>\n",
       "\t<li>69</li>\n",
       "\t<li>62</li>\n",
       "\t<li>65</li>\n",
       "\t<li>68</li>\n",
       "\t<li>71</li>\n",
       "\t<li>73</li>\n",
       "\t<li>75</li>\n",
       "\t<li>68</li>\n",
       "\t<li>71</li>\n",
       "\t<li>74</li>\n",
       "\t<li>77</li>\n",
       "\t<li>79</li>\n",
       "\t<li>81</li>\n",
       "\t<li>74</li>\n",
       "\t<li>77</li>\n",
       "\t<li>80</li>\n",
       "\t<li>83</li>\n",
       "\t<li>85</li>\n",
       "\t<li>87</li>\n",
       "\t<li>80</li>\n",
       "\t<li>83</li>\n",
       "\t<li>86</li>\n",
       "\t<li>89</li>\n",
       "\t<li>91</li>\n",
       "\t<li>93</li>\n",
       "\t<li>86</li>\n",
       "\t<li>89</li>\n",
       "\t<li>92</li>\n",
       "\t<li>95</li>\n",
       "\t<li>97</li>\n",
       "\t<li>99</li>\n",
       "\t<li>92</li>\n",
       "\t<li>95</li>\n",
       "\t<li>98</li>\n",
       "\t<li>101</li>\n",
       "\t<li>103</li>\n",
       "\t<li>105</li>\n",
       "\t<li>98</li>\n",
       "\t<li>101</li>\n",
       "\t<li>104</li>\n",
       "\t<li>107</li>\n",
       "</ol>\n"
      ],
      "text/latex": [
       "\\begin{enumerate*}\n",
       "\\item 2\n",
       "\\item 5\n",
       "\\item 8\n",
       "\\item 11\n",
       "\\item 13\n",
       "\\item 15\n",
       "\\item 8\n",
       "\\item 11\n",
       "\\item 14\n",
       "\\item 17\n",
       "\\item 19\n",
       "\\item 21\n",
       "\\item 14\n",
       "\\item 17\n",
       "\\item 20\n",
       "\\item 23\n",
       "\\item 25\n",
       "\\item 27\n",
       "\\item 20\n",
       "\\item 23\n",
       "\\item 26\n",
       "\\item 29\n",
       "\\item 31\n",
       "\\item 33\n",
       "\\item 26\n",
       "\\item 29\n",
       "\\item 32\n",
       "\\item 35\n",
       "\\item 37\n",
       "\\item 39\n",
       "\\item 32\n",
       "\\item 35\n",
       "\\item 38\n",
       "\\item 41\n",
       "\\item 43\n",
       "\\item 45\n",
       "\\item 38\n",
       "\\item 41\n",
       "\\item 44\n",
       "\\item 47\n",
       "\\item 49\n",
       "\\item 51\n",
       "\\item 44\n",
       "\\item 47\n",
       "\\item 50\n",
       "\\item 53\n",
       "\\item 55\n",
       "\\item 57\n",
       "\\item 50\n",
       "\\item 53\n",
       "\\item 56\n",
       "\\item 59\n",
       "\\item 61\n",
       "\\item 63\n",
       "\\item 56\n",
       "\\item 59\n",
       "\\item 62\n",
       "\\item 65\n",
       "\\item 67\n",
       "\\item 69\n",
       "\\item 62\n",
       "\\item 65\n",
       "\\item 68\n",
       "\\item 71\n",
       "\\item 73\n",
       "\\item 75\n",
       "\\item 68\n",
       "\\item 71\n",
       "\\item 74\n",
       "\\item 77\n",
       "\\item 79\n",
       "\\item 81\n",
       "\\item 74\n",
       "\\item 77\n",
       "\\item 80\n",
       "\\item 83\n",
       "\\item 85\n",
       "\\item 87\n",
       "\\item 80\n",
       "\\item 83\n",
       "\\item 86\n",
       "\\item 89\n",
       "\\item 91\n",
       "\\item 93\n",
       "\\item 86\n",
       "\\item 89\n",
       "\\item 92\n",
       "\\item 95\n",
       "\\item 97\n",
       "\\item 99\n",
       "\\item 92\n",
       "\\item 95\n",
       "\\item 98\n",
       "\\item 101\n",
       "\\item 103\n",
       "\\item 105\n",
       "\\item 98\n",
       "\\item 101\n",
       "\\item 104\n",
       "\\item 107\n",
       "\\end{enumerate*}\n"
      ],
      "text/markdown": [
       "1. 2\n",
       "2. 5\n",
       "3. 8\n",
       "4. 11\n",
       "5. 13\n",
       "6. 15\n",
       "7. 8\n",
       "8. 11\n",
       "9. 14\n",
       "10. 17\n",
       "11. 19\n",
       "12. 21\n",
       "13. 14\n",
       "14. 17\n",
       "15. 20\n",
       "16. 23\n",
       "17. 25\n",
       "18. 27\n",
       "19. 20\n",
       "20. 23\n",
       "21. 26\n",
       "22. 29\n",
       "23. 31\n",
       "24. 33\n",
       "25. 26\n",
       "26. 29\n",
       "27. 32\n",
       "28. 35\n",
       "29. 37\n",
       "30. 39\n",
       "31. 32\n",
       "32. 35\n",
       "33. 38\n",
       "34. 41\n",
       "35. 43\n",
       "36. 45\n",
       "37. 38\n",
       "38. 41\n",
       "39. 44\n",
       "40. 47\n",
       "41. 49\n",
       "42. 51\n",
       "43. 44\n",
       "44. 47\n",
       "45. 50\n",
       "46. 53\n",
       "47. 55\n",
       "48. 57\n",
       "49. 50\n",
       "50. 53\n",
       "51. 56\n",
       "52. 59\n",
       "53. 61\n",
       "54. 63\n",
       "55. 56\n",
       "56. 59\n",
       "57. 62\n",
       "58. 65\n",
       "59. 67\n",
       "60. 69\n",
       "61. 62\n",
       "62. 65\n",
       "63. 68\n",
       "64. 71\n",
       "65. 73\n",
       "66. 75\n",
       "67. 68\n",
       "68. 71\n",
       "69. 74\n",
       "70. 77\n",
       "71. 79\n",
       "72. 81\n",
       "73. 74\n",
       "74. 77\n",
       "75. 80\n",
       "76. 83\n",
       "77. 85\n",
       "78. 87\n",
       "79. 80\n",
       "80. 83\n",
       "81. 86\n",
       "82. 89\n",
       "83. 91\n",
       "84. 93\n",
       "85. 86\n",
       "86. 89\n",
       "87. 92\n",
       "88. 95\n",
       "89. 97\n",
       "90. 99\n",
       "91. 92\n",
       "92. 95\n",
       "93. 98\n",
       "94. 101\n",
       "95. 103\n",
       "96. 105\n",
       "97. 98\n",
       "98. 101\n",
       "99. 104\n",
       "100. 107\n",
       "\n",
       "\n"
      ],
      "text/plain": [
       "  [1]   2   5   8  11  13  15   8  11  14  17  19  21  14  17  20  23  25  27\n",
       " [19]  20  23  26  29  31  33  26  29  32  35  37  39  32  35  38  41  43  45\n",
       " [37]  38  41  44  47  49  51  44  47  50  53  55  57  50  53  56  59  61  63\n",
       " [55]  56  59  62  65  67  69  62  65  68  71  73  75  68  71  74  77  79  81\n",
       " [73]  74  77  80  83  85  87  80  83  86  89  91  93  86  89  92  95  97  99\n",
       " [91]  92  95  98 101 103 105  98 101 104 107"
      ]
     },
     "metadata": {},
     "output_type": "display_data"
    }
   ],
   "source": [
    "x + y"
   ]
  },
  {
   "cell_type": "markdown",
   "id": "f601b9bd",
   "metadata": {},
   "source": [
    "R is auto-coercing"
   ]
  },
  {
   "cell_type": "code",
   "execution_count": 44,
   "id": "89614f60",
   "metadata": {},
   "outputs": [
    {
     "data": {
      "text/html": [
       "<ol class=list-inline>\n",
       "\t<li>2</li>\n",
       "\t<li>5</li>\n",
       "\t<li>8</li>\n",
       "\t<li>11</li>\n",
       "\t<li>13</li>\n",
       "\t<li>15</li>\n",
       "\t<li>8</li>\n",
       "\t<li>11</li>\n",
       "\t<li>14</li>\n",
       "\t<li>17</li>\n",
       "\t<li>19</li>\n",
       "\t<li>21</li>\n",
       "\t<li>14</li>\n",
       "\t<li>17</li>\n",
       "\t<li>20</li>\n",
       "\t<li>23</li>\n",
       "\t<li>25</li>\n",
       "\t<li>27</li>\n",
       "\t<li>20</li>\n",
       "\t<li>23</li>\n",
       "\t<li>26</li>\n",
       "\t<li>29</li>\n",
       "\t<li>31</li>\n",
       "\t<li>33</li>\n",
       "\t<li>26</li>\n",
       "\t<li>29</li>\n",
       "\t<li>32</li>\n",
       "\t<li>35</li>\n",
       "\t<li>37</li>\n",
       "\t<li>39</li>\n",
       "\t<li>32</li>\n",
       "\t<li>35</li>\n",
       "\t<li>38</li>\n",
       "\t<li>41</li>\n",
       "\t<li>43</li>\n",
       "\t<li>45</li>\n",
       "\t<li>38</li>\n",
       "\t<li>41</li>\n",
       "\t<li>44</li>\n",
       "\t<li>47</li>\n",
       "\t<li>49</li>\n",
       "\t<li>51</li>\n",
       "\t<li>44</li>\n",
       "\t<li>47</li>\n",
       "\t<li>50</li>\n",
       "\t<li>53</li>\n",
       "\t<li>55</li>\n",
       "\t<li>57</li>\n",
       "\t<li>50</li>\n",
       "\t<li>53</li>\n",
       "\t<li>56</li>\n",
       "\t<li>59</li>\n",
       "\t<li>61</li>\n",
       "\t<li>63</li>\n",
       "\t<li>56</li>\n",
       "\t<li>59</li>\n",
       "\t<li>62</li>\n",
       "\t<li>65</li>\n",
       "\t<li>67</li>\n",
       "\t<li>69</li>\n",
       "</ol>\n"
      ],
      "text/latex": [
       "\\begin{enumerate*}\n",
       "\\item 2\n",
       "\\item 5\n",
       "\\item 8\n",
       "\\item 11\n",
       "\\item 13\n",
       "\\item 15\n",
       "\\item 8\n",
       "\\item 11\n",
       "\\item 14\n",
       "\\item 17\n",
       "\\item 19\n",
       "\\item 21\n",
       "\\item 14\n",
       "\\item 17\n",
       "\\item 20\n",
       "\\item 23\n",
       "\\item 25\n",
       "\\item 27\n",
       "\\item 20\n",
       "\\item 23\n",
       "\\item 26\n",
       "\\item 29\n",
       "\\item 31\n",
       "\\item 33\n",
       "\\item 26\n",
       "\\item 29\n",
       "\\item 32\n",
       "\\item 35\n",
       "\\item 37\n",
       "\\item 39\n",
       "\\item 32\n",
       "\\item 35\n",
       "\\item 38\n",
       "\\item 41\n",
       "\\item 43\n",
       "\\item 45\n",
       "\\item 38\n",
       "\\item 41\n",
       "\\item 44\n",
       "\\item 47\n",
       "\\item 49\n",
       "\\item 51\n",
       "\\item 44\n",
       "\\item 47\n",
       "\\item 50\n",
       "\\item 53\n",
       "\\item 55\n",
       "\\item 57\n",
       "\\item 50\n",
       "\\item 53\n",
       "\\item 56\n",
       "\\item 59\n",
       "\\item 61\n",
       "\\item 63\n",
       "\\item 56\n",
       "\\item 59\n",
       "\\item 62\n",
       "\\item 65\n",
       "\\item 67\n",
       "\\item 69\n",
       "\\end{enumerate*}\n"
      ],
      "text/markdown": [
       "1. 2\n",
       "2. 5\n",
       "3. 8\n",
       "4. 11\n",
       "5. 13\n",
       "6. 15\n",
       "7. 8\n",
       "8. 11\n",
       "9. 14\n",
       "10. 17\n",
       "11. 19\n",
       "12. 21\n",
       "13. 14\n",
       "14. 17\n",
       "15. 20\n",
       "16. 23\n",
       "17. 25\n",
       "18. 27\n",
       "19. 20\n",
       "20. 23\n",
       "21. 26\n",
       "22. 29\n",
       "23. 31\n",
       "24. 33\n",
       "25. 26\n",
       "26. 29\n",
       "27. 32\n",
       "28. 35\n",
       "29. 37\n",
       "30. 39\n",
       "31. 32\n",
       "32. 35\n",
       "33. 38\n",
       "34. 41\n",
       "35. 43\n",
       "36. 45\n",
       "37. 38\n",
       "38. 41\n",
       "39. 44\n",
       "40. 47\n",
       "41. 49\n",
       "42. 51\n",
       "43. 44\n",
       "44. 47\n",
       "45. 50\n",
       "46. 53\n",
       "47. 55\n",
       "48. 57\n",
       "49. 50\n",
       "50. 53\n",
       "51. 56\n",
       "52. 59\n",
       "53. 61\n",
       "54. 63\n",
       "55. 56\n",
       "56. 59\n",
       "57. 62\n",
       "58. 65\n",
       "59. 67\n",
       "60. 69\n",
       "\n",
       "\n"
      ],
      "text/plain": [
       " [1]  2  5  8 11 13 15  8 11 14 17 19 21 14 17 20 23 25 27 20 23 26 29 31 33 26\n",
       "[26] 29 32 35 37 39 32 35 38 41 43 45 38 41 44 47 49 51 44 47 50 53 55 57 50 53\n",
       "[51] 56 59 61 63 56 59 62 65 67 69"
      ]
     },
     "metadata": {},
     "output_type": "display_data"
    }
   ],
   "source": [
    "y = 1:60\n",
    "x + y"
   ]
  },
  {
   "cell_type": "code",
   "execution_count": 58,
   "id": "fef6a9c2",
   "metadata": {},
   "outputs": [
    {
     "data": {
      "text/html": [
       "TRUE"
      ],
      "text/latex": [
       "TRUE"
      ],
      "text/markdown": [
       "TRUE"
      ],
      "text/plain": [
       "[1] TRUE"
      ]
     },
     "metadata": {},
     "output_type": "display_data"
    },
    {
     "data": {
      "text/html": [
       "TRUE"
      ],
      "text/latex": [
       "TRUE"
      ],
      "text/markdown": [
       "TRUE"
      ],
      "text/plain": [
       "[1] TRUE"
      ]
     },
     "metadata": {},
     "output_type": "display_data"
    }
   ],
   "source": [
    "all(x + y == rep(x, 10) + y)\n",
    "#return whether all of logical vectors in this are true\n",
    "identical(x + y, rep(x, 10) + y)\n",
    "#test if two objects are identical"
   ]
  },
  {
   "cell_type": "markdown",
   "id": "9cf8fb69",
   "metadata": {},
   "source": [
    "#### 2.2 Matrices\n",
    "Matrices have rows and columns containing a single data type. In a matrix, the order of rows and columns is important.\n",
    "\n",
    "##### Create matrix\n",
    "Matrices can be created using the matrix function."
   ]
  },
  {
   "cell_type": "code",
   "execution_count": 60,
   "id": "7d190743",
   "metadata": {},
   "outputs": [
    {
     "data": {
      "text/html": [
       "<table>\n",
       "<tbody>\n",
       "\t<tr><td>1</td><td>4</td><td>7</td></tr>\n",
       "\t<tr><td>2</td><td>5</td><td>8</td></tr>\n",
       "\t<tr><td>3</td><td>6</td><td>9</td></tr>\n",
       "</tbody>\n",
       "</table>\n"
      ],
      "text/latex": [
       "\\begin{tabular}{lll}\n",
       "\t 1 & 4 & 7\\\\\n",
       "\t 2 & 5 & 8\\\\\n",
       "\t 3 & 6 & 9\\\\\n",
       "\\end{tabular}\n"
      ],
      "text/markdown": [
       "\n",
       "| 1 | 4 | 7 |\n",
       "| 2 | 5 | 8 |\n",
       "| 3 | 6 | 9 |\n",
       "\n"
      ],
      "text/plain": [
       "     [,1] [,2] [,3]\n",
       "[1,] 1    4    7   \n",
       "[2,] 2    5    8   \n",
       "[3,] 3    6    9   "
      ]
     },
     "metadata": {},
     "output_type": "display_data"
    }
   ],
   "source": [
    "x = 1:9\n",
    "X = matrix(x, nrow = 3, ncol = 3)\n",
    "X"
   ]
  },
  {
   "cell_type": "markdown",
   "id": "7c22b6e1",
   "metadata": {},
   "source": [
    "By default the matrix function reorders a vector into columns, but we can also tell R to use rows instead"
   ]
  },
  {
   "cell_type": "code",
   "execution_count": 61,
   "id": "a12fc4a0",
   "metadata": {},
   "outputs": [
    {
     "data": {
      "text/html": [
       "<table>\n",
       "<tbody>\n",
       "\t<tr><td>1</td><td>2</td><td>3</td></tr>\n",
       "\t<tr><td>4</td><td>5</td><td>6</td></tr>\n",
       "\t<tr><td>7</td><td>8</td><td>9</td></tr>\n",
       "</tbody>\n",
       "</table>\n"
      ],
      "text/latex": [
       "\\begin{tabular}{lll}\n",
       "\t 1 & 2 & 3\\\\\n",
       "\t 4 & 5 & 6\\\\\n",
       "\t 7 & 8 & 9\\\\\n",
       "\\end{tabular}\n"
      ],
      "text/markdown": [
       "\n",
       "| 1 | 2 | 3 |\n",
       "| 4 | 5 | 6 |\n",
       "| 7 | 8 | 9 |\n",
       "\n"
      ],
      "text/plain": [
       "     [,1] [,2] [,3]\n",
       "[1,] 1    2    3   \n",
       "[2,] 4    5    6   \n",
       "[3,] 7    8    9   "
      ]
     },
     "metadata": {},
     "output_type": "display_data"
    }
   ],
   "source": [
    "Y = matrix(x, nrow = 3, ncol = 3, byrow = TRUE)\n",
    "Y"
   ]
  },
  {
   "cell_type": "markdown",
   "id": "8a49356e",
   "metadata": {},
   "source": [
    "Create a matrix where every element is the same "
   ]
  },
  {
   "cell_type": "code",
   "execution_count": 63,
   "id": "2649ed6b",
   "metadata": {},
   "outputs": [
    {
     "data": {
      "text/html": [
       "<table>\n",
       "<tbody>\n",
       "\t<tr><td>0</td><td>0</td></tr>\n",
       "\t<tr><td>0</td><td>0</td></tr>\n",
       "\t<tr><td>0</td><td>0</td></tr>\n",
       "</tbody>\n",
       "</table>\n"
      ],
      "text/latex": [
       "\\begin{tabular}{ll}\n",
       "\t 0 & 0\\\\\n",
       "\t 0 & 0\\\\\n",
       "\t 0 & 0\\\\\n",
       "\\end{tabular}\n"
      ],
      "text/markdown": [
       "\n",
       "| 0 | 0 |\n",
       "| 0 | 0 |\n",
       "| 0 | 0 |\n",
       "\n"
      ],
      "text/plain": [
       "     [,1] [,2]\n",
       "[1,] 0    0   \n",
       "[2,] 0    0   \n",
       "[3,] 0    0   "
      ]
     },
     "metadata": {},
     "output_type": "display_data"
    }
   ],
   "source": [
    "Z = matrix(0, 3, 2)\n",
    "Z"
   ]
  },
  {
   "cell_type": "markdown",
   "id": "e5953f21",
   "metadata": {},
   "source": [
    "##### Subsetting \n",
    "Using [ ] with specifying row and column"
   ]
  },
  {
   "cell_type": "code",
   "execution_count": 65,
   "id": "19d1ebf3",
   "metadata": {},
   "outputs": [
    {
     "data": {
      "text/html": [
       "<table>\n",
       "<tbody>\n",
       "\t<tr><td>1</td><td>4</td><td>7</td></tr>\n",
       "\t<tr><td>2</td><td>5</td><td>8</td></tr>\n",
       "\t<tr><td>3</td><td>6</td><td>9</td></tr>\n",
       "</tbody>\n",
       "</table>\n"
      ],
      "text/latex": [
       "\\begin{tabular}{lll}\n",
       "\t 1 & 4 & 7\\\\\n",
       "\t 2 & 5 & 8\\\\\n",
       "\t 3 & 6 & 9\\\\\n",
       "\\end{tabular}\n"
      ],
      "text/markdown": [
       "\n",
       "| 1 | 4 | 7 |\n",
       "| 2 | 5 | 8 |\n",
       "| 3 | 6 | 9 |\n",
       "\n"
      ],
      "text/plain": [
       "     [,1] [,2] [,3]\n",
       "[1,] 1    4    7   \n",
       "[2,] 2    5    8   \n",
       "[3,] 3    6    9   "
      ]
     },
     "metadata": {},
     "output_type": "display_data"
    },
    {
     "data": {
      "text/html": [
       "4"
      ],
      "text/latex": [
       "4"
      ],
      "text/markdown": [
       "4"
      ],
      "text/plain": [
       "[1] 4"
      ]
     },
     "metadata": {},
     "output_type": "display_data"
    },
    {
     "data": {
      "text/html": [
       "<ol class=list-inline>\n",
       "\t<li>1</li>\n",
       "\t<li>4</li>\n",
       "\t<li>7</li>\n",
       "</ol>\n"
      ],
      "text/latex": [
       "\\begin{enumerate*}\n",
       "\\item 1\n",
       "\\item 4\n",
       "\\item 7\n",
       "\\end{enumerate*}\n"
      ],
      "text/markdown": [
       "1. 1\n",
       "2. 4\n",
       "3. 7\n",
       "\n",
       "\n"
      ],
      "text/plain": [
       "[1] 1 4 7"
      ]
     },
     "metadata": {},
     "output_type": "display_data"
    },
    {
     "data": {
      "text/html": [
       "<ol class=list-inline>\n",
       "\t<li>4</li>\n",
       "\t<li>5</li>\n",
       "\t<li>6</li>\n",
       "</ol>\n"
      ],
      "text/latex": [
       "\\begin{enumerate*}\n",
       "\\item 4\n",
       "\\item 5\n",
       "\\item 6\n",
       "\\end{enumerate*}\n"
      ],
      "text/markdown": [
       "1. 4\n",
       "2. 5\n",
       "3. 6\n",
       "\n",
       "\n"
      ],
      "text/plain": [
       "[1] 4 5 6"
      ]
     },
     "metadata": {},
     "output_type": "display_data"
    }
   ],
   "source": [
    "X\n",
    "X[1,2]\n",
    "X[1,]\n",
    "X[,2]"
   ]
  },
  {
   "cell_type": "markdown",
   "id": "2cf8e737",
   "metadata": {},
   "source": [
    "Can subset more than one row or column at a time"
   ]
  },
  {
   "cell_type": "code",
   "execution_count": 66,
   "id": "87dade77",
   "metadata": {},
   "outputs": [
    {
     "data": {
      "text/html": [
       "<ol class=list-inline>\n",
       "\t<li>2</li>\n",
       "\t<li>8</li>\n",
       "</ol>\n"
      ],
      "text/latex": [
       "\\begin{enumerate*}\n",
       "\\item 2\n",
       "\\item 8\n",
       "\\end{enumerate*}\n"
      ],
      "text/markdown": [
       "1. 2\n",
       "2. 8\n",
       "\n",
       "\n"
      ],
      "text/plain": [
       "[1] 2 8"
      ]
     },
     "metadata": {},
     "output_type": "display_data"
    }
   ],
   "source": [
    "X[2, c(1, 3)]"
   ]
  },
  {
   "cell_type": "markdown",
   "id": "5caa69d6",
   "metadata": {},
   "source": [
    "##### Combining"
   ]
  },
  {
   "cell_type": "code",
   "execution_count": 67,
   "id": "d1914298",
   "metadata": {},
   "outputs": [
    {
     "data": {
      "text/html": [
       "<ol class=list-inline>\n",
       "\t<li>9</li>\n",
       "\t<li>8</li>\n",
       "\t<li>7</li>\n",
       "\t<li>6</li>\n",
       "\t<li>5</li>\n",
       "\t<li>4</li>\n",
       "\t<li>3</li>\n",
       "\t<li>2</li>\n",
       "\t<li>1</li>\n",
       "</ol>\n"
      ],
      "text/latex": [
       "\\begin{enumerate*}\n",
       "\\item 9\n",
       "\\item 8\n",
       "\\item 7\n",
       "\\item 6\n",
       "\\item 5\n",
       "\\item 4\n",
       "\\item 3\n",
       "\\item 2\n",
       "\\item 1\n",
       "\\end{enumerate*}\n"
      ],
      "text/markdown": [
       "1. 9\n",
       "2. 8\n",
       "3. 7\n",
       "4. 6\n",
       "5. 5\n",
       "6. 4\n",
       "7. 3\n",
       "8. 2\n",
       "9. 1\n",
       "\n",
       "\n"
      ],
      "text/plain": [
       "[1] 9 8 7 6 5 4 3 2 1"
      ]
     },
     "metadata": {},
     "output_type": "display_data"
    },
    {
     "data": {
      "text/html": [
       "<ol class=list-inline>\n",
       "\t<li>1</li>\n",
       "\t<li>1</li>\n",
       "\t<li>1</li>\n",
       "\t<li>1</li>\n",
       "\t<li>1</li>\n",
       "\t<li>1</li>\n",
       "\t<li>1</li>\n",
       "\t<li>1</li>\n",
       "\t<li>1</li>\n",
       "</ol>\n"
      ],
      "text/latex": [
       "\\begin{enumerate*}\n",
       "\\item 1\n",
       "\\item 1\n",
       "\\item 1\n",
       "\\item 1\n",
       "\\item 1\n",
       "\\item 1\n",
       "\\item 1\n",
       "\\item 1\n",
       "\\item 1\n",
       "\\end{enumerate*}\n"
      ],
      "text/markdown": [
       "1. 1\n",
       "2. 1\n",
       "3. 1\n",
       "4. 1\n",
       "5. 1\n",
       "6. 1\n",
       "7. 1\n",
       "8. 1\n",
       "9. 1\n",
       "\n",
       "\n"
      ],
      "text/plain": [
       "[1] 1 1 1 1 1 1 1 1 1"
      ]
     },
     "metadata": {},
     "output_type": "display_data"
    }
   ],
   "source": [
    "x = 1:9\n",
    "rev(x) # reverse vector\n",
    "rep(1,9)"
   ]
  },
  {
   "cell_type": "markdown",
   "id": "b01d7e2f",
   "metadata": {},
   "source": [
    "- rbind: combine vectors to matrix where each is a row\n",
    "- cbind: combine vectors to matrix where each is a column\n",
    "\n",
    "Can specified argument names "
   ]
  },
  {
   "cell_type": "code",
   "execution_count": 72,
   "id": "afd94dfb",
   "metadata": {},
   "outputs": [
    {
     "data": {
      "text/html": [
       "<table>\n",
       "<tbody>\n",
       "\t<tr><th scope=row>x</th><td>1</td><td>2</td><td>3</td><td>4</td><td>5</td><td>6</td><td>7</td><td>8</td><td>9</td></tr>\n",
       "\t<tr><th scope=row></th><td>9</td><td>8</td><td>7</td><td>6</td><td>5</td><td>4</td><td>3</td><td>2</td><td>1</td></tr>\n",
       "\t<tr><th scope=row></th><td>1</td><td>1</td><td>1</td><td>1</td><td>1</td><td>1</td><td>1</td><td>1</td><td>1</td></tr>\n",
       "</tbody>\n",
       "</table>\n"
      ],
      "text/latex": [
       "\\begin{tabular}{r|lllllllll}\n",
       "\tx & 1 & 2 & 3 & 4 & 5 & 6 & 7 & 8 & 9\\\\\n",
       "\t & 9 & 8 & 7 & 6 & 5 & 4 & 3 & 2 & 1\\\\\n",
       "\t & 1 & 1 & 1 & 1 & 1 & 1 & 1 & 1 & 1\\\\\n",
       "\\end{tabular}\n"
      ],
      "text/markdown": [
       "\n",
       "| x | 1 | 2 | 3 | 4 | 5 | 6 | 7 | 8 | 9 |\n",
       "|  | 9 | 8 | 7 | 6 | 5 | 4 | 3 | 2 | 1 |\n",
       "|  | 1 | 1 | 1 | 1 | 1 | 1 | 1 | 1 | 1 |\n",
       "\n"
      ],
      "text/plain": [
       "  [,1] [,2] [,3] [,4] [,5] [,6] [,7] [,8] [,9]\n",
       "x 1    2    3    4    5    6    7    8    9   \n",
       "  9    8    7    6    5    4    3    2    1   \n",
       "  1    1    1    1    1    1    1    1    1   "
      ]
     },
     "metadata": {},
     "output_type": "display_data"
    },
    {
     "data": {
      "text/html": [
       "<table>\n",
       "<thead><tr><th scope=col>col_1</th><th scope=col>col_2</th><th scope=col>col_3</th></tr></thead>\n",
       "<tbody>\n",
       "\t<tr><td>1</td><td>9</td><td>1</td></tr>\n",
       "\t<tr><td>2</td><td>8</td><td>1</td></tr>\n",
       "\t<tr><td>3</td><td>7</td><td>1</td></tr>\n",
       "\t<tr><td>4</td><td>6</td><td>1</td></tr>\n",
       "\t<tr><td>5</td><td>5</td><td>1</td></tr>\n",
       "\t<tr><td>6</td><td>4</td><td>1</td></tr>\n",
       "\t<tr><td>7</td><td>3</td><td>1</td></tr>\n",
       "\t<tr><td>8</td><td>2</td><td>1</td></tr>\n",
       "\t<tr><td>9</td><td>1</td><td>1</td></tr>\n",
       "</tbody>\n",
       "</table>\n"
      ],
      "text/latex": [
       "\\begin{tabular}{lll}\n",
       " col\\_1 & col\\_2 & col\\_3\\\\\n",
       "\\hline\n",
       "\t 1 & 9 & 1\\\\\n",
       "\t 2 & 8 & 1\\\\\n",
       "\t 3 & 7 & 1\\\\\n",
       "\t 4 & 6 & 1\\\\\n",
       "\t 5 & 5 & 1\\\\\n",
       "\t 6 & 4 & 1\\\\\n",
       "\t 7 & 3 & 1\\\\\n",
       "\t 8 & 2 & 1\\\\\n",
       "\t 9 & 1 & 1\\\\\n",
       "\\end{tabular}\n"
      ],
      "text/markdown": [
       "\n",
       "| col_1 | col_2 | col_3 |\n",
       "|---|---|---|\n",
       "| 1 | 9 | 1 |\n",
       "| 2 | 8 | 1 |\n",
       "| 3 | 7 | 1 |\n",
       "| 4 | 6 | 1 |\n",
       "| 5 | 5 | 1 |\n",
       "| 6 | 4 | 1 |\n",
       "| 7 | 3 | 1 |\n",
       "| 8 | 2 | 1 |\n",
       "| 9 | 1 | 1 |\n",
       "\n"
      ],
      "text/plain": [
       "      col_1 col_2 col_3\n",
       " [1,] 1     9     1    \n",
       " [2,] 2     8     1    \n",
       " [3,] 3     7     1    \n",
       " [4,] 4     6     1    \n",
       " [5,] 5     5     1    \n",
       " [6,] 6     4     1    \n",
       " [7,] 7     3     1    \n",
       " [8,] 8     2     1    \n",
       " [9,] 9     1     1    "
      ]
     },
     "metadata": {},
     "output_type": "display_data"
    }
   ],
   "source": [
    "rbind(x, rev(x), rep(1, 9))\n",
    "cbind(col_1 = x, col_2 = rev(x), col_3 = rep(1, 9)) "
   ]
  },
  {
   "cell_type": "markdown",
   "id": "6e19faf0",
   "metadata": {},
   "source": [
    " ##### Matrix calculation"
   ]
  },
  {
   "cell_type": "code",
   "execution_count": 1,
   "id": "71145bd0",
   "metadata": {},
   "outputs": [
    {
     "data": {
      "text/html": [
       "<table>\n",
       "<tbody>\n",
       "\t<tr><td>1</td><td>4</td><td>7</td></tr>\n",
       "\t<tr><td>2</td><td>5</td><td>8</td></tr>\n",
       "\t<tr><td>3</td><td>6</td><td>9</td></tr>\n",
       "</tbody>\n",
       "</table>\n"
      ],
      "text/latex": [
       "\\begin{tabular}{lll}\n",
       "\t 1 & 4 & 7\\\\\n",
       "\t 2 & 5 & 8\\\\\n",
       "\t 3 & 6 & 9\\\\\n",
       "\\end{tabular}\n"
      ],
      "text/markdown": [
       "\n",
       "| 1 | 4 | 7 |\n",
       "| 2 | 5 | 8 |\n",
       "| 3 | 6 | 9 |\n",
       "\n"
      ],
      "text/plain": [
       "     [,1] [,2] [,3]\n",
       "[1,] 1    4    7   \n",
       "[2,] 2    5    8   \n",
       "[3,] 3    6    9   "
      ]
     },
     "metadata": {},
     "output_type": "display_data"
    },
    {
     "data": {
      "text/html": [
       "<table>\n",
       "<tbody>\n",
       "\t<tr><td>9</td><td>6</td><td>3</td></tr>\n",
       "\t<tr><td>8</td><td>5</td><td>2</td></tr>\n",
       "\t<tr><td>7</td><td>4</td><td>1</td></tr>\n",
       "</tbody>\n",
       "</table>\n"
      ],
      "text/latex": [
       "\\begin{tabular}{lll}\n",
       "\t 9 & 6 & 3\\\\\n",
       "\t 8 & 5 & 2\\\\\n",
       "\t 7 & 4 & 1\\\\\n",
       "\\end{tabular}\n"
      ],
      "text/markdown": [
       "\n",
       "| 9 | 6 | 3 |\n",
       "| 8 | 5 | 2 |\n",
       "| 7 | 4 | 1 |\n",
       "\n"
      ],
      "text/plain": [
       "     [,1] [,2] [,3]\n",
       "[1,] 9    6    3   \n",
       "[2,] 8    5    2   \n",
       "[3,] 7    4    1   "
      ]
     },
     "metadata": {},
     "output_type": "display_data"
    }
   ],
   "source": [
    "X = matrix(1:9, 3, 3)\n",
    "Y = matrix(9:1, 3, 3)\n",
    "X\n",
    "Y"
   ]
  },
  {
   "cell_type": "code",
   "execution_count": 2,
   "id": "5a46d5c3",
   "metadata": {},
   "outputs": [
    {
     "data": {
      "text/html": [
       "<table>\n",
       "<tbody>\n",
       "\t<tr><td>10</td><td>10</td><td>10</td></tr>\n",
       "\t<tr><td>10</td><td>10</td><td>10</td></tr>\n",
       "\t<tr><td>10</td><td>10</td><td>10</td></tr>\n",
       "</tbody>\n",
       "</table>\n"
      ],
      "text/latex": [
       "\\begin{tabular}{lll}\n",
       "\t 10 & 10 & 10\\\\\n",
       "\t 10 & 10 & 10\\\\\n",
       "\t 10 & 10 & 10\\\\\n",
       "\\end{tabular}\n"
      ],
      "text/markdown": [
       "\n",
       "| 10 | 10 | 10 |\n",
       "| 10 | 10 | 10 |\n",
       "| 10 | 10 | 10 |\n",
       "\n"
      ],
      "text/plain": [
       "     [,1] [,2] [,3]\n",
       "[1,] 10   10   10  \n",
       "[2,] 10   10   10  \n",
       "[3,] 10   10   10  "
      ]
     },
     "metadata": {},
     "output_type": "display_data"
    },
    {
     "data": {
      "text/html": [
       "<table>\n",
       "<tbody>\n",
       "\t<tr><td>-8</td><td>-2</td><td>4 </td></tr>\n",
       "\t<tr><td>-6</td><td> 0</td><td>6 </td></tr>\n",
       "\t<tr><td>-4</td><td> 2</td><td>8 </td></tr>\n",
       "</tbody>\n",
       "</table>\n"
      ],
      "text/latex": [
       "\\begin{tabular}{lll}\n",
       "\t -8 & -2 & 4 \\\\\n",
       "\t -6 &  0 & 6 \\\\\n",
       "\t -4 &  2 & 8 \\\\\n",
       "\\end{tabular}\n"
      ],
      "text/markdown": [
       "\n",
       "| -8 | -2 | 4  |\n",
       "| -6 |  0 | 6  |\n",
       "| -4 |  2 | 8  |\n",
       "\n"
      ],
      "text/plain": [
       "     [,1] [,2] [,3]\n",
       "[1,] -8   -2   4   \n",
       "[2,] -6    0   6   \n",
       "[3,] -4    2   8   "
      ]
     },
     "metadata": {},
     "output_type": "display_data"
    },
    {
     "data": {
      "text/html": [
       "<table>\n",
       "<tbody>\n",
       "\t<tr><td> 9</td><td>24</td><td>21</td></tr>\n",
       "\t<tr><td>16</td><td>25</td><td>16</td></tr>\n",
       "\t<tr><td>21</td><td>24</td><td> 9</td></tr>\n",
       "</tbody>\n",
       "</table>\n"
      ],
      "text/latex": [
       "\\begin{tabular}{lll}\n",
       "\t  9 & 24 & 21\\\\\n",
       "\t 16 & 25 & 16\\\\\n",
       "\t 21 & 24 &  9\\\\\n",
       "\\end{tabular}\n"
      ],
      "text/markdown": [
       "\n",
       "|  9 | 24 | 21 |\n",
       "| 16 | 25 | 16 |\n",
       "| 21 | 24 |  9 |\n",
       "\n"
      ],
      "text/plain": [
       "     [,1] [,2] [,3]\n",
       "[1,]  9   24   21  \n",
       "[2,] 16   25   16  \n",
       "[3,] 21   24    9  "
      ]
     },
     "metadata": {},
     "output_type": "display_data"
    },
    {
     "data": {
      "text/html": [
       "<table>\n",
       "<tbody>\n",
       "\t<tr><td>0.1111111</td><td>0.6666667</td><td>2.333333 </td></tr>\n",
       "\t<tr><td>0.2500000</td><td>1.0000000</td><td>4.000000 </td></tr>\n",
       "\t<tr><td>0.4285714</td><td>1.5000000</td><td>9.000000 </td></tr>\n",
       "</tbody>\n",
       "</table>\n"
      ],
      "text/latex": [
       "\\begin{tabular}{lll}\n",
       "\t 0.1111111 & 0.6666667 & 2.333333 \\\\\n",
       "\t 0.2500000 & 1.0000000 & 4.000000 \\\\\n",
       "\t 0.4285714 & 1.5000000 & 9.000000 \\\\\n",
       "\\end{tabular}\n"
      ],
      "text/markdown": [
       "\n",
       "| 0.1111111 | 0.6666667 | 2.333333  |\n",
       "| 0.2500000 | 1.0000000 | 4.000000  |\n",
       "| 0.4285714 | 1.5000000 | 9.000000  |\n",
       "\n"
      ],
      "text/plain": [
       "     [,1]      [,2]      [,3]    \n",
       "[1,] 0.1111111 0.6666667 2.333333\n",
       "[2,] 0.2500000 1.0000000 4.000000\n",
       "[3,] 0.4285714 1.5000000 9.000000"
      ]
     },
     "metadata": {},
     "output_type": "display_data"
    }
   ],
   "source": [
    "X + Y\n",
    "X - Y\n",
    "X * Y # element by element multiplication\n",
    "X / Y"
   ]
  },
  {
   "cell_type": "code",
   "execution_count": 3,
   "id": "ae7f4b81",
   "metadata": {},
   "outputs": [
    {
     "data": {
      "text/html": [
       "<table>\n",
       "<tbody>\n",
       "\t<tr><td> 90</td><td>54 </td><td>18 </td></tr>\n",
       "\t<tr><td>114</td><td>69 </td><td>24 </td></tr>\n",
       "\t<tr><td>138</td><td>84 </td><td>30 </td></tr>\n",
       "</tbody>\n",
       "</table>\n"
      ],
      "text/latex": [
       "\\begin{tabular}{lll}\n",
       "\t  90 & 54  & 18 \\\\\n",
       "\t 114 & 69  & 24 \\\\\n",
       "\t 138 & 84  & 30 \\\\\n",
       "\\end{tabular}\n"
      ],
      "text/markdown": [
       "\n",
       "|  90 | 54  | 18  |\n",
       "| 114 | 69  | 24  |\n",
       "| 138 | 84  | 30  |\n",
       "\n"
      ],
      "text/plain": [
       "     [,1] [,2] [,3]\n",
       "[1,]  90  54   18  \n",
       "[2,] 114  69   24  \n",
       "[3,] 138  84   30  "
      ]
     },
     "metadata": {},
     "output_type": "display_data"
    }
   ],
   "source": [
    "X %*% Y #Matrix multiplication"
   ]
  },
  {
   "cell_type": "code",
   "execution_count": 4,
   "id": "bd66760f",
   "metadata": {},
   "outputs": [
    {
     "data": {
      "text/html": [
       "<table>\n",
       "<tbody>\n",
       "\t<tr><td>1</td><td>2</td><td>3</td></tr>\n",
       "\t<tr><td>4</td><td>5</td><td>6</td></tr>\n",
       "\t<tr><td>7</td><td>8</td><td>9</td></tr>\n",
       "</tbody>\n",
       "</table>\n"
      ],
      "text/latex": [
       "\\begin{tabular}{lll}\n",
       "\t 1 & 2 & 3\\\\\n",
       "\t 4 & 5 & 6\\\\\n",
       "\t 7 & 8 & 9\\\\\n",
       "\\end{tabular}\n"
      ],
      "text/markdown": [
       "\n",
       "| 1 | 2 | 3 |\n",
       "| 4 | 5 | 6 |\n",
       "| 7 | 8 | 9 |\n",
       "\n"
      ],
      "text/plain": [
       "     [,1] [,2] [,3]\n",
       "[1,] 1    2    3   \n",
       "[2,] 4    5    6   \n",
       "[3,] 7    8    9   "
      ]
     },
     "metadata": {},
     "output_type": "display_data"
    }
   ],
   "source": [
    "t(X) #transpose"
   ]
  },
  {
   "cell_type": "code",
   "execution_count": 6,
   "id": "e7987b54",
   "metadata": {},
   "outputs": [
    {
     "data": {
      "text/html": [
       "<table>\n",
       "<tbody>\n",
       "\t<tr><td> 0.12931034</td><td>-0.05603448</td><td>0.01724138 </td></tr>\n",
       "\t<tr><td>-0.05603448</td><td> 0.29094828</td><td>0.02586207 </td></tr>\n",
       "\t<tr><td> 0.01724138</td><td> 0.02586207</td><td>0.06896552 </td></tr>\n",
       "</tbody>\n",
       "</table>\n"
      ],
      "text/latex": [
       "\\begin{tabular}{lll}\n",
       "\t  0.12931034 & -0.05603448 & 0.01724138 \\\\\n",
       "\t -0.05603448 &  0.29094828 & 0.02586207 \\\\\n",
       "\t  0.01724138 &  0.02586207 & 0.06896552 \\\\\n",
       "\\end{tabular}\n"
      ],
      "text/markdown": [
       "\n",
       "|  0.12931034 | -0.05603448 | 0.01724138  |\n",
       "| -0.05603448 |  0.29094828 | 0.02586207  |\n",
       "|  0.01724138 |  0.02586207 | 0.06896552  |\n",
       "\n"
      ],
      "text/plain": [
       "     [,1]        [,2]        [,3]      \n",
       "[1,]  0.12931034 -0.05603448 0.01724138\n",
       "[2,] -0.05603448  0.29094828 0.02586207\n",
       "[3,]  0.01724138  0.02586207 0.06896552"
      ]
     },
     "metadata": {},
     "output_type": "display_data"
    }
   ],
   "source": [
    "Z = matrix(c(9, 2, -3, 2, 4, -2, -3, -2, 16), 3, byrow = TRUE)\n",
    "solve(Z) #inverse of a matrix (if it is invertible)"
   ]
  },
  {
   "cell_type": "code",
   "execution_count": 7,
   "id": "a125534c",
   "metadata": {},
   "outputs": [
    {
     "data": {
      "text/html": [
       "<table>\n",
       "<tbody>\n",
       "\t<tr><td> 1.000000e+00</td><td>-6.245005e-17</td><td> 0.000000e+00</td></tr>\n",
       "\t<tr><td> 8.326673e-17</td><td> 1.000000e+00</td><td>-5.551115e-17</td></tr>\n",
       "\t<tr><td>-2.775558e-17</td><td> 0.000000e+00</td><td> 1.000000e+00</td></tr>\n",
       "</tbody>\n",
       "</table>\n"
      ],
      "text/latex": [
       "\\begin{tabular}{lll}\n",
       "\t  1.000000e+00 & -6.245005e-17 &  0.000000e+00\\\\\n",
       "\t  8.326673e-17 &  1.000000e+00 & -5.551115e-17\\\\\n",
       "\t -2.775558e-17 &  0.000000e+00 &  1.000000e+00\\\\\n",
       "\\end{tabular}\n"
      ],
      "text/markdown": [
       "\n",
       "|  1.000000e+00 | -6.245005e-17 |  0.000000e+00 |\n",
       "|  8.326673e-17 |  1.000000e+00 | -5.551115e-17 |\n",
       "| -2.775558e-17 |  0.000000e+00 |  1.000000e+00 |\n",
       "\n"
      ],
      "text/plain": [
       "     [,1]          [,2]          [,3]         \n",
       "[1,]  1.000000e+00 -6.245005e-17  0.000000e+00\n",
       "[2,]  8.326673e-17  1.000000e+00 -5.551115e-17\n",
       "[3,] -2.775558e-17  0.000000e+00  1.000000e+00"
      ]
     },
     "metadata": {},
     "output_type": "display_data"
    }
   ],
   "source": [
    "solve(Z) %*% Z"
   ]
  },
  {
   "cell_type": "code",
   "execution_count": 8,
   "id": "d18b757c",
   "metadata": {},
   "outputs": [
    {
     "data": {
      "text/html": [
       "<table>\n",
       "<tbody>\n",
       "\t<tr><td>1</td><td>0</td><td>0</td></tr>\n",
       "\t<tr><td>0</td><td>1</td><td>0</td></tr>\n",
       "\t<tr><td>0</td><td>0</td><td>1</td></tr>\n",
       "</tbody>\n",
       "</table>\n"
      ],
      "text/latex": [
       "\\begin{tabular}{lll}\n",
       "\t 1 & 0 & 0\\\\\n",
       "\t 0 & 1 & 0\\\\\n",
       "\t 0 & 0 & 1\\\\\n",
       "\\end{tabular}\n"
      ],
      "text/markdown": [
       "\n",
       "| 1 | 0 | 0 |\n",
       "| 0 | 1 | 0 |\n",
       "| 0 | 0 | 1 |\n",
       "\n"
      ],
      "text/plain": [
       "     [,1] [,2] [,3]\n",
       "[1,] 1    0    0   \n",
       "[2,] 0    1    0   \n",
       "[3,] 0    0    1   "
      ]
     },
     "metadata": {},
     "output_type": "display_data"
    }
   ],
   "source": [
    "diag(3)"
   ]
  },
  {
   "cell_type": "code",
   "execution_count": 9,
   "id": "d9ebe28f",
   "metadata": {},
   "outputs": [
    {
     "data": {
      "text/html": [
       "TRUE"
      ],
      "text/latex": [
       "TRUE"
      ],
      "text/markdown": [
       "TRUE"
      ],
      "text/plain": [
       "[1] TRUE"
      ]
     },
     "metadata": {},
     "output_type": "display_data"
    }
   ],
   "source": [
    "all.equal(solve(Z) %*% Z, diag(3))"
   ]
  },
  {
   "cell_type": "code",
   "execution_count": 11,
   "id": "25db3ff0",
   "metadata": {},
   "outputs": [
    {
     "data": {
      "text/html": [
       "<ol class=list-inline>\n",
       "\t<li>3</li>\n",
       "\t<li>3</li>\n",
       "</ol>\n"
      ],
      "text/latex": [
       "\\begin{enumerate*}\n",
       "\\item 3\n",
       "\\item 3\n",
       "\\end{enumerate*}\n"
      ],
      "text/markdown": [
       "1. 3\n",
       "2. 3\n",
       "\n",
       "\n"
      ],
      "text/plain": [
       "[1] 3 3"
      ]
     },
     "metadata": {},
     "output_type": "display_data"
    },
    {
     "data": {
      "text/html": [
       "<ol class=list-inline>\n",
       "\t<li>8</li>\n",
       "\t<li>4</li>\n",
       "\t<li>11</li>\n",
       "</ol>\n"
      ],
      "text/latex": [
       "\\begin{enumerate*}\n",
       "\\item 8\n",
       "\\item 4\n",
       "\\item 11\n",
       "\\end{enumerate*}\n"
      ],
      "text/markdown": [
       "1. 8\n",
       "2. 4\n",
       "3. 11\n",
       "\n",
       "\n"
      ],
      "text/plain": [
       "[1]  8  4 11"
      ]
     },
     "metadata": {},
     "output_type": "display_data"
    },
    {
     "data": {
      "text/html": [
       "<ol class=list-inline>\n",
       "\t<li>8</li>\n",
       "\t<li>4</li>\n",
       "\t<li>11</li>\n",
       "</ol>\n"
      ],
      "text/latex": [
       "\\begin{enumerate*}\n",
       "\\item 8\n",
       "\\item 4\n",
       "\\item 11\n",
       "\\end{enumerate*}\n"
      ],
      "text/markdown": [
       "1. 8\n",
       "2. 4\n",
       "3. 11\n",
       "\n",
       "\n"
      ],
      "text/plain": [
       "[1]  8  4 11"
      ]
     },
     "metadata": {},
     "output_type": "display_data"
    },
    {
     "data": {
      "text/html": [
       "<ol class=list-inline>\n",
       "\t<li>2.66666666666667</li>\n",
       "\t<li>1.33333333333333</li>\n",
       "\t<li>3.66666666666667</li>\n",
       "</ol>\n"
      ],
      "text/latex": [
       "\\begin{enumerate*}\n",
       "\\item 2.66666666666667\n",
       "\\item 1.33333333333333\n",
       "\\item 3.66666666666667\n",
       "\\end{enumerate*}\n"
      ],
      "text/markdown": [
       "1. 2.66666666666667\n",
       "2. 1.33333333333333\n",
       "3. 3.66666666666667\n",
       "\n",
       "\n"
      ],
      "text/plain": [
       "[1] 2.666667 1.333333 3.666667"
      ]
     },
     "metadata": {},
     "output_type": "display_data"
    },
    {
     "data": {
      "text/html": [
       "<ol class=list-inline>\n",
       "\t<li>2.66666666666667</li>\n",
       "\t<li>1.33333333333333</li>\n",
       "\t<li>3.66666666666667</li>\n",
       "</ol>\n"
      ],
      "text/latex": [
       "\\begin{enumerate*}\n",
       "\\item 2.66666666666667\n",
       "\\item 1.33333333333333\n",
       "\\item 3.66666666666667\n",
       "\\end{enumerate*}\n"
      ],
      "text/markdown": [
       "1. 2.66666666666667\n",
       "2. 1.33333333333333\n",
       "3. 3.66666666666667\n",
       "\n",
       "\n"
      ],
      "text/plain": [
       "[1] 2.666667 1.333333 3.666667"
      ]
     },
     "metadata": {},
     "output_type": "display_data"
    }
   ],
   "source": [
    "dim(Z) #dimension\n",
    "rowSums(Z)\n",
    "colSums(Z)\n",
    "rowMeans(Z)\n",
    "colMeans(Z)"
   ]
  },
  {
   "cell_type": "markdown",
   "id": "9857edb3",
   "metadata": {},
   "source": [
    "diag() can extract diagonal of a matrix or create a diagonal matrix"
   ]
  },
  {
   "cell_type": "code",
   "execution_count": 13,
   "id": "790341c6",
   "metadata": {},
   "outputs": [
    {
     "data": {
      "text/html": [
       "<ol class=list-inline>\n",
       "\t<li>9</li>\n",
       "\t<li>4</li>\n",
       "\t<li>16</li>\n",
       "</ol>\n"
      ],
      "text/latex": [
       "\\begin{enumerate*}\n",
       "\\item 9\n",
       "\\item 4\n",
       "\\item 16\n",
       "\\end{enumerate*}\n"
      ],
      "text/markdown": [
       "1. 9\n",
       "2. 4\n",
       "3. 16\n",
       "\n",
       "\n"
      ],
      "text/plain": [
       "[1]  9  4 16"
      ]
     },
     "metadata": {},
     "output_type": "display_data"
    },
    {
     "data": {
      "text/html": [
       "<table>\n",
       "<tbody>\n",
       "\t<tr><td>1</td><td>0</td><td>0</td></tr>\n",
       "\t<tr><td>0</td><td>2</td><td>0</td></tr>\n",
       "\t<tr><td>0</td><td>0</td><td>3</td></tr>\n",
       "</tbody>\n",
       "</table>\n"
      ],
      "text/latex": [
       "\\begin{tabular}{lll}\n",
       "\t 1 & 0 & 0\\\\\n",
       "\t 0 & 2 & 0\\\\\n",
       "\t 0 & 0 & 3\\\\\n",
       "\\end{tabular}\n"
      ],
      "text/markdown": [
       "\n",
       "| 1 | 0 | 0 |\n",
       "| 0 | 2 | 0 |\n",
       "| 0 | 0 | 3 |\n",
       "\n"
      ],
      "text/plain": [
       "     [,1] [,2] [,3]\n",
       "[1,] 1    0    0   \n",
       "[2,] 0    2    0   \n",
       "[3,] 0    0    3   "
      ]
     },
     "metadata": {},
     "output_type": "display_data"
    },
    {
     "data": {
      "text/html": [
       "<table>\n",
       "<tbody>\n",
       "\t<tr><td>1</td><td>0</td><td>0</td></tr>\n",
       "\t<tr><td>0</td><td>1</td><td>0</td></tr>\n",
       "\t<tr><td>0</td><td>0</td><td>1</td></tr>\n",
       "</tbody>\n",
       "</table>\n"
      ],
      "text/latex": [
       "\\begin{tabular}{lll}\n",
       "\t 1 & 0 & 0\\\\\n",
       "\t 0 & 1 & 0\\\\\n",
       "\t 0 & 0 & 1\\\\\n",
       "\\end{tabular}\n"
      ],
      "text/markdown": [
       "\n",
       "| 1 | 0 | 0 |\n",
       "| 0 | 1 | 0 |\n",
       "| 0 | 0 | 1 |\n",
       "\n"
      ],
      "text/plain": [
       "     [,1] [,2] [,3]\n",
       "[1,] 1    0    0   \n",
       "[2,] 0    1    0   \n",
       "[3,] 0    0    1   "
      ]
     },
     "metadata": {},
     "output_type": "display_data"
    }
   ],
   "source": [
    "diag(Z)\n",
    "diag(1:3)\n",
    "diag(3)"
   ]
  },
  {
   "cell_type": "markdown",
   "id": "1680903c",
   "metadata": {},
   "source": [
    "#### 2.3 Calculations with vectors and matrices"
   ]
  },
  {
   "cell_type": "markdown",
   "id": "ad8baded",
   "metadata": {},
   "source": [
    "Some operations have different behavior on vectors and matrices.\n",
    "\n",
    "Example: %*% on vector is inner product"
   ]
  },
  {
   "cell_type": "code",
   "execution_count": 15,
   "id": "296420b5",
   "metadata": {},
   "outputs": [
    {
     "data": {
      "text/html": [
       "<ol class=list-inline>\n",
       "\t<li>TRUE</li>\n",
       "\t<li>TRUE</li>\n",
       "</ol>\n"
      ],
      "text/latex": [
       "\\begin{enumerate*}\n",
       "\\item TRUE\n",
       "\\item TRUE\n",
       "\\end{enumerate*}\n"
      ],
      "text/markdown": [
       "1. TRUE\n",
       "2. TRUE\n",
       "\n",
       "\n"
      ],
      "text/plain": [
       "[1] TRUE TRUE"
      ]
     },
     "metadata": {},
     "output_type": "display_data"
    }
   ],
   "source": [
    "a_vec = c(1,2,3)\n",
    "b_vec = c(2,2,2)\n",
    "c(is.vector(a_vec), is.vector(b_vec))"
   ]
  },
  {
   "cell_type": "code",
   "execution_count": 16,
   "id": "91dca398",
   "metadata": {},
   "outputs": [
    {
     "data": {
      "text/html": [
       "<table>\n",
       "<tbody>\n",
       "\t<tr><td>12</td></tr>\n",
       "</tbody>\n",
       "</table>\n"
      ],
      "text/latex": [
       "\\begin{tabular}{l}\n",
       "\t 12\\\\\n",
       "\\end{tabular}\n"
      ],
      "text/markdown": [
       "\n",
       "| 12 |\n",
       "\n"
      ],
      "text/plain": [
       "     [,1]\n",
       "[1,] 12  "
      ]
     },
     "metadata": {},
     "output_type": "display_data"
    }
   ],
   "source": [
    "a_vec %*% b_vec "
   ]
  },
  {
   "cell_type": "markdown",
   "id": "867ecae6",
   "metadata": {},
   "source": [
    "%o% : outer product of 2 vectors\n",
    "\n",
    "Important: when vector is coerced to become matrix, they are column vectors"
   ]
  },
  {
   "cell_type": "code",
   "execution_count": 23,
   "id": "490a88ee",
   "metadata": {},
   "outputs": [
    {
     "data": {
      "text/html": [
       "<table>\n",
       "<tbody>\n",
       "\t<tr><td>1</td></tr>\n",
       "\t<tr><td>2</td></tr>\n",
       "\t<tr><td>3</td></tr>\n",
       "</tbody>\n",
       "</table>\n"
      ],
      "text/latex": [
       "\\begin{tabular}{l}\n",
       "\t 1\\\\\n",
       "\t 2\\\\\n",
       "\t 3\\\\\n",
       "\\end{tabular}\n"
      ],
      "text/markdown": [
       "\n",
       "| 1 |\n",
       "| 2 |\n",
       "| 3 |\n",
       "\n"
      ],
      "text/plain": [
       "     [,1]\n",
       "[1,] 1   \n",
       "[2,] 2   \n",
       "[3,] 3   "
      ]
     },
     "metadata": {},
     "output_type": "display_data"
    },
    {
     "data": {
      "text/html": [
       "<table>\n",
       "<tbody>\n",
       "\t<tr><td>2</td><td>2</td><td>2</td></tr>\n",
       "\t<tr><td>4</td><td>4</td><td>4</td></tr>\n",
       "\t<tr><td>6</td><td>6</td><td>6</td></tr>\n",
       "</tbody>\n",
       "</table>\n"
      ],
      "text/latex": [
       "\\begin{tabular}{lll}\n",
       "\t 2 & 2 & 2\\\\\n",
       "\t 4 & 4 & 4\\\\\n",
       "\t 6 & 6 & 6\\\\\n",
       "\\end{tabular}\n"
      ],
      "text/markdown": [
       "\n",
       "| 2 | 2 | 2 |\n",
       "| 4 | 4 | 4 |\n",
       "| 6 | 6 | 6 |\n",
       "\n"
      ],
      "text/plain": [
       "     [,1] [,2] [,3]\n",
       "[1,] 2    2    2   \n",
       "[2,] 4    4    4   \n",
       "[3,] 6    6    6   "
      ]
     },
     "metadata": {},
     "output_type": "display_data"
    }
   ],
   "source": [
    "as.matrix(a_vec)\n",
    "a_vec %o% b_vec"
   ]
  },
  {
   "cell_type": "markdown",
   "id": "8f70920a",
   "metadata": {},
   "source": [
    "But in this case, b_vec is auto coerced to 1x3 matrix"
   ]
  },
  {
   "cell_type": "code",
   "execution_count": 24,
   "id": "7383590f",
   "metadata": {},
   "outputs": [
    {
     "data": {
      "text/html": [
       "<table>\n",
       "<tbody>\n",
       "\t<tr><td>2</td><td>2</td><td>2</td></tr>\n",
       "\t<tr><td>4</td><td>4</td><td>4</td></tr>\n",
       "\t<tr><td>6</td><td>6</td><td>6</td></tr>\n",
       "</tbody>\n",
       "</table>\n"
      ],
      "text/latex": [
       "\\begin{tabular}{lll}\n",
       "\t 2 & 2 & 2\\\\\n",
       "\t 4 & 4 & 4\\\\\n",
       "\t 6 & 6 & 6\\\\\n",
       "\\end{tabular}\n"
      ],
      "text/markdown": [
       "\n",
       "| 2 | 2 | 2 |\n",
       "| 4 | 4 | 4 |\n",
       "| 6 | 6 | 6 |\n",
       "\n"
      ],
      "text/plain": [
       "     [,1] [,2] [,3]\n",
       "[1,] 2    2    2   \n",
       "[2,] 4    4    4   \n",
       "[3,] 6    6    6   "
      ]
     },
     "metadata": {},
     "output_type": "display_data"
    }
   ],
   "source": [
    "as.matrix(a_vec) %*% b_vec"
   ]
  },
  {
   "cell_type": "markdown",
   "id": "9753198b",
   "metadata": {},
   "source": [
    "Another way for inner and outer product"
   ]
  },
  {
   "cell_type": "code",
   "execution_count": 25,
   "id": "a71620f2",
   "metadata": {},
   "outputs": [
    {
     "data": {
      "text/html": [
       "<table>\n",
       "<tbody>\n",
       "\t<tr><td>12</td></tr>\n",
       "</tbody>\n",
       "</table>\n"
      ],
      "text/latex": [
       "\\begin{tabular}{l}\n",
       "\t 12\\\\\n",
       "\\end{tabular}\n"
      ],
      "text/markdown": [
       "\n",
       "| 12 |\n",
       "\n"
      ],
      "text/plain": [
       "     [,1]\n",
       "[1,] 12  "
      ]
     },
     "metadata": {},
     "output_type": "display_data"
    },
    {
     "data": {
      "text/html": [
       "<table>\n",
       "<tbody>\n",
       "\t<tr><td>2</td><td>2</td><td>2</td></tr>\n",
       "\t<tr><td>4</td><td>4</td><td>4</td></tr>\n",
       "\t<tr><td>6</td><td>6</td><td>6</td></tr>\n",
       "</tbody>\n",
       "</table>\n"
      ],
      "text/latex": [
       "\\begin{tabular}{lll}\n",
       "\t 2 & 2 & 2\\\\\n",
       "\t 4 & 4 & 4\\\\\n",
       "\t 6 & 6 & 6\\\\\n",
       "\\end{tabular}\n"
      ],
      "text/markdown": [
       "\n",
       "| 2 | 2 | 2 |\n",
       "| 4 | 4 | 4 |\n",
       "| 6 | 6 | 6 |\n",
       "\n"
      ],
      "text/plain": [
       "     [,1] [,2] [,3]\n",
       "[1,] 2    2    2   \n",
       "[2,] 4    4    4   \n",
       "[3,] 6    6    6   "
      ]
     },
     "metadata": {},
     "output_type": "display_data"
    }
   ],
   "source": [
    "crossprod(a_vec, b_vec)\n",
    "tcrossprod(a_vec, b_vec)"
   ]
  },
  {
   "cell_type": "markdown",
   "id": "444106f5",
   "metadata": {},
   "source": [
    "When use this with matric, it calculates t(X).Y\n",
    "\n",
    "This is really useful when using in linear models"
   ]
  },
  {
   "cell_type": "code",
   "execution_count": 27,
   "id": "1f641277",
   "metadata": {},
   "outputs": [
    {
     "data": {
      "text/html": [
       "<table>\n",
       "<tbody>\n",
       "\t<tr><td> 6</td><td> 6</td><td> 6</td></tr>\n",
       "\t<tr><td>14</td><td>14</td><td>14</td></tr>\n",
       "\t<tr><td>22</td><td>22</td><td>22</td></tr>\n",
       "</tbody>\n",
       "</table>\n"
      ],
      "text/latex": [
       "\\begin{tabular}{lll}\n",
       "\t  6 &  6 &  6\\\\\n",
       "\t 14 & 14 & 14\\\\\n",
       "\t 22 & 22 & 22\\\\\n",
       "\\end{tabular}\n"
      ],
      "text/markdown": [
       "\n",
       "|  6 |  6 |  6 |\n",
       "| 14 | 14 | 14 |\n",
       "| 22 | 22 | 22 |\n",
       "\n"
      ],
      "text/plain": [
       "     [,1] [,2] [,3]\n",
       "[1,]  6    6    6  \n",
       "[2,] 14   14   14  \n",
       "[3,] 22   22   22  "
      ]
     },
     "metadata": {},
     "output_type": "display_data"
    },
    {
     "data": {
      "text/html": [
       "<table>\n",
       "<tbody>\n",
       "\t<tr><td> 6</td><td> 6</td><td> 6</td></tr>\n",
       "\t<tr><td>14</td><td>14</td><td>14</td></tr>\n",
       "\t<tr><td>22</td><td>22</td><td>22</td></tr>\n",
       "</tbody>\n",
       "</table>\n"
      ],
      "text/latex": [
       "\\begin{tabular}{lll}\n",
       "\t  6 &  6 &  6\\\\\n",
       "\t 14 & 14 & 14\\\\\n",
       "\t 22 & 22 & 22\\\\\n",
       "\\end{tabular}\n"
      ],
      "text/markdown": [
       "\n",
       "|  6 |  6 |  6 |\n",
       "| 14 | 14 | 14 |\n",
       "| 22 | 22 | 22 |\n",
       "\n"
      ],
      "text/plain": [
       "     [,1] [,2] [,3]\n",
       "[1,]  6    6    6  \n",
       "[2,] 14   14   14  \n",
       "[3,] 22   22   22  "
      ]
     },
     "metadata": {},
     "output_type": "display_data"
    }
   ],
   "source": [
    "C_mat = matrix(c(1, 2, 3, 4, 5, 6), 2, 3)\n",
    "D_mat = matrix(c(2, 2, 2, 2, 2, 2), 2, 3)\n",
    "crossprod(C_mat, D_mat)\n",
    "t(C_mat) %*% D_mat"
   ]
  },
  {
   "cell_type": "markdown",
   "id": "c170e32f",
   "metadata": {},
   "source": [
    "#### 2.4 Lists\n",
    "One dimensional heterogeneous data structure (element of any type)\n"
   ]
  },
  {
   "cell_type": "markdown",
   "id": "b5c70e7d",
   "metadata": {},
   "source": [
    "##### Creation\n",
    "List can be in very complex form"
   ]
  },
  {
   "cell_type": "code",
   "execution_count": 28,
   "id": "98877b00",
   "metadata": {},
   "outputs": [
    {
     "data": {
      "text/html": [
       "<ol>\n",
       "\t<li>42</li>\n",
       "\t<li>'Hello'</li>\n",
       "\t<li>TRUE</li>\n",
       "</ol>\n"
      ],
      "text/latex": [
       "\\begin{enumerate}\n",
       "\\item 42\n",
       "\\item 'Hello'\n",
       "\\item TRUE\n",
       "\\end{enumerate}\n"
      ],
      "text/markdown": [
       "1. 42\n",
       "2. 'Hello'\n",
       "3. TRUE\n",
       "\n",
       "\n"
      ],
      "text/plain": [
       "[[1]]\n",
       "[1] 42\n",
       "\n",
       "[[2]]\n",
       "[1] \"Hello\"\n",
       "\n",
       "[[3]]\n",
       "[1] TRUE\n"
      ]
     },
     "metadata": {},
     "output_type": "display_data"
    }
   ],
   "source": [
    "list(42, \"Hello\", TRUE) "
   ]
  },
  {
   "cell_type": "code",
   "execution_count": 31,
   "id": "e7eda1cc",
   "metadata": {},
   "outputs": [],
   "source": [
    "ex_list = list(\n",
    "    a = c(1,2,3,4),\n",
    "    b = TRUE,\n",
    "    c = \"Hello!\",\n",
    "    d = function(arg = 42) {print(\"Hello World\")},\n",
    "    e = diag(3)\n",
    "    )"
   ]
  },
  {
   "cell_type": "code",
   "execution_count": 35,
   "id": "7b094a24",
   "metadata": {},
   "outputs": [
    {
     "data": {
      "text/html": [
       "<strong>$a</strong> = <ol class=list-inline>\n",
       "\t<li>1</li>\n",
       "\t<li>2</li>\n",
       "\t<li>3</li>\n",
       "\t<li>4</li>\n",
       "</ol>\n"
      ],
      "text/latex": [
       "\\textbf{\\$a} = \\begin{enumerate*}\n",
       "\\item 1\n",
       "\\item 2\n",
       "\\item 3\n",
       "\\item 4\n",
       "\\end{enumerate*}\n"
      ],
      "text/markdown": [
       "**$a** = 1. 1\n",
       "2. 2\n",
       "3. 3\n",
       "4. 4\n",
       "\n",
       "\n"
      ],
      "text/plain": [
       "$a\n",
       "[1] 1 2 3 4\n"
      ]
     },
     "metadata": {},
     "output_type": "display_data"
    },
    {
     "data": {
      "text/html": [
       "<dl>\n",
       "\t<dt>$b</dt>\n",
       "\t\t<dd>TRUE</dd>\n",
       "\t<dt>$c</dt>\n",
       "\t\t<dd>'Hello!'</dd>\n",
       "</dl>\n"
      ],
      "text/latex": [
       "\\begin{description}\n",
       "\\item[\\$b] TRUE\n",
       "\\item[\\$c] 'Hello!'\n",
       "\\end{description}\n"
      ],
      "text/markdown": [
       "$b\n",
       ":   TRUE\n",
       "$c\n",
       ":   'Hello!'\n",
       "\n",
       "\n"
      ],
      "text/plain": [
       "$b\n",
       "[1] TRUE\n",
       "\n",
       "$c\n",
       "[1] \"Hello!\"\n"
      ]
     },
     "metadata": {},
     "output_type": "display_data"
    },
    {
     "data": {
      "text/html": [
       "<strong>$e</strong> = <table>\n",
       "<tbody>\n",
       "\t<tr><td>1</td><td>0</td><td>0</td></tr>\n",
       "\t<tr><td>0</td><td>1</td><td>0</td></tr>\n",
       "\t<tr><td>0</td><td>0</td><td>1</td></tr>\n",
       "</tbody>\n",
       "</table>\n"
      ],
      "text/latex": [
       "\\textbf{\\$e} = \\begin{tabular}{lll}\n",
       "\t 1 & 0 & 0\\\\\n",
       "\t 0 & 1 & 0\\\\\n",
       "\t 0 & 0 & 1\\\\\n",
       "\\end{tabular}\n"
      ],
      "text/markdown": [
       "**$e** = \n",
       "| 1 | 0 | 0 |\n",
       "| 0 | 1 | 0 |\n",
       "| 0 | 0 | 1 |\n",
       "\n"
      ],
      "text/plain": [
       "$e\n",
       "     [,1] [,2] [,3]\n",
       "[1,]    1    0    0\n",
       "[2,]    0    1    0\n",
       "[3,]    0    0    1\n"
      ]
     },
     "metadata": {},
     "output_type": "display_data"
    }
   ],
   "source": [
    "ex_list[1]\n",
    "ex_list[2:3]\n",
    "ex_list[\"e\"]"
   ]
  },
  {
   "cell_type": "code",
   "execution_count": 42,
   "id": "05b8a561",
   "metadata": {},
   "outputs": [
    {
     "data": {
      "text/html": [
       "<pre class=language-r><code>function (arg = 42) \n",
       "{\n",
       "<span style=white-space:pre-wrap>    print(\"Hello World\")</span>\n",
       "}</code></pre>"
      ],
      "text/latex": [
       "\\begin{minted}{r}\n",
       "function (arg = 42) \n",
       "\\{\n",
       "    print(\"Hello World\")\n",
       "\\}\n",
       "\\end{minted}"
      ],
      "text/markdown": [
       "```r\n",
       "function (arg = 42) \n",
       "{\n",
       "    print(\"Hello World\")\n",
       "}\n",
       "```"
      ],
      "text/plain": [
       "function(arg = 42) {print(\"Hello World\")}\n",
       "<bytecode: 0x000000000b9501f8>"
      ]
     },
     "metadata": {},
     "output_type": "display_data"
    },
    {
     "name": "stdout",
     "output_type": "stream",
     "text": [
      "[1] \"Hello World\"\n"
     ]
    }
   ],
   "source": [
    "ex_list$d\n",
    "ex_list$d(arg = 2)"
   ]
  },
  {
   "cell_type": "markdown",
   "id": "d4dd6aa9",
   "metadata": {},
   "source": [
    "#### 2.5 Data Frames\n",
    "Data frame is a list of vectors, each vector contain the same data type but different vectors can store different data types\n",
    "\n",
    "The elements of data frame must all be vectors, and have the same length"
   ]
  },
  {
   "cell_type": "code",
   "execution_count": 46,
   "id": "64143fd3",
   "metadata": {},
   "outputs": [],
   "source": [
    "example_data = data.frame(x = c(1, 3, 5, 7, 9, 1, 3, 5, 7, 9),\n",
    "                        y = c(rep(\"Hello\", 9), \"Goodbye\"),\n",
    "                        z = rep(c(TRUE, FALSE), 5))"
   ]
  },
  {
   "cell_type": "code",
   "execution_count": 47,
   "id": "05b9cd72",
   "metadata": {},
   "outputs": [
    {
     "data": {
      "text/html": [
       "<table>\n",
       "<thead><tr><th scope=col>x</th><th scope=col>y</th><th scope=col>z</th></tr></thead>\n",
       "<tbody>\n",
       "\t<tr><td>1      </td><td>Hello  </td><td> TRUE  </td></tr>\n",
       "\t<tr><td>3      </td><td>Hello  </td><td>FALSE  </td></tr>\n",
       "\t<tr><td>5      </td><td>Hello  </td><td> TRUE  </td></tr>\n",
       "\t<tr><td>7      </td><td>Hello  </td><td>FALSE  </td></tr>\n",
       "\t<tr><td>9      </td><td>Hello  </td><td> TRUE  </td></tr>\n",
       "\t<tr><td>1      </td><td>Hello  </td><td>FALSE  </td></tr>\n",
       "\t<tr><td>3      </td><td>Hello  </td><td> TRUE  </td></tr>\n",
       "\t<tr><td>5      </td><td>Hello  </td><td>FALSE  </td></tr>\n",
       "\t<tr><td>7      </td><td>Hello  </td><td> TRUE  </td></tr>\n",
       "\t<tr><td>9      </td><td>Goodbye</td><td>FALSE  </td></tr>\n",
       "</tbody>\n",
       "</table>\n"
      ],
      "text/latex": [
       "\\begin{tabular}{r|lll}\n",
       " x & y & z\\\\\n",
       "\\hline\n",
       "\t 1       & Hello   &  TRUE  \\\\\n",
       "\t 3       & Hello   & FALSE  \\\\\n",
       "\t 5       & Hello   &  TRUE  \\\\\n",
       "\t 7       & Hello   & FALSE  \\\\\n",
       "\t 9       & Hello   &  TRUE  \\\\\n",
       "\t 1       & Hello   & FALSE  \\\\\n",
       "\t 3       & Hello   &  TRUE  \\\\\n",
       "\t 5       & Hello   & FALSE  \\\\\n",
       "\t 7       & Hello   &  TRUE  \\\\\n",
       "\t 9       & Goodbye & FALSE  \\\\\n",
       "\\end{tabular}\n"
      ],
      "text/markdown": [
       "\n",
       "| x | y | z |\n",
       "|---|---|---|\n",
       "| 1       | Hello   |  TRUE   |\n",
       "| 3       | Hello   | FALSE   |\n",
       "| 5       | Hello   |  TRUE   |\n",
       "| 7       | Hello   | FALSE   |\n",
       "| 9       | Hello   |  TRUE   |\n",
       "| 1       | Hello   | FALSE   |\n",
       "| 3       | Hello   |  TRUE   |\n",
       "| 5       | Hello   | FALSE   |\n",
       "| 7       | Hello   |  TRUE   |\n",
       "| 9       | Goodbye | FALSE   |\n",
       "\n"
      ],
      "text/plain": [
       "   x y       z    \n",
       "1  1 Hello    TRUE\n",
       "2  3 Hello   FALSE\n",
       "3  5 Hello    TRUE\n",
       "4  7 Hello   FALSE\n",
       "5  9 Hello    TRUE\n",
       "6  1 Hello   FALSE\n",
       "7  3 Hello    TRUE\n",
       "8  5 Hello   FALSE\n",
       "9  7 Hello    TRUE\n",
       "10 9 Goodbye FALSE"
      ]
     },
     "metadata": {},
     "output_type": "display_data"
    }
   ],
   "source": [
    "example_data"
   ]
  },
  {
   "cell_type": "code",
   "execution_count": 48,
   "id": "e7341526",
   "metadata": {},
   "outputs": [
    {
     "name": "stdout",
     "output_type": "stream",
     "text": [
      "'data.frame':\t10 obs. of  3 variables:\n",
      " $ x: num  1 3 5 7 9 1 3 5 7 9\n",
      " $ y: Factor w/ 2 levels \"Goodbye\",\"Hello\": 2 2 2 2 2 2 2 2 2 1\n",
      " $ z: logi  TRUE FALSE TRUE FALSE TRUE FALSE ...\n"
     ]
    }
   ],
   "source": [
    "str(example_data)"
   ]
  },
  {
   "cell_type": "code",
   "execution_count": 50,
   "id": "27acec7a",
   "metadata": {},
   "outputs": [
    {
     "data": {
      "text/html": [
       "10"
      ],
      "text/latex": [
       "10"
      ],
      "text/markdown": [
       "10"
      ],
      "text/plain": [
       "[1] 10"
      ]
     },
     "metadata": {},
     "output_type": "display_data"
    },
    {
     "data": {
      "text/html": [
       "3"
      ],
      "text/latex": [
       "3"
      ],
      "text/markdown": [
       "3"
      ],
      "text/plain": [
       "[1] 3"
      ]
     },
     "metadata": {},
     "output_type": "display_data"
    },
    {
     "data": {
      "text/html": [
       "<ol class=list-inline>\n",
       "\t<li>10</li>\n",
       "\t<li>3</li>\n",
       "</ol>\n"
      ],
      "text/latex": [
       "\\begin{enumerate*}\n",
       "\\item 10\n",
       "\\item 3\n",
       "\\end{enumerate*}\n"
      ],
      "text/markdown": [
       "1. 10\n",
       "2. 3\n",
       "\n",
       "\n"
      ],
      "text/plain": [
       "[1] 10  3"
      ]
     },
     "metadata": {},
     "output_type": "display_data"
    }
   ],
   "source": [
    "nrow(example_data)\n",
    "ncol(example_data)\n",
    "dim(example_data)"
   ]
  },
  {
   "cell_type": "markdown",
   "id": "9739e396",
   "metadata": {},
   "source": [
    "#### Read data from file\n",
    "Read csv file using read_csv()."
   ]
  },
  {
   "cell_type": "code",
   "execution_count": 51,
   "id": "533b72f5",
   "metadata": {},
   "outputs": [],
   "source": [
    "library(readr)"
   ]
  },
  {
   "cell_type": "code",
   "execution_count": 53,
   "id": "07e41d03",
   "metadata": {},
   "outputs": [
    {
     "name": "stderr",
     "output_type": "stream",
     "text": [
      "Parsed with column specification:\n",
      "cols(\n",
      "  x = col_double(),\n",
      "  y = col_character(),\n",
      "  z = col_logical()\n",
      ")\n"
     ]
    },
    {
     "data": {
      "text/html": [
       "<table>\n",
       "<thead><tr><th scope=col>x</th><th scope=col>y</th><th scope=col>z</th></tr></thead>\n",
       "<tbody>\n",
       "\t<tr><td>1      </td><td>Hello  </td><td> TRUE  </td></tr>\n",
       "\t<tr><td>3      </td><td>Hello  </td><td>FALSE  </td></tr>\n",
       "\t<tr><td>5      </td><td>Hello  </td><td> TRUE  </td></tr>\n",
       "\t<tr><td>7      </td><td>Hello  </td><td>FALSE  </td></tr>\n",
       "\t<tr><td>9      </td><td>Hello  </td><td> TRUE  </td></tr>\n",
       "\t<tr><td>1      </td><td>Hello  </td><td>FALSE  </td></tr>\n",
       "\t<tr><td>3      </td><td>Hello  </td><td> TRUE  </td></tr>\n",
       "\t<tr><td>5      </td><td>Hello  </td><td>FALSE  </td></tr>\n",
       "\t<tr><td>7      </td><td>Hello  </td><td> TRUE  </td></tr>\n",
       "\t<tr><td>9      </td><td>Goodbye</td><td>FALSE  </td></tr>\n",
       "</tbody>\n",
       "</table>\n"
      ],
      "text/latex": [
       "\\begin{tabular}{r|lll}\n",
       " x & y & z\\\\\n",
       "\\hline\n",
       "\t 1       & Hello   &  TRUE  \\\\\n",
       "\t 3       & Hello   & FALSE  \\\\\n",
       "\t 5       & Hello   &  TRUE  \\\\\n",
       "\t 7       & Hello   & FALSE  \\\\\n",
       "\t 9       & Hello   &  TRUE  \\\\\n",
       "\t 1       & Hello   & FALSE  \\\\\n",
       "\t 3       & Hello   &  TRUE  \\\\\n",
       "\t 5       & Hello   & FALSE  \\\\\n",
       "\t 7       & Hello   &  TRUE  \\\\\n",
       "\t 9       & Goodbye & FALSE  \\\\\n",
       "\\end{tabular}\n"
      ],
      "text/markdown": [
       "\n",
       "| x | y | z |\n",
       "|---|---|---|\n",
       "| 1       | Hello   |  TRUE   |\n",
       "| 3       | Hello   | FALSE   |\n",
       "| 5       | Hello   |  TRUE   |\n",
       "| 7       | Hello   | FALSE   |\n",
       "| 9       | Hello   |  TRUE   |\n",
       "| 1       | Hello   | FALSE   |\n",
       "| 3       | Hello   |  TRUE   |\n",
       "| 5       | Hello   | FALSE   |\n",
       "| 7       | Hello   |  TRUE   |\n",
       "| 9       | Goodbye | FALSE   |\n",
       "\n"
      ],
      "text/plain": [
       "   x y       z    \n",
       "1  1 Hello    TRUE\n",
       "2  3 Hello   FALSE\n",
       "3  5 Hello    TRUE\n",
       "4  7 Hello   FALSE\n",
       "5  9 Hello    TRUE\n",
       "6  1 Hello   FALSE\n",
       "7  3 Hello    TRUE\n",
       "8  5 Hello   FALSE\n",
       "9  7 Hello    TRUE\n",
       "10 9 Goodbye FALSE"
      ]
     },
     "metadata": {},
     "output_type": "display_data"
    }
   ],
   "source": [
    "example_data_from_csv = read_csv(\"D:/HUST/20212/Applied statistics and experimental design/Code/example-data.csv\")\n",
    "example_data_from_csv"
   ]
  },
  {
   "cell_type": "markdown",
   "id": "c89e7ff6",
   "metadata": {},
   "source": [
    "as_tibble() function can be used to coerce a regular data frame to a tibble"
   ]
  },
  {
   "cell_type": "code",
   "execution_count": 54,
   "id": "4313548a",
   "metadata": {},
   "outputs": [
    {
     "data": {
      "text/html": [
       "<table>\n",
       "<thead><tr><th scope=col>x</th><th scope=col>y</th><th scope=col>z</th></tr></thead>\n",
       "<tbody>\n",
       "\t<tr><td>1      </td><td>Hello  </td><td> TRUE  </td></tr>\n",
       "\t<tr><td>3      </td><td>Hello  </td><td>FALSE  </td></tr>\n",
       "\t<tr><td>5      </td><td>Hello  </td><td> TRUE  </td></tr>\n",
       "\t<tr><td>7      </td><td>Hello  </td><td>FALSE  </td></tr>\n",
       "\t<tr><td>9      </td><td>Hello  </td><td> TRUE  </td></tr>\n",
       "\t<tr><td>1      </td><td>Hello  </td><td>FALSE  </td></tr>\n",
       "\t<tr><td>3      </td><td>Hello  </td><td> TRUE  </td></tr>\n",
       "\t<tr><td>5      </td><td>Hello  </td><td>FALSE  </td></tr>\n",
       "\t<tr><td>7      </td><td>Hello  </td><td> TRUE  </td></tr>\n",
       "\t<tr><td>9      </td><td>Goodbye</td><td>FALSE  </td></tr>\n",
       "</tbody>\n",
       "</table>\n"
      ],
      "text/latex": [
       "\\begin{tabular}{r|lll}\n",
       " x & y & z\\\\\n",
       "\\hline\n",
       "\t 1       & Hello   &  TRUE  \\\\\n",
       "\t 3       & Hello   & FALSE  \\\\\n",
       "\t 5       & Hello   &  TRUE  \\\\\n",
       "\t 7       & Hello   & FALSE  \\\\\n",
       "\t 9       & Hello   &  TRUE  \\\\\n",
       "\t 1       & Hello   & FALSE  \\\\\n",
       "\t 3       & Hello   &  TRUE  \\\\\n",
       "\t 5       & Hello   & FALSE  \\\\\n",
       "\t 7       & Hello   &  TRUE  \\\\\n",
       "\t 9       & Goodbye & FALSE  \\\\\n",
       "\\end{tabular}\n"
      ],
      "text/markdown": [
       "\n",
       "| x | y | z |\n",
       "|---|---|---|\n",
       "| 1       | Hello   |  TRUE   |\n",
       "| 3       | Hello   | FALSE   |\n",
       "| 5       | Hello   |  TRUE   |\n",
       "| 7       | Hello   | FALSE   |\n",
       "| 9       | Hello   |  TRUE   |\n",
       "| 1       | Hello   | FALSE   |\n",
       "| 3       | Hello   |  TRUE   |\n",
       "| 5       | Hello   | FALSE   |\n",
       "| 7       | Hello   |  TRUE   |\n",
       "| 9       | Goodbye | FALSE   |\n",
       "\n"
      ],
      "text/plain": [
       "   x y       z    \n",
       "1  1 Hello    TRUE\n",
       "2  3 Hello   FALSE\n",
       "3  5 Hello    TRUE\n",
       "4  7 Hello   FALSE\n",
       "5  9 Hello    TRUE\n",
       "6  1 Hello   FALSE\n",
       "7  3 Hello    TRUE\n",
       "8  5 Hello   FALSE\n",
       "9  7 Hello    TRUE\n",
       "10 9 Goodbye FALSE"
      ]
     },
     "metadata": {},
     "output_type": "display_data"
    }
   ],
   "source": [
    "library(tibble)\n",
    "example_data = as_tibble(example_data)\n",
    "example_data"
   ]
  },
  {
   "cell_type": "markdown",
   "id": "34ce2d2d",
   "metadata": {},
   "source": [
    "### 3. Programming basics\n",
    "#### 3.1 Control Flow"
   ]
  },
  {
   "cell_type": "markdown",
   "id": "ad8d48fa",
   "metadata": {},
   "source": [
    "##### if/else"
   ]
  },
  {
   "cell_type": "code",
   "execution_count": 56,
   "id": "6dfb9d38",
   "metadata": {},
   "outputs": [
    {
     "name": "stdout",
     "output_type": "stream",
     "text": [
      "[1] \"x is less than or equal to y\"\n"
     ]
    },
    {
     "data": {
      "text/html": [
       "16"
      ],
      "text/latex": [
       "16"
      ],
      "text/markdown": [
       "16"
      ],
      "text/plain": [
       "[1] 16"
      ]
     },
     "metadata": {},
     "output_type": "display_data"
    }
   ],
   "source": [
    "x = 1\n",
    "y = 3\n",
    "if (x > y) {\n",
    "    z = x * y\n",
    "    print(\"x is larger than y\")\n",
    "} else {\n",
    "    z = x + 5 * y\n",
    "    print(\"x is less than or equal to y\")\n",
    "}\n",
    "z"
   ]
  },
  {
   "cell_type": "markdown",
   "id": "2f6ec927",
   "metadata": {},
   "source": [
    "Useful function ifelse()"
   ]
  },
  {
   "cell_type": "code",
   "execution_count": 57,
   "id": "fc0ead3d",
   "metadata": {},
   "outputs": [
    {
     "data": {
      "text/html": [
       "1"
      ],
      "text/latex": [
       "1"
      ],
      "text/markdown": [
       "1"
      ],
      "text/plain": [
       "[1] 1"
      ]
     },
     "metadata": {},
     "output_type": "display_data"
    }
   ],
   "source": [
    "ifelse(4 > 3, 1, 0)"
   ]
  },
  {
   "cell_type": "code",
   "execution_count": 58,
   "id": "933d25ad",
   "metadata": {},
   "outputs": [
    {
     "data": {
      "text/html": [
       "<ol class=list-inline>\n",
       "\t<li>'Bar'</li>\n",
       "\t<li>'Bar'</li>\n",
       "\t<li>'Bar'</li>\n",
       "\t<li>'Bar'</li>\n",
       "\t<li>'Bar'</li>\n",
       "\t<li>'Foo'</li>\n",
       "\t<li>'Foo'</li>\n",
       "\t<li>'Foo'</li>\n",
       "</ol>\n"
      ],
      "text/latex": [
       "\\begin{enumerate*}\n",
       "\\item 'Bar'\n",
       "\\item 'Bar'\n",
       "\\item 'Bar'\n",
       "\\item 'Bar'\n",
       "\\item 'Bar'\n",
       "\\item 'Foo'\n",
       "\\item 'Foo'\n",
       "\\item 'Foo'\n",
       "\\end{enumerate*}\n"
      ],
      "text/markdown": [
       "1. 'Bar'\n",
       "2. 'Bar'\n",
       "3. 'Bar'\n",
       "4. 'Bar'\n",
       "5. 'Bar'\n",
       "6. 'Foo'\n",
       "7. 'Foo'\n",
       "8. 'Foo'\n",
       "\n",
       "\n"
      ],
      "text/plain": [
       "[1] \"Bar\" \"Bar\" \"Bar\" \"Bar\" \"Bar\" \"Foo\" \"Foo\" \"Foo\""
      ]
     },
     "metadata": {},
     "output_type": "display_data"
    }
   ],
   "source": [
    "fib = c(1, 1, 2, 3, 5, 8, 13, 21)\n",
    "ifelse(fib > 6, \"Foo\", \"Bar\")"
   ]
  },
  {
   "cell_type": "markdown",
   "id": "31d24c50",
   "metadata": {},
   "source": [
    "##### for loop"
   ]
  },
  {
   "cell_type": "code",
   "execution_count": 62,
   "id": "5ff523d6",
   "metadata": {},
   "outputs": [
    {
     "data": {
      "text/html": [
       "<ol class=list-inline>\n",
       "\t<li>33</li>\n",
       "\t<li>24</li>\n",
       "\t<li>39</li>\n",
       "\t<li>28</li>\n",
       "\t<li>45</li>\n",
       "</ol>\n"
      ],
      "text/latex": [
       "\\begin{enumerate*}\n",
       "\\item 33\n",
       "\\item 24\n",
       "\\item 39\n",
       "\\item 28\n",
       "\\item 45\n",
       "\\end{enumerate*}\n"
      ],
      "text/markdown": [
       "1. 33\n",
       "2. 24\n",
       "3. 39\n",
       "4. 28\n",
       "5. 45\n",
       "\n",
       "\n"
      ],
      "text/plain": [
       "[1] 33 24 39 28 45"
      ]
     },
     "metadata": {},
     "output_type": "display_data"
    }
   ],
   "source": [
    "x = 11:15\n",
    "for(i in 1:5){\n",
    "    if (i %% 2 == 0){\n",
    "            x[i] = x[i] * 2\n",
    "        }\n",
    "    else {\n",
    "        x[i] = x[i] * 3\n",
    "    }\n",
    "}\n",
    "x"
   ]
  },
  {
   "cell_type": "markdown",
   "id": "17762891",
   "metadata": {},
   "source": [
    "#### 3.2 Functions"
   ]
  },
  {
   "cell_type": "markdown",
   "id": "e8982e9e",
   "metadata": {},
   "source": [
    "function_name(arg1 = .., arg2 = .., ...)"
   ]
  },
  {
   "cell_type": "code",
   "execution_count": 63,
   "id": "1b231730",
   "metadata": {},
   "outputs": [],
   "source": [
    "standardize = function(x) {\n",
    "    m = mean(x)\n",
    "    std = sd(x)\n",
    "    result = (x - m) / std\n",
    "    result\n",
    "}"
   ]
  },
  {
   "cell_type": "code",
   "execution_count": 68,
   "id": "4f2c1829",
   "metadata": {},
   "outputs": [
    {
     "data": {
      "text/html": [
       "<ol class=list-inline>\n",
       "\t<li>-10.2947414145317</li>\n",
       "\t<li>5.26090217970143</li>\n",
       "\t<li>0.117932834460131</li>\n",
       "\t<li>6.39552555403389</li>\n",
       "\t<li>1.30219468192415</li>\n",
       "\t<li>-0.555592777687932</li>\n",
       "\t<li>-6.52154239779456</li>\n",
       "\t<li>4.92894000450259</li>\n",
       "\t<li>2.80020031227853</li>\n",
       "\t<li>3.48032633121931</li>\n",
       "</ol>\n"
      ],
      "text/latex": [
       "\\begin{enumerate*}\n",
       "\\item -10.2947414145317\n",
       "\\item 5.26090217970143\n",
       "\\item 0.117932834460131\n",
       "\\item 6.39552555403389\n",
       "\\item 1.30219468192415\n",
       "\\item -0.555592777687932\n",
       "\\item -6.52154239779456\n",
       "\\item 4.92894000450259\n",
       "\\item 2.80020031227853\n",
       "\\item 3.48032633121931\n",
       "\\end{enumerate*}\n"
      ],
      "text/markdown": [
       "1. -10.2947414145317\n",
       "2. 5.26090217970143\n",
       "3. 0.117932834460131\n",
       "4. 6.39552555403389\n",
       "5. 1.30219468192415\n",
       "6. -0.555592777687932\n",
       "7. -6.52154239779456\n",
       "8. 4.92894000450259\n",
       "9. 2.80020031227853\n",
       "10. 3.48032633121931\n",
       "\n",
       "\n"
      ],
      "text/plain": [
       " [1] -10.2947414   5.2609022   0.1179328   6.3955256   1.3021947  -0.5555928\n",
       " [7]  -6.5215424   4.9289400   2.8002003   3.4803263"
      ]
     },
     "metadata": {},
     "output_type": "display_data"
    },
    {
     "data": {
      "text/html": [
       "<ol class=list-inline>\n",
       "\t<li>-2.04960974881784</li>\n",
       "\t<li>0.852497131741526</li>\n",
       "\t<li>-0.106990441557206</li>\n",
       "\t<li>1.06417582452891</li>\n",
       "\t<li>0.113948951601906</li>\n",
       "\t<li>-0.232645371962817</li>\n",
       "\t<li>-1.34567057961161</li>\n",
       "\t<li>0.790565286434452</li>\n",
       "\t<li>0.393421312911329</li>\n",
       "\t<li>0.520307634731355</li>\n",
       "</ol>\n"
      ],
      "text/latex": [
       "\\begin{enumerate*}\n",
       "\\item -2.04960974881784\n",
       "\\item 0.852497131741526\n",
       "\\item -0.106990441557206\n",
       "\\item 1.06417582452891\n",
       "\\item 0.113948951601906\n",
       "\\item -0.232645371962817\n",
       "\\item -1.34567057961161\n",
       "\\item 0.790565286434452\n",
       "\\item 0.393421312911329\n",
       "\\item 0.520307634731355\n",
       "\\end{enumerate*}\n"
      ],
      "text/markdown": [
       "1. -2.04960974881784\n",
       "2. 0.852497131741526\n",
       "3. -0.106990441557206\n",
       "4. 1.06417582452891\n",
       "5. 0.113948951601906\n",
       "6. -0.232645371962817\n",
       "7. -1.34567057961161\n",
       "8. 0.790565286434452\n",
       "9. 0.393421312911329\n",
       "10. 0.520307634731355\n",
       "\n",
       "\n"
      ],
      "text/plain": [
       " [1] -2.0496097  0.8524971 -0.1069904  1.0641758  0.1139490 -0.2326454\n",
       " [7] -1.3456706  0.7905653  0.3934213  0.5203076"
      ]
     },
     "metadata": {},
     "output_type": "display_data"
    }
   ],
   "source": [
    "test_sample = rnorm(n = 10, mean = 2, sd = 5)\n",
    "test_sample\n",
    "standardize(test_sample)"
   ]
  },
  {
   "cell_type": "markdown",
   "id": "e3f241a2",
   "metadata": {},
   "source": [
    "Example: Function to calculate unbiased estimate of population variance, which is sample variance"
   ]
  },
  {
   "cell_type": "code",
   "execution_count": 82,
   "id": "69d1062c",
   "metadata": {},
   "outputs": [],
   "source": [
    "get_var = function(x, biased = FALSE){\n",
    "    sum((x - mean(x)) ^ 2) / (length(x) - 1 * !biased)\n",
    "}"
   ]
  },
  {
   "cell_type": "code",
   "execution_count": 85,
   "id": "2b0fbea3",
   "metadata": {},
   "outputs": [
    {
     "data": {
      "text/html": [
       "28.7308955074641"
      ],
      "text/latex": [
       "28.7308955074641"
      ],
      "text/markdown": [
       "28.7308955074641"
      ],
      "text/plain": [
       "[1] 28.7309"
      ]
     },
     "metadata": {},
     "output_type": "display_data"
    },
    {
     "data": {
      "text/html": [
       "25.8578059567177"
      ],
      "text/latex": [
       "25.8578059567177"
      ],
      "text/markdown": [
       "25.8578059567177"
      ],
      "text/plain": [
       "[1] 25.85781"
      ]
     },
     "metadata": {},
     "output_type": "display_data"
    }
   ],
   "source": [
    "get_var(test_sample)\n",
    "get_var(test_sample, TRUE)"
   ]
  },
  {
   "cell_type": "code",
   "execution_count": null,
   "id": "6e67d302",
   "metadata": {},
   "outputs": [],
   "source": []
  },
  {
   "cell_type": "code",
   "execution_count": null,
   "id": "41070fee",
   "metadata": {},
   "outputs": [],
   "source": []
  }
 ],
 "metadata": {
  "kernelspec": {
   "display_name": "R",
   "language": "R",
   "name": "ir"
  },
  "language_info": {
   "codemirror_mode": "r",
   "file_extension": ".r",
   "mimetype": "text/x-r-source",
   "name": "R",
   "pygments_lexer": "r",
   "version": "3.6.1"
  }
 },
 "nbformat": 4,
 "nbformat_minor": 5
}
