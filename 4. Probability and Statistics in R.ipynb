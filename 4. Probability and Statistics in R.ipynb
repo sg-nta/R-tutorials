{
 "cells": [
  {
   "cell_type": "markdown",
   "id": "4ced716b",
   "metadata": {},
   "source": [
    "# Learn Statistics with R\n",
    "## Section 4: Probability and Statistics in R\n",
    "### 1. Probability in R"
   ]
  },
  {
   "cell_type": "markdown",
   "id": "35f1eff7",
   "metadata": {},
   "source": [
    "The general naming structure of the relevant R functions is:\n",
    "- dname calculates density (pdf) at input x.\n",
    "- pname calculates distribution (cdf) at input x.\n",
    "- qname calculates the quantile at an input probability.\n",
    "- rname generates a random draw from a particular distribution.\n",
    "\n",
    "The name can be:\n",
    "- norm : normal \n",
    "- binom : binomial\n",
    "- t : student\n",
    "- pois : poisson\n",
    "- f : F\n",
    "- chisq : chi-squared"
   ]
  },
  {
   "cell_type": "code",
   "execution_count": 4,
   "id": "f4c8db9b",
   "metadata": {},
   "outputs": [
    {
     "data": {
      "text/html": [
       "0.0782085387950912"
      ],
      "text/latex": [
       "0.0782085387950912"
      ],
      "text/markdown": [
       "0.0782085387950912"
      ],
      "text/plain": [
       "[1] 0.07820854"
      ]
     },
     "metadata": {},
     "output_type": "display_data"
    }
   ],
   "source": [
    "dnorm(x = 3, mean = 2, sd = 5) #PDF at x = 3 "
   ]
  },
  {
   "cell_type": "markdown",
   "id": "1cd0074b",
   "metadata": {},
   "source": [
    "P(X <= q ) = p\n",
    "\n",
    "p is CDF, q is quantile"
   ]
  },
  {
   "cell_type": "code",
   "execution_count": 5,
   "id": "f3a3a044",
   "metadata": {},
   "outputs": [
    {
     "data": {
      "text/html": [
       "0.579259709439103"
      ],
      "text/latex": [
       "0.579259709439103"
      ],
      "text/markdown": [
       "0.579259709439103"
      ],
      "text/plain": [
       "[1] 0.5792597"
      ]
     },
     "metadata": {},
     "output_type": "display_data"
    }
   ],
   "source": [
    "pnorm(q = 3, mean = 2, sd = 5) #CDF at x = 3"
   ]
  },
  {
   "cell_type": "code",
   "execution_count": 6,
   "id": "028f42ce",
   "metadata": {},
   "outputs": [
    {
     "data": {
      "text/html": [
       "11.7998199227003"
      ],
      "text/latex": [
       "11.7998199227003"
      ],
      "text/markdown": [
       "11.7998199227003"
      ],
      "text/plain": [
       "[1] 11.79982"
      ]
     },
     "metadata": {},
     "output_type": "display_data"
    }
   ],
   "source": [
    "qnorm(p = 0.975, mean = 2, sd = 5) #quantile for probability 0.975"
   ]
  },
  {
   "cell_type": "code",
   "execution_count": 8,
   "id": "1a4436dc",
   "metadata": {},
   "outputs": [
    {
     "data": {
      "text/html": [
       "<ol class=list-inline>\n",
       "\t<li>4.91986848535817</li>\n",
       "\t<li>-0.205130818035387</li>\n",
       "\t<li>0.227289341232746</li>\n",
       "\t<li>-4.53195448846467</li>\n",
       "\t<li>0.981044501092248</li>\n",
       "\t<li>4.34109854504659</li>\n",
       "\t<li>2.56548302270981</li>\n",
       "\t<li>3.10747807193772</li>\n",
       "\t<li>6.10742647972466</li>\n",
       "\t<li>-3.78782344375448</li>\n",
       "</ol>\n"
      ],
      "text/latex": [
       "\\begin{enumerate*}\n",
       "\\item 4.91986848535817\n",
       "\\item -0.205130818035387\n",
       "\\item 0.227289341232746\n",
       "\\item -4.53195448846467\n",
       "\\item 0.981044501092248\n",
       "\\item 4.34109854504659\n",
       "\\item 2.56548302270981\n",
       "\\item 3.10747807193772\n",
       "\\item 6.10742647972466\n",
       "\\item -3.78782344375448\n",
       "\\end{enumerate*}\n"
      ],
      "text/markdown": [
       "1. 4.91986848535817\n",
       "2. -0.205130818035387\n",
       "3. 0.227289341232746\n",
       "4. -4.53195448846467\n",
       "5. 0.981044501092248\n",
       "6. 4.34109854504659\n",
       "7. 2.56548302270981\n",
       "8. 3.10747807193772\n",
       "9. 6.10742647972466\n",
       "10. -3.78782344375448\n",
       "\n",
       "\n"
      ],
      "text/plain": [
       " [1]  4.9198685 -0.2051308  0.2272893 -4.5319545  0.9810445  4.3410985\n",
       " [7]  2.5654830  3.1074781  6.1074265 -3.7878234"
      ]
     },
     "metadata": {},
     "output_type": "display_data"
    }
   ],
   "source": [
    "rnorm(n = 10, mean = 2, sd = 5) #random sample of size n = 10"
   ]
  },
  {
   "cell_type": "code",
   "execution_count": 9,
   "id": "81b02ffe",
   "metadata": {},
   "outputs": [
    {
     "data": {
      "text/html": [
       "0.145998001098633"
      ],
      "text/latex": [
       "0.145998001098633"
      ],
      "text/markdown": [
       "0.145998001098633"
      ],
      "text/plain": [
       "[1] 0.145998"
      ]
     },
     "metadata": {},
     "output_type": "display_data"
    }
   ],
   "source": [
    "dbinom(x = 6, size = 10, prob = 0.75)"
   ]
  },
  {
   "cell_type": "markdown",
   "id": "80938ae3",
   "metadata": {},
   "source": [
    "### 2. Hypothesis tests in R\n",
    "#### 2.1 One sample t-test\n",
    "Example: Suppose a grocery store sells “16 ounce” boxes of Captain Crisp cereal. A random sample of 9 boxes was taken and weighed. The weight in ounces are stored in the data frame capt_crisp."
   ]
  },
  {
   "cell_type": "code",
   "execution_count": 10,
   "id": "08f29e1d",
   "metadata": {},
   "outputs": [],
   "source": [
    "capt_crisp = data.frame(weight = c(15.5, 16.2, 16.1, 15.8, 15.6, 16.0, 15.8, 15.9, 16.2))"
   ]
  },
  {
   "cell_type": "markdown",
   "id": "eb02b873",
   "metadata": {},
   "source": [
    "Normally, we need to do this"
   ]
  },
  {
   "cell_type": "code",
   "execution_count": 12,
   "id": "8c2270ce",
   "metadata": {},
   "outputs": [
    {
     "data": {
      "text/html": [
       "0.132233552600909"
      ],
      "text/latex": [
       "0.132233552600909"
      ],
      "text/markdown": [
       "0.132233552600909"
      ],
      "text/plain": [
       "[1] 0.1322336"
      ]
     },
     "metadata": {},
     "output_type": "display_data"
    }
   ],
   "source": [
    "x_bar = mean(capt_crisp$weight)\n",
    "s = sd(capt_crisp$weight)\n",
    "mu_0 = 16\n",
    "n = 9\n",
    "t = (x_bar - mu_0) / (s / sqrt(n)) #test_statistic\n",
    "pt(t,df = n - 1)"
   ]
  },
  {
   "cell_type": "markdown",
   "id": "16d4e4f5",
   "metadata": {},
   "source": [
    "This process can be done easily in R"
   ]
  },
  {
   "cell_type": "code",
   "execution_count": 14,
   "id": "f40a0407",
   "metadata": {},
   "outputs": [
    {
     "data": {
      "text/plain": [
       "\n",
       "\tOne Sample t-test\n",
       "\n",
       "data:  capt_crisp$weight\n",
       "t = -1.2, df = 8, p-value = 0.1322\n",
       "alternative hypothesis: true mean is less than 16\n",
       "95 percent confidence interval:\n",
       "     -Inf 16.05496\n",
       "sample estimates:\n",
       "mean of x \n",
       "     15.9 \n"
      ]
     },
     "metadata": {},
     "output_type": "display_data"
    }
   ],
   "source": [
    "capt_test_results = t.test(\n",
    "       x =  capt_crisp$weight, \n",
    "       mu = 16, \n",
    "       alternative = c(\"less\"), \n",
    "       conf.level = 0.95)\n",
    "capt_test_results"
   ]
  },
  {
   "cell_type": "code",
   "execution_count": 15,
   "id": "6782a6df",
   "metadata": {},
   "outputs": [
    {
     "data": {
      "text/html": [
       "<ol class=list-inline>\n",
       "\t<li>'statistic'</li>\n",
       "\t<li>'parameter'</li>\n",
       "\t<li>'p.value'</li>\n",
       "\t<li>'conf.int'</li>\n",
       "\t<li>'estimate'</li>\n",
       "\t<li>'null.value'</li>\n",
       "\t<li>'stderr'</li>\n",
       "\t<li>'alternative'</li>\n",
       "\t<li>'method'</li>\n",
       "\t<li>'data.name'</li>\n",
       "</ol>\n"
      ],
      "text/latex": [
       "\\begin{enumerate*}\n",
       "\\item 'statistic'\n",
       "\\item 'parameter'\n",
       "\\item 'p.value'\n",
       "\\item 'conf.int'\n",
       "\\item 'estimate'\n",
       "\\item 'null.value'\n",
       "\\item 'stderr'\n",
       "\\item 'alternative'\n",
       "\\item 'method'\n",
       "\\item 'data.name'\n",
       "\\end{enumerate*}\n"
      ],
      "text/markdown": [
       "1. 'statistic'\n",
       "2. 'parameter'\n",
       "3. 'p.value'\n",
       "4. 'conf.int'\n",
       "5. 'estimate'\n",
       "6. 'null.value'\n",
       "7. 'stderr'\n",
       "8. 'alternative'\n",
       "9. 'method'\n",
       "10. 'data.name'\n",
       "\n",
       "\n"
      ],
      "text/plain": [
       " [1] \"statistic\"   \"parameter\"   \"p.value\"     \"conf.int\"    \"estimate\"   \n",
       " [6] \"null.value\"  \"stderr\"      \"alternative\" \"method\"      \"data.name\"  "
      ]
     },
     "metadata": {},
     "output_type": "display_data"
    }
   ],
   "source": [
    "names(capt_test_results)"
   ]
  },
  {
   "cell_type": "code",
   "execution_count": 16,
   "id": "bd3047c1",
   "metadata": {},
   "outputs": [
    {
     "data": {
      "text/html": [
       "<ol class=list-inline>\n",
       "\t<li>-Inf</li>\n",
       "\t<li>16.0549623364609</li>\n",
       "</ol>\n"
      ],
      "text/latex": [
       "\\begin{enumerate*}\n",
       "\\item -Inf\n",
       "\\item 16.0549623364609\n",
       "\\end{enumerate*}\n"
      ],
      "text/markdown": [
       "1. -Inf\n",
       "2. 16.0549623364609\n",
       "\n",
       "\n"
      ],
      "text/plain": [
       "[1]     -Inf 16.05496\n",
       "attr(,\"conf.level\")\n",
       "[1] 0.95"
      ]
     },
     "metadata": {},
     "output_type": "display_data"
    }
   ],
   "source": [
    "capt_test_results$conf.int"
   ]
  },
  {
   "cell_type": "code",
   "execution_count": null,
   "id": "0519940a",
   "metadata": {},
   "outputs": [],
   "source": []
  }
 ],
 "metadata": {
  "kernelspec": {
   "display_name": "R",
   "language": "R",
   "name": "ir"
  },
  "language_info": {
   "codemirror_mode": "r",
   "file_extension": ".r",
   "mimetype": "text/x-r-source",
   "name": "R",
   "pygments_lexer": "r",
   "version": "3.6.1"
  }
 },
 "nbformat": 4,
 "nbformat_minor": 5
}
