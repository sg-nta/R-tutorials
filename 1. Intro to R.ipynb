{
 "cells": [
  {
   "cell_type": "markdown",
   "id": "50521cfc",
   "metadata": {},
   "source": [
    "# Learn R for Statistics\n",
    "## Section 1: Introduction to R\n",
    "### 1. Basic calculations\n",
    "#### Addition, Subtraction, Multiplication and Division"
   ]
  },
  {
   "cell_type": "code",
   "execution_count": 1,
   "id": "7b1f1d00",
   "metadata": {},
   "outputs": [
    {
     "data": {
      "text/html": [
       "5"
      ],
      "text/latex": [
       "5"
      ],
      "text/markdown": [
       "5"
      ],
      "text/plain": [
       "[1] 5"
      ]
     },
     "metadata": {},
     "output_type": "display_data"
    },
    {
     "data": {
      "text/html": [
       "1"
      ],
      "text/latex": [
       "1"
      ],
      "text/markdown": [
       "1"
      ],
      "text/plain": [
       "[1] 1"
      ]
     },
     "metadata": {},
     "output_type": "display_data"
    },
    {
     "data": {
      "text/html": [
       "6"
      ],
      "text/latex": [
       "6"
      ],
      "text/markdown": [
       "6"
      ],
      "text/plain": [
       "[1] 6"
      ]
     },
     "metadata": {},
     "output_type": "display_data"
    },
    {
     "data": {
      "text/html": [
       "1.5"
      ],
      "text/latex": [
       "1.5"
      ],
      "text/markdown": [
       "1.5"
      ],
      "text/plain": [
       "[1] 1.5"
      ]
     },
     "metadata": {},
     "output_type": "display_data"
    }
   ],
   "source": [
    "3 + 2\n",
    "3 - 2\n",
    "3 * 2\n",
    "3 / 2"
   ]
  },
  {
   "cell_type": "markdown",
   "id": "e44b2606",
   "metadata": {},
   "source": [
    "#### Exponent"
   ]
  },
  {
   "cell_type": "code",
   "execution_count": 5,
   "id": "21bc8889",
   "metadata": {},
   "outputs": [
    {
     "data": {
      "text/html": [
       "9"
      ],
      "text/latex": [
       "9"
      ],
      "text/markdown": [
       "9"
      ],
      "text/plain": [
       "[1] 9"
      ]
     },
     "metadata": {},
     "output_type": "display_data"
    },
    {
     "data": {
      "text/html": [
       "0.125"
      ],
      "text/latex": [
       "0.125"
      ],
      "text/markdown": [
       "0.125"
      ],
      "text/plain": [
       "[1] 0.125"
      ]
     },
     "metadata": {},
     "output_type": "display_data"
    },
    {
     "data": {
      "text/html": [
       "10"
      ],
      "text/latex": [
       "10"
      ],
      "text/markdown": [
       "10"
      ],
      "text/plain": [
       "[1] 10"
      ]
     },
     "metadata": {},
     "output_type": "display_data"
    }
   ],
   "source": [
    "3 ^ 2 \n",
    "2 ^ (-3)\n",
    "sqrt(100)"
   ]
  },
  {
   "cell_type": "markdown",
   "id": "cb686bb4",
   "metadata": {},
   "source": [
    "#### Mathematical Constants"
   ]
  },
  {
   "cell_type": "code",
   "execution_count": 6,
   "id": "e9587913",
   "metadata": {},
   "outputs": [
    {
     "data": {
      "text/html": [
       "3.14159265358979"
      ],
      "text/latex": [
       "3.14159265358979"
      ],
      "text/markdown": [
       "3.14159265358979"
      ],
      "text/plain": [
       "[1] 3.141593"
      ]
     },
     "metadata": {},
     "output_type": "display_data"
    },
    {
     "data": {
      "text/html": [
       "2.71828182845905"
      ],
      "text/latex": [
       "2.71828182845905"
      ],
      "text/markdown": [
       "2.71828182845905"
      ],
      "text/plain": [
       "[1] 2.718282"
      ]
     },
     "metadata": {},
     "output_type": "display_data"
    }
   ],
   "source": [
    "pi\n",
    "exp(1)"
   ]
  },
  {
   "cell_type": "markdown",
   "id": "2843aa2a",
   "metadata": {},
   "source": [
    "#### Logarithms\n",
    "There is no ln() in R, just log() to mean natural logarithm"
   ]
  },
  {
   "cell_type": "code",
   "execution_count": 7,
   "id": "93fe2053",
   "metadata": {
    "scrolled": true
   },
   "outputs": [
    {
     "data": {
      "text/html": [
       "1"
      ],
      "text/latex": [
       "1"
      ],
      "text/markdown": [
       "1"
      ],
      "text/plain": [
       "[1] 1"
      ]
     },
     "metadata": {},
     "output_type": "display_data"
    },
    {
     "data": {
      "text/html": [
       "3"
      ],
      "text/latex": [
       "3"
      ],
      "text/markdown": [
       "3"
      ],
      "text/plain": [
       "[1] 3"
      ]
     },
     "metadata": {},
     "output_type": "display_data"
    },
    {
     "data": {
      "text/html": [
       "2"
      ],
      "text/latex": [
       "2"
      ],
      "text/markdown": [
       "2"
      ],
      "text/plain": [
       "[1] 2"
      ]
     },
     "metadata": {},
     "output_type": "display_data"
    }
   ],
   "source": [
    "log(exp(1))\n",
    "log10(1000)\n",
    "log(16, base = 4)"
   ]
  },
  {
   "cell_type": "markdown",
   "id": "101a6141",
   "metadata": {},
   "source": [
    "#### Trigonometry"
   ]
  },
  {
   "cell_type": "code",
   "execution_count": 21,
   "id": "d6bac2ad",
   "metadata": {},
   "outputs": [
    {
     "data": {
      "text/html": [
       "1"
      ],
      "text/latex": [
       "1"
      ],
      "text/markdown": [
       "1"
      ],
      "text/plain": [
       "[1] 1"
      ]
     },
     "metadata": {},
     "output_type": "display_data"
    },
    {
     "data": {
      "text/html": [
       "1.0471975511966"
      ],
      "text/latex": [
       "1.0471975511966"
      ],
      "text/markdown": [
       "1.0471975511966"
      ],
      "text/plain": [
       "[1] 1.047198"
      ]
     },
     "metadata": {},
     "output_type": "display_data"
    },
    {
     "data": {
      "text/html": [
       "0.309519604203112"
      ],
      "text/latex": [
       "0.309519604203112"
      ],
      "text/markdown": [
       "0.309519604203112"
      ],
      "text/plain": [
       "[1] 0.3095196"
      ]
     },
     "metadata": {},
     "output_type": "display_data"
    }
   ],
   "source": [
    "sin(pi/2)\n",
    "acos(0.5)\n",
    "atanh(0.3)"
   ]
  },
  {
   "cell_type": "markdown",
   "id": "1f25fb1d",
   "metadata": {},
   "source": [
    "### 2. Get help"
   ]
  },
  {
   "cell_type": "markdown",
   "id": "538f0387",
   "metadata": {},
   "source": [
    "To get documentation about a function in R, simply put a question mark in front of the function name"
   ]
  },
  {
   "cell_type": "code",
   "execution_count": 25,
   "id": "9d817122",
   "metadata": {},
   "outputs": [],
   "source": [
    "?log"
   ]
  },
  {
   "cell_type": "code",
   "execution_count": 26,
   "id": "5afe142c",
   "metadata": {},
   "outputs": [],
   "source": [
    "?lm"
   ]
  },
  {
   "cell_type": "code",
   "execution_count": 27,
   "id": "61285e64",
   "metadata": {},
   "outputs": [],
   "source": [
    "?paste"
   ]
  },
  {
   "cell_type": "markdown",
   "id": "cb643bfe",
   "metadata": {},
   "source": [
    "### 3. Installing packages\n",
    "To install a package, use the install.packages() function"
   ]
  },
  {
   "cell_type": "code",
   "execution_count": 28,
   "id": "647bfc1f",
   "metadata": {},
   "outputs": [
    {
     "name": "stderr",
     "output_type": "stream",
     "text": [
      "also installing the dependencies 'isoband', 'rlang'\n",
      "\n"
     ]
    },
    {
     "name": "stdout",
     "output_type": "stream",
     "text": [
      "\n",
      "  There are binary versions available but the source versions are later:\n",
      "        binary source needs_compilation\n",
      "isoband  0.2.4  0.2.5              TRUE\n",
      "rlang   0.4.11  1.0.2              TRUE\n",
      "ggplot2  3.3.3  3.3.5             FALSE\n",
      "\n",
      "  Binaries will be installed\n",
      "package 'isoband' successfully unpacked and MD5 sums checked\n",
      "package 'rlang' successfully unpacked and MD5 sums checked\n",
      "\n",
      "The downloaded binary packages are in\n",
      "\tC:\\Users\\ADMIN\\AppData\\Local\\Temp\\RtmpWyxP7q\\downloaded_packages\n"
     ]
    },
    {
     "name": "stderr",
     "output_type": "stream",
     "text": [
      "installing the source package 'ggplot2'\n",
      "\n"
     ]
    }
   ],
   "source": [
    "install.packages(\"ggplot2\")"
   ]
  },
  {
   "cell_type": "markdown",
   "id": "b23f37ce",
   "metadata": {},
   "source": [
    "Once a package is installed, it must be loaded into your current R session before being used"
   ]
  },
  {
   "cell_type": "code",
   "execution_count": 29,
   "id": "137a2777",
   "metadata": {},
   "outputs": [],
   "source": [
    "library(ggplot2)"
   ]
  },
  {
   "cell_type": "markdown",
   "id": "1ee785d6",
   "metadata": {},
   "source": [
    "Once you close R, all the packages are closed. The next time you open R, you do not have to install the package again, but you do have to load any packages you intend to use by invoking library()."
   ]
  },
  {
   "cell_type": "code",
   "execution_count": null,
   "id": "eb735ed8",
   "metadata": {},
   "outputs": [],
   "source": []
  },
  {
   "cell_type": "code",
   "execution_count": null,
   "id": "110397f2",
   "metadata": {},
   "outputs": [],
   "source": []
  }
 ],
 "metadata": {
  "kernelspec": {
   "display_name": "R",
   "language": "R",
   "name": "ir"
  },
  "language_info": {
   "codemirror_mode": "r",
   "file_extension": ".r",
   "mimetype": "text/x-r-source",
   "name": "R",
   "pygments_lexer": "r",
   "version": "3.6.1"
  }
 },
 "nbformat": 4,
 "nbformat_minor": 5
}
