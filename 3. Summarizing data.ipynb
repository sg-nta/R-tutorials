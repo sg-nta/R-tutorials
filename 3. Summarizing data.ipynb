{
 "cells": [
  {
   "cell_type": "markdown",
   "id": "276f3fe0",
   "metadata": {},
   "source": [
    "# Learn Statistics with R\n",
    "## Section 3: Summarizing Data\n",
    "### 1. Summary statistics"
   ]
  },
  {
   "cell_type": "code",
   "execution_count": 1,
   "id": "67f35725",
   "metadata": {},
   "outputs": [],
   "source": [
    "library(ggplot2)"
   ]
  },
  {
   "cell_type": "markdown",
   "id": "3be9fceb",
   "metadata": {},
   "source": [
    "We will work with the mpg dataset from ggplot2."
   ]
  },
  {
   "cell_type": "code",
   "execution_count": 10,
   "id": "ffaf7803",
   "metadata": {},
   "outputs": [
    {
     "data": {
      "text/html": [
       "<table>\n",
       "<thead><tr><th scope=col>manufacturer</th><th scope=col>model</th><th scope=col>displ</th><th scope=col>year</th><th scope=col>cyl</th><th scope=col>trans</th><th scope=col>drv</th><th scope=col>cty</th><th scope=col>hwy</th><th scope=col>fl</th><th scope=col>class</th></tr></thead>\n",
       "<tbody>\n",
       "\t<tr><td>audi      </td><td>a4        </td><td>1.8       </td><td>1999      </td><td>4         </td><td>auto(l5)  </td><td>f         </td><td>18        </td><td>29        </td><td>p         </td><td>compact   </td></tr>\n",
       "\t<tr><td>audi      </td><td>a4        </td><td>1.8       </td><td>1999      </td><td>4         </td><td>manual(m5)</td><td>f         </td><td>21        </td><td>29        </td><td>p         </td><td>compact   </td></tr>\n",
       "\t<tr><td>audi      </td><td>a4        </td><td>2.0       </td><td>2008      </td><td>4         </td><td>manual(m6)</td><td>f         </td><td>20        </td><td>31        </td><td>p         </td><td>compact   </td></tr>\n",
       "\t<tr><td>audi      </td><td>a4        </td><td>2.0       </td><td>2008      </td><td>4         </td><td>auto(av)  </td><td>f         </td><td>21        </td><td>30        </td><td>p         </td><td>compact   </td></tr>\n",
       "\t<tr><td>audi      </td><td>a4        </td><td>2.8       </td><td>1999      </td><td>6         </td><td>auto(l5)  </td><td>f         </td><td>16        </td><td>26        </td><td>p         </td><td>compact   </td></tr>\n",
       "\t<tr><td>audi      </td><td>a4        </td><td>2.8       </td><td>1999      </td><td>6         </td><td>manual(m5)</td><td>f         </td><td>18        </td><td>26        </td><td>p         </td><td>compact   </td></tr>\n",
       "\t<tr><td>audi      </td><td>a4        </td><td>3.1       </td><td>2008      </td><td>6         </td><td>auto(av)  </td><td>f         </td><td>18        </td><td>27        </td><td>p         </td><td>compact   </td></tr>\n",
       "\t<tr><td>audi      </td><td>a4 quattro</td><td>1.8       </td><td>1999      </td><td>4         </td><td>manual(m5)</td><td>4         </td><td>18        </td><td>26        </td><td>p         </td><td>compact   </td></tr>\n",
       "\t<tr><td>audi      </td><td>a4 quattro</td><td>1.8       </td><td>1999      </td><td>4         </td><td>auto(l5)  </td><td>4         </td><td>16        </td><td>25        </td><td>p         </td><td>compact   </td></tr>\n",
       "\t<tr><td>audi      </td><td>a4 quattro</td><td>2.0       </td><td>2008      </td><td>4         </td><td>manual(m6)</td><td>4         </td><td>20        </td><td>28        </td><td>p         </td><td>compact   </td></tr>\n",
       "</tbody>\n",
       "</table>\n"
      ],
      "text/latex": [
       "\\begin{tabular}{r|lllllllllll}\n",
       " manufacturer & model & displ & year & cyl & trans & drv & cty & hwy & fl & class\\\\\n",
       "\\hline\n",
       "\t audi       & a4         & 1.8        & 1999       & 4          & auto(l5)   & f          & 18         & 29         & p          & compact   \\\\\n",
       "\t audi       & a4         & 1.8        & 1999       & 4          & manual(m5) & f          & 21         & 29         & p          & compact   \\\\\n",
       "\t audi       & a4         & 2.0        & 2008       & 4          & manual(m6) & f          & 20         & 31         & p          & compact   \\\\\n",
       "\t audi       & a4         & 2.0        & 2008       & 4          & auto(av)   & f          & 21         & 30         & p          & compact   \\\\\n",
       "\t audi       & a4         & 2.8        & 1999       & 6          & auto(l5)   & f          & 16         & 26         & p          & compact   \\\\\n",
       "\t audi       & a4         & 2.8        & 1999       & 6          & manual(m5) & f          & 18         & 26         & p          & compact   \\\\\n",
       "\t audi       & a4         & 3.1        & 2008       & 6          & auto(av)   & f          & 18         & 27         & p          & compact   \\\\\n",
       "\t audi       & a4 quattro & 1.8        & 1999       & 4          & manual(m5) & 4          & 18         & 26         & p          & compact   \\\\\n",
       "\t audi       & a4 quattro & 1.8        & 1999       & 4          & auto(l5)   & 4          & 16         & 25         & p          & compact   \\\\\n",
       "\t audi       & a4 quattro & 2.0        & 2008       & 4          & manual(m6) & 4          & 20         & 28         & p          & compact   \\\\\n",
       "\\end{tabular}\n"
      ],
      "text/markdown": [
       "\n",
       "| manufacturer | model | displ | year | cyl | trans | drv | cty | hwy | fl | class |\n",
       "|---|---|---|---|---|---|---|---|---|---|---|\n",
       "| audi       | a4         | 1.8        | 1999       | 4          | auto(l5)   | f          | 18         | 29         | p          | compact    |\n",
       "| audi       | a4         | 1.8        | 1999       | 4          | manual(m5) | f          | 21         | 29         | p          | compact    |\n",
       "| audi       | a4         | 2.0        | 2008       | 4          | manual(m6) | f          | 20         | 31         | p          | compact    |\n",
       "| audi       | a4         | 2.0        | 2008       | 4          | auto(av)   | f          | 21         | 30         | p          | compact    |\n",
       "| audi       | a4         | 2.8        | 1999       | 6          | auto(l5)   | f          | 16         | 26         | p          | compact    |\n",
       "| audi       | a4         | 2.8        | 1999       | 6          | manual(m5) | f          | 18         | 26         | p          | compact    |\n",
       "| audi       | a4         | 3.1        | 2008       | 6          | auto(av)   | f          | 18         | 27         | p          | compact    |\n",
       "| audi       | a4 quattro | 1.8        | 1999       | 4          | manual(m5) | 4          | 18         | 26         | p          | compact    |\n",
       "| audi       | a4 quattro | 1.8        | 1999       | 4          | auto(l5)   | 4          | 16         | 25         | p          | compact    |\n",
       "| audi       | a4 quattro | 2.0        | 2008       | 4          | manual(m6) | 4          | 20         | 28         | p          | compact    |\n",
       "\n"
      ],
      "text/plain": [
       "   manufacturer model      displ year cyl trans      drv cty hwy fl class  \n",
       "1  audi         a4         1.8   1999 4   auto(l5)   f   18  29  p  compact\n",
       "2  audi         a4         1.8   1999 4   manual(m5) f   21  29  p  compact\n",
       "3  audi         a4         2.0   2008 4   manual(m6) f   20  31  p  compact\n",
       "4  audi         a4         2.0   2008 4   auto(av)   f   21  30  p  compact\n",
       "5  audi         a4         2.8   1999 6   auto(l5)   f   16  26  p  compact\n",
       "6  audi         a4         2.8   1999 6   manual(m5) f   18  26  p  compact\n",
       "7  audi         a4         3.1   2008 6   auto(av)   f   18  27  p  compact\n",
       "8  audi         a4 quattro 1.8   1999 4   manual(m5) 4   18  26  p  compact\n",
       "9  audi         a4 quattro 1.8   1999 4   auto(l5)   4   16  25  p  compact\n",
       "10 audi         a4 quattro 2.0   2008 4   manual(m6) 4   20  28  p  compact"
      ]
     },
     "metadata": {},
     "output_type": "display_data"
    }
   ],
   "source": [
    "head(mpg, n = 10)"
   ]
  },
  {
   "cell_type": "code",
   "execution_count": 5,
   "id": "64b87bd3",
   "metadata": {},
   "outputs": [
    {
     "name": "stdout",
     "output_type": "stream",
     "text": [
      "Classes 'tbl_df', 'tbl' and 'data.frame':\t234 obs. of  11 variables:\n",
      " $ manufacturer: chr  \"audi\" \"audi\" \"audi\" \"audi\" ...\n",
      " $ model       : chr  \"a4\" \"a4\" \"a4\" \"a4\" ...\n",
      " $ displ       : num  1.8 1.8 2 2 2.8 2.8 3.1 1.8 1.8 2 ...\n",
      " $ year        : int  1999 1999 2008 2008 1999 1999 2008 1999 1999 2008 ...\n",
      " $ cyl         : int  4 4 4 4 6 6 6 4 4 4 ...\n",
      " $ trans       : chr  \"auto(l5)\" \"manual(m5)\" \"manual(m6)\" \"auto(av)\" ...\n",
      " $ drv         : chr  \"f\" \"f\" \"f\" \"f\" ...\n",
      " $ cty         : int  18 21 20 21 16 18 18 18 16 20 ...\n",
      " $ hwy         : int  29 29 31 30 26 26 27 26 25 28 ...\n",
      " $ fl          : chr  \"p\" \"p\" \"p\" \"p\" ...\n",
      " $ class       : chr  \"compact\" \"compact\" \"compact\" \"compact\" ...\n"
     ]
    }
   ],
   "source": [
    "str(mpg)"
   ]
  },
  {
   "cell_type": "code",
   "execution_count": 6,
   "id": "67719dd3",
   "metadata": {},
   "outputs": [
    {
     "data": {
      "text/html": [
       "<ol class=list-inline>\n",
       "\t<li>'manufacturer'</li>\n",
       "\t<li>'model'</li>\n",
       "\t<li>'displ'</li>\n",
       "\t<li>'year'</li>\n",
       "\t<li>'cyl'</li>\n",
       "\t<li>'trans'</li>\n",
       "\t<li>'drv'</li>\n",
       "\t<li>'cty'</li>\n",
       "\t<li>'hwy'</li>\n",
       "\t<li>'fl'</li>\n",
       "\t<li>'class'</li>\n",
       "</ol>\n"
      ],
      "text/latex": [
       "\\begin{enumerate*}\n",
       "\\item 'manufacturer'\n",
       "\\item 'model'\n",
       "\\item 'displ'\n",
       "\\item 'year'\n",
       "\\item 'cyl'\n",
       "\\item 'trans'\n",
       "\\item 'drv'\n",
       "\\item 'cty'\n",
       "\\item 'hwy'\n",
       "\\item 'fl'\n",
       "\\item 'class'\n",
       "\\end{enumerate*}\n"
      ],
      "text/markdown": [
       "1. 'manufacturer'\n",
       "2. 'model'\n",
       "3. 'displ'\n",
       "4. 'year'\n",
       "5. 'cyl'\n",
       "6. 'trans'\n",
       "7. 'drv'\n",
       "8. 'cty'\n",
       "9. 'hwy'\n",
       "10. 'fl'\n",
       "11. 'class'\n",
       "\n",
       "\n"
      ],
      "text/plain": [
       " [1] \"manufacturer\" \"model\"        \"displ\"        \"year\"         \"cyl\"         \n",
       " [6] \"trans\"        \"drv\"          \"cty\"          \"hwy\"          \"fl\"          \n",
       "[11] \"class\"       "
      ]
     },
     "metadata": {},
     "output_type": "display_data"
    }
   ],
   "source": [
    "names(mpg)"
   ]
  },
  {
   "cell_type": "code",
   "execution_count": 7,
   "id": "b4607cea",
   "metadata": {},
   "outputs": [
    {
     "data": {
      "text/html": [
       "<ol class=list-inline>\n",
       "\t<li>1999</li>\n",
       "\t<li>1999</li>\n",
       "\t<li>2008</li>\n",
       "\t<li>2008</li>\n",
       "\t<li>1999</li>\n",
       "\t<li>1999</li>\n",
       "\t<li>2008</li>\n",
       "\t<li>1999</li>\n",
       "\t<li>1999</li>\n",
       "\t<li>2008</li>\n",
       "\t<li>2008</li>\n",
       "\t<li>1999</li>\n",
       "\t<li>1999</li>\n",
       "\t<li>2008</li>\n",
       "\t<li>2008</li>\n",
       "\t<li>1999</li>\n",
       "\t<li>2008</li>\n",
       "\t<li>2008</li>\n",
       "\t<li>2008</li>\n",
       "\t<li>2008</li>\n",
       "\t<li>2008</li>\n",
       "\t<li>1999</li>\n",
       "\t<li>2008</li>\n",
       "\t<li>1999</li>\n",
       "\t<li>1999</li>\n",
       "\t<li>2008</li>\n",
       "\t<li>2008</li>\n",
       "\t<li>2008</li>\n",
       "\t<li>2008</li>\n",
       "\t<li>2008</li>\n",
       "\t<li>1999</li>\n",
       "\t<li>1999</li>\n",
       "\t<li>1999</li>\n",
       "\t<li>2008</li>\n",
       "\t<li>1999</li>\n",
       "\t<li>2008</li>\n",
       "\t<li>2008</li>\n",
       "\t<li>1999</li>\n",
       "\t<li>1999</li>\n",
       "\t<li>1999</li>\n",
       "\t<li>1999</li>\n",
       "\t<li>2008</li>\n",
       "\t<li>2008</li>\n",
       "\t<li>2008</li>\n",
       "\t<li>1999</li>\n",
       "\t<li>1999</li>\n",
       "\t<li>2008</li>\n",
       "\t<li>2008</li>\n",
       "\t<li>2008</li>\n",
       "\t<li>2008</li>\n",
       "\t<li>1999</li>\n",
       "\t<li>1999</li>\n",
       "\t<li>2008</li>\n",
       "\t<li>2008</li>\n",
       "\t<li>2008</li>\n",
       "\t<li>1999</li>\n",
       "\t<li>1999</li>\n",
       "\t<li>1999</li>\n",
       "\t<li>2008</li>\n",
       "\t<li>2008</li>\n",
       "\t<li>2008</li>\n",
       "\t<li>1999</li>\n",
       "\t<li>2008</li>\n",
       "\t<li>1999</li>\n",
       "\t<li>2008</li>\n",
       "\t<li>2008</li>\n",
       "\t<li>2008</li>\n",
       "\t<li>2008</li>\n",
       "\t<li>2008</li>\n",
       "\t<li>2008</li>\n",
       "\t<li>1999</li>\n",
       "\t<li>1999</li>\n",
       "\t<li>2008</li>\n",
       "\t<li>1999</li>\n",
       "\t<li>1999</li>\n",
       "\t<li>1999</li>\n",
       "\t<li>2008</li>\n",
       "\t<li>1999</li>\n",
       "\t<li>1999</li>\n",
       "\t<li>1999</li>\n",
       "\t<li>2008</li>\n",
       "\t<li>2008</li>\n",
       "\t<li>1999</li>\n",
       "\t<li>1999</li>\n",
       "\t<li>1999</li>\n",
       "\t<li>1999</li>\n",
       "\t<li>1999</li>\n",
       "\t<li>2008</li>\n",
       "\t<li>1999</li>\n",
       "\t<li>2008</li>\n",
       "\t<li>1999</li>\n",
       "\t<li>1999</li>\n",
       "\t<li>2008</li>\n",
       "\t<li>2008</li>\n",
       "\t<li>1999</li>\n",
       "\t<li>1999</li>\n",
       "\t<li>2008</li>\n",
       "\t<li>2008</li>\n",
       "\t<li>2008</li>\n",
       "\t<li>1999</li>\n",
       "\t<li>1999</li>\n",
       "\t<li>1999</li>\n",
       "\t<li>1999</li>\n",
       "\t<li>1999</li>\n",
       "\t<li>2008</li>\n",
       "\t<li>2008</li>\n",
       "\t<li>2008</li>\n",
       "\t<li>2008</li>\n",
       "\t<li>1999</li>\n",
       "\t<li>1999</li>\n",
       "\t<li>2008</li>\n",
       "\t<li>2008</li>\n",
       "\t<li>1999</li>\n",
       "\t<li>1999</li>\n",
       "\t<li>2008</li>\n",
       "\t<li>1999</li>\n",
       "\t<li>1999</li>\n",
       "\t<li>2008</li>\n",
       "\t<li>2008</li>\n",
       "\t<li>2008</li>\n",
       "\t<li>2008</li>\n",
       "\t<li>2008</li>\n",
       "\t<li>2008</li>\n",
       "\t<li>2008</li>\n",
       "\t<li>1999</li>\n",
       "\t<li>1999</li>\n",
       "\t<li>2008</li>\n",
       "\t<li>2008</li>\n",
       "\t<li>2008</li>\n",
       "\t<li>2008</li>\n",
       "\t<li>1999</li>\n",
       "\t<li>2008</li>\n",
       "\t<li>2008</li>\n",
       "\t<li>1999</li>\n",
       "\t<li>1999</li>\n",
       "\t<li>1999</li>\n",
       "\t<li>2008</li>\n",
       "\t<li>1999</li>\n",
       "\t<li>2008</li>\n",
       "\t<li>2008</li>\n",
       "\t<li>1999</li>\n",
       "\t<li>1999</li>\n",
       "\t<li>1999</li>\n",
       "\t<li>2008</li>\n",
       "\t<li>2008</li>\n",
       "\t<li>2008</li>\n",
       "\t<li>2008</li>\n",
       "\t<li>1999</li>\n",
       "\t<li>1999</li>\n",
       "\t<li>2008</li>\n",
       "\t<li>1999</li>\n",
       "\t<li>1999</li>\n",
       "\t<li>2008</li>\n",
       "\t<li>2008</li>\n",
       "\t<li>1999</li>\n",
       "\t<li>1999</li>\n",
       "\t<li>1999</li>\n",
       "\t<li>2008</li>\n",
       "\t<li>2008</li>\n",
       "\t<li>1999</li>\n",
       "\t<li>1999</li>\n",
       "\t<li>2008</li>\n",
       "\t<li>2008</li>\n",
       "\t<li>2008</li>\n",
       "\t<li>2008</li>\n",
       "\t<li>1999</li>\n",
       "\t<li>1999</li>\n",
       "\t<li>1999</li>\n",
       "\t<li>1999</li>\n",
       "\t<li>2008</li>\n",
       "\t<li>2008</li>\n",
       "\t<li>2008</li>\n",
       "\t<li>2008</li>\n",
       "\t<li>1999</li>\n",
       "\t<li>1999</li>\n",
       "\t<li>1999</li>\n",
       "\t<li>1999</li>\n",
       "\t<li>2008</li>\n",
       "\t<li>2008</li>\n",
       "\t<li>1999</li>\n",
       "\t<li>1999</li>\n",
       "\t<li>2008</li>\n",
       "\t<li>2008</li>\n",
       "\t<li>1999</li>\n",
       "\t<li>1999</li>\n",
       "\t<li>2008</li>\n",
       "\t<li>1999</li>\n",
       "\t<li>1999</li>\n",
       "\t<li>2008</li>\n",
       "\t<li>2008</li>\n",
       "\t<li>1999</li>\n",
       "\t<li>1999</li>\n",
       "\t<li>2008</li>\n",
       "\t<li>1999</li>\n",
       "\t<li>1999</li>\n",
       "\t<li>1999</li>\n",
       "\t<li>2008</li>\n",
       "\t<li>2008</li>\n",
       "\t<li>1999</li>\n",
       "\t<li>2008</li>\n",
       "\t<li>1999</li>\n",
       "\t<li>1999</li>\n",
       "\t<li>2008</li>\n",
       "\t<li>1999</li>\n",
       "\t<li>1999</li>\n",
       "\t<li>2008</li>\n",
       "\t<li>2008</li>\n",
       "\t<li>1999</li>\n",
       "\t<li>1999</li>\n",
       "\t<li>2008</li>\n",
       "\t<li>2008</li>\n",
       "\t<li>1999</li>\n",
       "\t<li>1999</li>\n",
       "\t<li>1999</li>\n",
       "\t<li>1999</li>\n",
       "\t<li>2008</li>\n",
       "\t<li>2008</li>\n",
       "\t<li>2008</li>\n",
       "\t<li>2008</li>\n",
       "\t<li>1999</li>\n",
       "\t<li>1999</li>\n",
       "\t<li>1999</li>\n",
       "\t<li>1999</li>\n",
       "\t<li>1999</li>\n",
       "\t<li>1999</li>\n",
       "\t<li>2008</li>\n",
       "\t<li>2008</li>\n",
       "\t<li>1999</li>\n",
       "\t<li>1999</li>\n",
       "\t<li>2008</li>\n",
       "\t<li>2008</li>\n",
       "\t<li>1999</li>\n",
       "\t<li>1999</li>\n",
       "\t<li>2008</li>\n",
       "</ol>\n"
      ],
      "text/latex": [
       "\\begin{enumerate*}\n",
       "\\item 1999\n",
       "\\item 1999\n",
       "\\item 2008\n",
       "\\item 2008\n",
       "\\item 1999\n",
       "\\item 1999\n",
       "\\item 2008\n",
       "\\item 1999\n",
       "\\item 1999\n",
       "\\item 2008\n",
       "\\item 2008\n",
       "\\item 1999\n",
       "\\item 1999\n",
       "\\item 2008\n",
       "\\item 2008\n",
       "\\item 1999\n",
       "\\item 2008\n",
       "\\item 2008\n",
       "\\item 2008\n",
       "\\item 2008\n",
       "\\item 2008\n",
       "\\item 1999\n",
       "\\item 2008\n",
       "\\item 1999\n",
       "\\item 1999\n",
       "\\item 2008\n",
       "\\item 2008\n",
       "\\item 2008\n",
       "\\item 2008\n",
       "\\item 2008\n",
       "\\item 1999\n",
       "\\item 1999\n",
       "\\item 1999\n",
       "\\item 2008\n",
       "\\item 1999\n",
       "\\item 2008\n",
       "\\item 2008\n",
       "\\item 1999\n",
       "\\item 1999\n",
       "\\item 1999\n",
       "\\item 1999\n",
       "\\item 2008\n",
       "\\item 2008\n",
       "\\item 2008\n",
       "\\item 1999\n",
       "\\item 1999\n",
       "\\item 2008\n",
       "\\item 2008\n",
       "\\item 2008\n",
       "\\item 2008\n",
       "\\item 1999\n",
       "\\item 1999\n",
       "\\item 2008\n",
       "\\item 2008\n",
       "\\item 2008\n",
       "\\item 1999\n",
       "\\item 1999\n",
       "\\item 1999\n",
       "\\item 2008\n",
       "\\item 2008\n",
       "\\item 2008\n",
       "\\item 1999\n",
       "\\item 2008\n",
       "\\item 1999\n",
       "\\item 2008\n",
       "\\item 2008\n",
       "\\item 2008\n",
       "\\item 2008\n",
       "\\item 2008\n",
       "\\item 2008\n",
       "\\item 1999\n",
       "\\item 1999\n",
       "\\item 2008\n",
       "\\item 1999\n",
       "\\item 1999\n",
       "\\item 1999\n",
       "\\item 2008\n",
       "\\item 1999\n",
       "\\item 1999\n",
       "\\item 1999\n",
       "\\item 2008\n",
       "\\item 2008\n",
       "\\item 1999\n",
       "\\item 1999\n",
       "\\item 1999\n",
       "\\item 1999\n",
       "\\item 1999\n",
       "\\item 2008\n",
       "\\item 1999\n",
       "\\item 2008\n",
       "\\item 1999\n",
       "\\item 1999\n",
       "\\item 2008\n",
       "\\item 2008\n",
       "\\item 1999\n",
       "\\item 1999\n",
       "\\item 2008\n",
       "\\item 2008\n",
       "\\item 2008\n",
       "\\item 1999\n",
       "\\item 1999\n",
       "\\item 1999\n",
       "\\item 1999\n",
       "\\item 1999\n",
       "\\item 2008\n",
       "\\item 2008\n",
       "\\item 2008\n",
       "\\item 2008\n",
       "\\item 1999\n",
       "\\item 1999\n",
       "\\item 2008\n",
       "\\item 2008\n",
       "\\item 1999\n",
       "\\item 1999\n",
       "\\item 2008\n",
       "\\item 1999\n",
       "\\item 1999\n",
       "\\item 2008\n",
       "\\item 2008\n",
       "\\item 2008\n",
       "\\item 2008\n",
       "\\item 2008\n",
       "\\item 2008\n",
       "\\item 2008\n",
       "\\item 1999\n",
       "\\item 1999\n",
       "\\item 2008\n",
       "\\item 2008\n",
       "\\item 2008\n",
       "\\item 2008\n",
       "\\item 1999\n",
       "\\item 2008\n",
       "\\item 2008\n",
       "\\item 1999\n",
       "\\item 1999\n",
       "\\item 1999\n",
       "\\item 2008\n",
       "\\item 1999\n",
       "\\item 2008\n",
       "\\item 2008\n",
       "\\item 1999\n",
       "\\item 1999\n",
       "\\item 1999\n",
       "\\item 2008\n",
       "\\item 2008\n",
       "\\item 2008\n",
       "\\item 2008\n",
       "\\item 1999\n",
       "\\item 1999\n",
       "\\item 2008\n",
       "\\item 1999\n",
       "\\item 1999\n",
       "\\item 2008\n",
       "\\item 2008\n",
       "\\item 1999\n",
       "\\item 1999\n",
       "\\item 1999\n",
       "\\item 2008\n",
       "\\item 2008\n",
       "\\item 1999\n",
       "\\item 1999\n",
       "\\item 2008\n",
       "\\item 2008\n",
       "\\item 2008\n",
       "\\item 2008\n",
       "\\item 1999\n",
       "\\item 1999\n",
       "\\item 1999\n",
       "\\item 1999\n",
       "\\item 2008\n",
       "\\item 2008\n",
       "\\item 2008\n",
       "\\item 2008\n",
       "\\item 1999\n",
       "\\item 1999\n",
       "\\item 1999\n",
       "\\item 1999\n",
       "\\item 2008\n",
       "\\item 2008\n",
       "\\item 1999\n",
       "\\item 1999\n",
       "\\item 2008\n",
       "\\item 2008\n",
       "\\item 1999\n",
       "\\item 1999\n",
       "\\item 2008\n",
       "\\item 1999\n",
       "\\item 1999\n",
       "\\item 2008\n",
       "\\item 2008\n",
       "\\item 1999\n",
       "\\item 1999\n",
       "\\item 2008\n",
       "\\item 1999\n",
       "\\item 1999\n",
       "\\item 1999\n",
       "\\item 2008\n",
       "\\item 2008\n",
       "\\item 1999\n",
       "\\item 2008\n",
       "\\item 1999\n",
       "\\item 1999\n",
       "\\item 2008\n",
       "\\item 1999\n",
       "\\item 1999\n",
       "\\item 2008\n",
       "\\item 2008\n",
       "\\item 1999\n",
       "\\item 1999\n",
       "\\item 2008\n",
       "\\item 2008\n",
       "\\item 1999\n",
       "\\item 1999\n",
       "\\item 1999\n",
       "\\item 1999\n",
       "\\item 2008\n",
       "\\item 2008\n",
       "\\item 2008\n",
       "\\item 2008\n",
       "\\item 1999\n",
       "\\item 1999\n",
       "\\item 1999\n",
       "\\item 1999\n",
       "\\item 1999\n",
       "\\item 1999\n",
       "\\item 2008\n",
       "\\item 2008\n",
       "\\item 1999\n",
       "\\item 1999\n",
       "\\item 2008\n",
       "\\item 2008\n",
       "\\item 1999\n",
       "\\item 1999\n",
       "\\item 2008\n",
       "\\end{enumerate*}\n"
      ],
      "text/markdown": [
       "1. 1999\n",
       "2. 1999\n",
       "3. 2008\n",
       "4. 2008\n",
       "5. 1999\n",
       "6. 1999\n",
       "7. 2008\n",
       "8. 1999\n",
       "9. 1999\n",
       "10. 2008\n",
       "11. 2008\n",
       "12. 1999\n",
       "13. 1999\n",
       "14. 2008\n",
       "15. 2008\n",
       "16. 1999\n",
       "17. 2008\n",
       "18. 2008\n",
       "19. 2008\n",
       "20. 2008\n",
       "21. 2008\n",
       "22. 1999\n",
       "23. 2008\n",
       "24. 1999\n",
       "25. 1999\n",
       "26. 2008\n",
       "27. 2008\n",
       "28. 2008\n",
       "29. 2008\n",
       "30. 2008\n",
       "31. 1999\n",
       "32. 1999\n",
       "33. 1999\n",
       "34. 2008\n",
       "35. 1999\n",
       "36. 2008\n",
       "37. 2008\n",
       "38. 1999\n",
       "39. 1999\n",
       "40. 1999\n",
       "41. 1999\n",
       "42. 2008\n",
       "43. 2008\n",
       "44. 2008\n",
       "45. 1999\n",
       "46. 1999\n",
       "47. 2008\n",
       "48. 2008\n",
       "49. 2008\n",
       "50. 2008\n",
       "51. 1999\n",
       "52. 1999\n",
       "53. 2008\n",
       "54. 2008\n",
       "55. 2008\n",
       "56. 1999\n",
       "57. 1999\n",
       "58. 1999\n",
       "59. 2008\n",
       "60. 2008\n",
       "61. 2008\n",
       "62. 1999\n",
       "63. 2008\n",
       "64. 1999\n",
       "65. 2008\n",
       "66. 2008\n",
       "67. 2008\n",
       "68. 2008\n",
       "69. 2008\n",
       "70. 2008\n",
       "71. 1999\n",
       "72. 1999\n",
       "73. 2008\n",
       "74. 1999\n",
       "75. 1999\n",
       "76. 1999\n",
       "77. 2008\n",
       "78. 1999\n",
       "79. 1999\n",
       "80. 1999\n",
       "81. 2008\n",
       "82. 2008\n",
       "83. 1999\n",
       "84. 1999\n",
       "85. 1999\n",
       "86. 1999\n",
       "87. 1999\n",
       "88. 2008\n",
       "89. 1999\n",
       "90. 2008\n",
       "91. 1999\n",
       "92. 1999\n",
       "93. 2008\n",
       "94. 2008\n",
       "95. 1999\n",
       "96. 1999\n",
       "97. 2008\n",
       "98. 2008\n",
       "99. 2008\n",
       "100. 1999\n",
       "101. 1999\n",
       "102. 1999\n",
       "103. 1999\n",
       "104. 1999\n",
       "105. 2008\n",
       "106. 2008\n",
       "107. 2008\n",
       "108. 2008\n",
       "109. 1999\n",
       "110. 1999\n",
       "111. 2008\n",
       "112. 2008\n",
       "113. 1999\n",
       "114. 1999\n",
       "115. 2008\n",
       "116. 1999\n",
       "117. 1999\n",
       "118. 2008\n",
       "119. 2008\n",
       "120. 2008\n",
       "121. 2008\n",
       "122. 2008\n",
       "123. 2008\n",
       "124. 2008\n",
       "125. 1999\n",
       "126. 1999\n",
       "127. 2008\n",
       "128. 2008\n",
       "129. 2008\n",
       "130. 2008\n",
       "131. 1999\n",
       "132. 2008\n",
       "133. 2008\n",
       "134. 1999\n",
       "135. 1999\n",
       "136. 1999\n",
       "137. 2008\n",
       "138. 1999\n",
       "139. 2008\n",
       "140. 2008\n",
       "141. 1999\n",
       "142. 1999\n",
       "143. 1999\n",
       "144. 2008\n",
       "145. 2008\n",
       "146. 2008\n",
       "147. 2008\n",
       "148. 1999\n",
       "149. 1999\n",
       "150. 2008\n",
       "151. 1999\n",
       "152. 1999\n",
       "153. 2008\n",
       "154. 2008\n",
       "155. 1999\n",
       "156. 1999\n",
       "157. 1999\n",
       "158. 2008\n",
       "159. 2008\n",
       "160. 1999\n",
       "161. 1999\n",
       "162. 2008\n",
       "163. 2008\n",
       "164. 2008\n",
       "165. 2008\n",
       "166. 1999\n",
       "167. 1999\n",
       "168. 1999\n",
       "169. 1999\n",
       "170. 2008\n",
       "171. 2008\n",
       "172. 2008\n",
       "173. 2008\n",
       "174. 1999\n",
       "175. 1999\n",
       "176. 1999\n",
       "177. 1999\n",
       "178. 2008\n",
       "179. 2008\n",
       "180. 1999\n",
       "181. 1999\n",
       "182. 2008\n",
       "183. 2008\n",
       "184. 1999\n",
       "185. 1999\n",
       "186. 2008\n",
       "187. 1999\n",
       "188. 1999\n",
       "189. 2008\n",
       "190. 2008\n",
       "191. 1999\n",
       "192. 1999\n",
       "193. 2008\n",
       "194. 1999\n",
       "195. 1999\n",
       "196. 1999\n",
       "197. 2008\n",
       "198. 2008\n",
       "199. 1999\n",
       "200. 2008\n",
       "201. 1999\n",
       "202. 1999\n",
       "203. 2008\n",
       "204. 1999\n",
       "205. 1999\n",
       "206. 2008\n",
       "207. 2008\n",
       "208. 1999\n",
       "209. 1999\n",
       "210. 2008\n",
       "211. 2008\n",
       "212. 1999\n",
       "213. 1999\n",
       "214. 1999\n",
       "215. 1999\n",
       "216. 2008\n",
       "217. 2008\n",
       "218. 2008\n",
       "219. 2008\n",
       "220. 1999\n",
       "221. 1999\n",
       "222. 1999\n",
       "223. 1999\n",
       "224. 1999\n",
       "225. 1999\n",
       "226. 2008\n",
       "227. 2008\n",
       "228. 1999\n",
       "229. 1999\n",
       "230. 2008\n",
       "231. 2008\n",
       "232. 1999\n",
       "233. 1999\n",
       "234. 2008\n",
       "\n",
       "\n"
      ],
      "text/plain": [
       "  [1] 1999 1999 2008 2008 1999 1999 2008 1999 1999 2008 2008 1999 1999 2008 2008\n",
       " [16] 1999 2008 2008 2008 2008 2008 1999 2008 1999 1999 2008 2008 2008 2008 2008\n",
       " [31] 1999 1999 1999 2008 1999 2008 2008 1999 1999 1999 1999 2008 2008 2008 1999\n",
       " [46] 1999 2008 2008 2008 2008 1999 1999 2008 2008 2008 1999 1999 1999 2008 2008\n",
       " [61] 2008 1999 2008 1999 2008 2008 2008 2008 2008 2008 1999 1999 2008 1999 1999\n",
       " [76] 1999 2008 1999 1999 1999 2008 2008 1999 1999 1999 1999 1999 2008 1999 2008\n",
       " [91] 1999 1999 2008 2008 1999 1999 2008 2008 2008 1999 1999 1999 1999 1999 2008\n",
       "[106] 2008 2008 2008 1999 1999 2008 2008 1999 1999 2008 1999 1999 2008 2008 2008\n",
       "[121] 2008 2008 2008 2008 1999 1999 2008 2008 2008 2008 1999 2008 2008 1999 1999\n",
       "[136] 1999 2008 1999 2008 2008 1999 1999 1999 2008 2008 2008 2008 1999 1999 2008\n",
       "[151] 1999 1999 2008 2008 1999 1999 1999 2008 2008 1999 1999 2008 2008 2008 2008\n",
       "[166] 1999 1999 1999 1999 2008 2008 2008 2008 1999 1999 1999 1999 2008 2008 1999\n",
       "[181] 1999 2008 2008 1999 1999 2008 1999 1999 2008 2008 1999 1999 2008 1999 1999\n",
       "[196] 1999 2008 2008 1999 2008 1999 1999 2008 1999 1999 2008 2008 1999 1999 2008\n",
       "[211] 2008 1999 1999 1999 1999 2008 2008 2008 2008 1999 1999 1999 1999 1999 1999\n",
       "[226] 2008 2008 1999 1999 2008 2008 1999 1999 2008"
      ]
     },
     "metadata": {},
     "output_type": "display_data"
    }
   ],
   "source": [
    "mpg$year"
   ]
  },
  {
   "cell_type": "code",
   "execution_count": 16,
   "id": "329f701f",
   "metadata": {},
   "outputs": [
    {
     "data": {
      "text/html": [
       "<table>\n",
       "<thead><tr><th scope=col>manufacturer</th><th scope=col>model</th><th scope=col>year</th></tr></thead>\n",
       "<tbody>\n",
       "\t<tr><td>audi</td><td>a4  </td><td>2008</td></tr>\n",
       "</tbody>\n",
       "</table>\n"
      ],
      "text/latex": [
       "\\begin{tabular}{r|lll}\n",
       " manufacturer & model & year\\\\\n",
       "\\hline\n",
       "\t audi & a4   & 2008\\\\\n",
       "\\end{tabular}\n"
      ],
      "text/markdown": [
       "\n",
       "| manufacturer | model | year |\n",
       "|---|---|---|\n",
       "| audi | a4   | 2008 |\n",
       "\n"
      ],
      "text/plain": [
       "  manufacturer model year\n",
       "1 audi         a4    2008"
      ]
     },
     "metadata": {},
     "output_type": "display_data"
    }
   ],
   "source": [
    "mpg[mpg$hwy > 30 & mpg$model == \"a4\", c(\"manufacturer\", \"model\", \"year\")]"
   ]
  },
  {
   "cell_type": "markdown",
   "id": "e90d29d8",
   "metadata": {},
   "source": [
    "#### Central tendency"
   ]
  },
  {
   "cell_type": "code",
   "execution_count": 2,
   "id": "23f0095e",
   "metadata": {},
   "outputs": [
    {
     "data": {
      "text/html": [
       "16.8589743589744"
      ],
      "text/latex": [
       "16.8589743589744"
      ],
      "text/markdown": [
       "16.8589743589744"
      ],
      "text/plain": [
       "[1] 16.85897"
      ]
     },
     "metadata": {},
     "output_type": "display_data"
    }
   ],
   "source": [
    "mean(mpg$cty)"
   ]
  },
  {
   "cell_type": "code",
   "execution_count": 17,
   "id": "784cc36b",
   "metadata": {},
   "outputs": [
    {
     "data": {
      "text/html": [
       "17"
      ],
      "text/latex": [
       "17"
      ],
      "text/markdown": [
       "17"
      ],
      "text/plain": [
       "[1] 17"
      ]
     },
     "metadata": {},
     "output_type": "display_data"
    }
   ],
   "source": [
    "median(mpg$cty)"
   ]
  },
  {
   "cell_type": "markdown",
   "id": "d406ee44",
   "metadata": {},
   "source": [
    "#### Spread"
   ]
  },
  {
   "cell_type": "code",
   "execution_count": 18,
   "id": "c072805e",
   "metadata": {},
   "outputs": [
    {
     "data": {
      "text/html": [
       "18.1130736216573"
      ],
      "text/latex": [
       "18.1130736216573"
      ],
      "text/markdown": [
       "18.1130736216573"
      ],
      "text/plain": [
       "[1] 18.11307"
      ]
     },
     "metadata": {},
     "output_type": "display_data"
    }
   ],
   "source": [
    "var(mpg$cty)"
   ]
  },
  {
   "cell_type": "code",
   "execution_count": 19,
   "id": "dd8d7715",
   "metadata": {},
   "outputs": [
    {
     "data": {
      "text/html": [
       "4.2559456788894"
      ],
      "text/latex": [
       "4.2559456788894"
      ],
      "text/markdown": [
       "4.2559456788894"
      ],
      "text/plain": [
       "[1] 4.255946"
      ]
     },
     "metadata": {},
     "output_type": "display_data"
    }
   ],
   "source": [
    "sd(mpg$cty)"
   ]
  },
  {
   "cell_type": "code",
   "execution_count": 22,
   "id": "9ebc21c3",
   "metadata": {},
   "outputs": [
    {
     "data": {
      "text/html": [
       "35"
      ],
      "text/latex": [
       "35"
      ],
      "text/markdown": [
       "35"
      ],
      "text/plain": [
       "[1] 35"
      ]
     },
     "metadata": {},
     "output_type": "display_data"
    },
    {
     "data": {
      "text/html": [
       "9"
      ],
      "text/latex": [
       "9"
      ],
      "text/markdown": [
       "9"
      ],
      "text/plain": [
       "[1] 9"
      ]
     },
     "metadata": {},
     "output_type": "display_data"
    },
    {
     "data": {
      "text/html": [
       "<ol class=list-inline>\n",
       "\t<li>9</li>\n",
       "\t<li>35</li>\n",
       "</ol>\n"
      ],
      "text/latex": [
       "\\begin{enumerate*}\n",
       "\\item 9\n",
       "\\item 35\n",
       "\\end{enumerate*}\n"
      ],
      "text/markdown": [
       "1. 9\n",
       "2. 35\n",
       "\n",
       "\n"
      ],
      "text/plain": [
       "[1]  9 35"
      ]
     },
     "metadata": {},
     "output_type": "display_data"
    }
   ],
   "source": [
    "max(mpg$cty)\n",
    "min(mpg$cty)\n",
    "range(mpg$cty)"
   ]
  },
  {
   "cell_type": "markdown",
   "id": "877225c6",
   "metadata": {},
   "source": [
    "#### Categorical"
   ]
  },
  {
   "cell_type": "code",
   "execution_count": 23,
   "id": "885af793",
   "metadata": {},
   "outputs": [
    {
     "data": {
      "text/plain": [
       "\n",
       "  4   f   r \n",
       "103 106  25 "
      ]
     },
     "metadata": {},
     "output_type": "display_data"
    }
   ],
   "source": [
    "table(mpg$drv)"
   ]
  },
  {
   "cell_type": "code",
   "execution_count": 24,
   "id": "b62b8f55",
   "metadata": {},
   "outputs": [
    {
     "data": {
      "text/plain": [
       "\n",
       "        4         f         r \n",
       "0.4401709 0.4529915 0.1068376 "
      ]
     },
     "metadata": {},
     "output_type": "display_data"
    }
   ],
   "source": [
    "table(mpg$drv) / nrow(mpg)"
   ]
  },
  {
   "cell_type": "markdown",
   "id": "1f5c4b51",
   "metadata": {},
   "source": [
    "### 2. Plotting\n",
    "Four main methods:\n",
    "- Histograms\n",
    "- Barplots\n",
    "- Boxplots\n",
    "- Scatterplots"
   ]
  },
  {
   "cell_type": "markdown",
   "id": "3b123fd0",
   "metadata": {},
   "source": [
    "#### 2.1 Histograms\n",
    "hist()"
   ]
  },
  {
   "cell_type": "code",
   "execution_count": 40,
   "id": "8130bb05",
   "metadata": {},
   "outputs": [
    {
     "data": {
      "image/png": "[encoded data removed]",
      "text/plain": [
       "Plot with title \"Histogram of MPG (City)\""
      ]
     },
     "metadata": {},
     "output_type": "display_data"
    }
   ],
   "source": [
    "hist(mpg$cty,\n",
    "    xlab = \"Miles Per Gallon (City)\",\n",
    "    main = \"Histogram of MPG (City)\",\n",
    "    breaks = 12,\n",
    "    col = \"lightblue\",\n",
    "    border = \"black\")"
   ]
  },
  {
   "cell_type": "code",
   "execution_count": 31,
   "id": "87df5234",
   "metadata": {},
   "outputs": [],
   "source": [
    "?hist"
   ]
  },
  {
   "cell_type": "markdown",
   "id": "1ede2048",
   "metadata": {},
   "source": [
    "#### 2.2 Barplots\n",
    "barplot()"
   ]
  },
  {
   "cell_type": "code",
   "execution_count": 47,
   "id": "9a6dde73",
   "metadata": {},
   "outputs": [
    {
     "data": {
      "image/png": "[encoded data removed]",
      "text/plain": [
       "Plot with title \"Drivetrains\""
      ]
     },
     "metadata": {},
     "output_type": "display_data"
    }
   ],
   "source": [
    "barplot(table(mpg$drv),\n",
    "       xlab = \"Drivetrain (f = FWD, r = RWD, 4 = 4WD)\",\n",
    "       ylab = \"Frequency\",\n",
    "       main = \"Drivetrains\",\n",
    "       col  = \"lightblue\",\n",
    "       border = \"black\")"
   ]
  },
  {
   "cell_type": "code",
   "execution_count": 48,
   "id": "7b4bc377",
   "metadata": {},
   "outputs": [],
   "source": [
    "?barplot"
   ]
  },
  {
   "cell_type": "markdown",
   "id": "ac028333",
   "metadata": {},
   "source": [
    "#### 3. Boxplots"
   ]
  },
  {
   "cell_type": "code",
   "execution_count": 49,
   "id": "78788111",
   "metadata": {},
   "outputs": [
    {
     "data": {
      "text/html": [
       "<ol class=list-inline>\n",
       "\t<li>'f'</li>\n",
       "\t<li>'4'</li>\n",
       "\t<li>'r'</li>\n",
       "</ol>\n"
      ],
      "text/latex": [
       "\\begin{enumerate*}\n",
       "\\item 'f'\n",
       "\\item '4'\n",
       "\\item 'r'\n",
       "\\end{enumerate*}\n"
      ],
      "text/markdown": [
       "1. 'f'\n",
       "2. '4'\n",
       "3. 'r'\n",
       "\n",
       "\n"
      ],
      "text/plain": [
       "[1] \"f\" \"4\" \"r\""
      ]
     },
     "metadata": {},
     "output_type": "display_data"
    }
   ],
   "source": [
    "unique(mpg$drv) #return unique value of a set"
   ]
  },
  {
   "cell_type": "code",
   "execution_count": 51,
   "id": "fd385b65",
   "metadata": {},
   "outputs": [
    {
     "data": {
      "image/png": "[encoded data removed]",
      "text/plain": [
       "plot without title"
      ]
     },
     "metadata": {},
     "output_type": "display_data"
    }
   ],
   "source": [
    "boxplot(mpg$hwy)"
   ]
  },
  {
   "cell_type": "markdown",
   "id": "78202a7b",
   "metadata": {},
   "source": [
    "Can use boxplots to compare a numerical variable for different values of a categorical variable"
   ]
  },
  {
   "cell_type": "code",
   "execution_count": 53,
   "id": "f9e847b9",
   "metadata": {},
   "outputs": [
    {
     "data": {
      "image/png": "[encoded data removed]",
      "text/plain": [
       "Plot with title \"MPG (Highway) vs Drivetrain\""
      ]
     },
     "metadata": {},
     "output_type": "display_data"
    }
   ],
   "source": [
    "boxplot(hwy ~ drv, data = mpg,\n",
    "    xlab = \"Drivetrain (f = FWD, r = RWD, 4 = 4WD)\",\n",
    "    ylab = \"Miles Per Gallon (Highway)\",\n",
    "    main = \"MPG (Highway) vs Drivetrain\",\n",
    "    pch = 20,\n",
    "    cex = 2,\n",
    "    col = \"lightblue\",\n",
    "    border = \"black\")"
   ]
  },
  {
   "cell_type": "markdown",
   "id": "4ab8f50b",
   "metadata": {},
   "source": [
    "#### 4. Scatterplots"
   ]
  },
  {
   "cell_type": "code",
   "execution_count": 56,
   "id": "62fd394d",
   "metadata": {},
   "outputs": [
    {
     "data": {
      "image/png": "[encoded data removed]",
      "text/plain": [
       "Plot with title \"MPG (Highway) vs Engine Displacement\""
      ]
     },
     "metadata": {},
     "output_type": "display_data"
    }
   ],
   "source": [
    "plot(hwy ~ displ, data = mpg,\n",
    "    xlab = \"Engine Displacement (in Liters)\",\n",
    "    ylab = \"Miles Per Gallon (Highway)\",\n",
    "    main = \"MPG (Highway) vs Engine Displacement\",\n",
    "    pch = 20,\n",
    "    cex = 2)"
   ]
  },
  {
   "cell_type": "code",
   "execution_count": null,
   "id": "7d7416af",
   "metadata": {},
   "outputs": [],
   "source": []
  }
 ],
 "metadata": {
  "kernelspec": {
   "display_name": "R",
   "language": "R",
   "name": "ir"
  },
  "language_info": {
   "codemirror_mode": "r",
   "file_extension": ".r",
   "mimetype": "text/x-r-source",
   "name": "R",
   "pygments_lexer": "r",
   "version": "3.6.1"
  }
 },
 "nbformat": 4,
 "nbformat_minor": 5
}
